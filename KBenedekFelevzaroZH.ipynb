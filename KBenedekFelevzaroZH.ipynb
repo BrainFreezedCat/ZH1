{
    "metadata": {
        "kernelspec": {
            "name": "SQL",
            "display_name": "SQL",
            "language": "sql"
        },
        "language_info": {
            "name": "sql",
            "version": ""
        }
    },
    "nbformat_minor": 2,
    "nbformat": 4,
    "cells": [
        {
            "cell_type": "markdown",
            "source": [
                "Jelenítsük meg minden egyes szoba esetén, hogy hányszor foglalták le!\n",
                "\n",
                "- Csak a szoba azonosítója és a foglalások darabszáma jelenjen meg\n",
                "- Azok a szobák is jelenjenek meg, ahol nem történt foglalás"
            ],
            "metadata": {
                "azdata_cell_guid": "44fa07a7-efe0-45f8-94a7-40f5a37d33d4"
            },
            "attachments": {}
        },
        {
            "cell_type": "code",
            "source": [
                "SELECT SZOBA_SZAMA, COUNT(*) AS foglalasok_szalma\r\n",
                "FROM szoba\r\n",
                "GROUP BY szoba_szama"
            ],
            "metadata": {
                "azdata_cell_guid": "4bd9801a-c660-40b7-b905-a4f7f57edcfe",
                "language": "sql",
                "tags": [
                    "hide_input"
                ]
            },
            "outputs": [
                {
                    "output_type": "display_data",
                    "data": {
                        "text/html": "(50 rows affected)"
                    },
                    "metadata": {}
                },
                {
                    "output_type": "display_data",
                    "data": {
                        "text/html": "Total execution time: 00:00:00.007"
                    },
                    "metadata": {}
                },
                {
                    "output_type": "execute_result",
                    "metadata": {},
                    "execution_count": 8,
                    "data": {
                        "application/vnd.dataresource+json": {
                            "schema": {
                                "fields": [
                                    {
                                        "name": "SZOBA_SZAMA"
                                    },
                                    {
                                        "name": "foglalasok_szalma"
                                    }
                                ]
                            },
                            "data": [
                                {
                                    "SZOBA_SZAMA": "1",
                                    "foglalasok_szalma": "20"
                                },
                                {
                                    "SZOBA_SZAMA": "10",
                                    "foglalasok_szalma": "12"
                                },
                                {
                                    "SZOBA_SZAMA": "11",
                                    "foglalasok_szalma": "10"
                                },
                                {
                                    "SZOBA_SZAMA": "12",
                                    "foglalasok_szalma": "10"
                                },
                                {
                                    "SZOBA_SZAMA": "13",
                                    "foglalasok_szalma": "7"
                                },
                                {
                                    "SZOBA_SZAMA": "14",
                                    "foglalasok_szalma": "7"
                                },
                                {
                                    "SZOBA_SZAMA": "15",
                                    "foglalasok_szalma": "7"
                                },
                                {
                                    "SZOBA_SZAMA": "16",
                                    "foglalasok_szalma": "5"
                                },
                                {
                                    "SZOBA_SZAMA": "17",
                                    "foglalasok_szalma": "5"
                                },
                                {
                                    "SZOBA_SZAMA": "18",
                                    "foglalasok_szalma": "5"
                                },
                                {
                                    "SZOBA_SZAMA": "19",
                                    "foglalasok_szalma": "5"
                                },
                                {
                                    "SZOBA_SZAMA": "2",
                                    "foglalasok_szalma": "20"
                                },
                                {
                                    "SZOBA_SZAMA": "20",
                                    "foglalasok_szalma": "5"
                                },
                                {
                                    "SZOBA_SZAMA": "21",
                                    "foglalasok_szalma": "4"
                                },
                                {
                                    "SZOBA_SZAMA": "22",
                                    "foglalasok_szalma": "4"
                                },
                                {
                                    "SZOBA_SZAMA": "23",
                                    "foglalasok_szalma": "4"
                                },
                                {
                                    "SZOBA_SZAMA": "24",
                                    "foglalasok_szalma": "4"
                                },
                                {
                                    "SZOBA_SZAMA": "25",
                                    "foglalasok_szalma": "4"
                                },
                                {
                                    "SZOBA_SZAMA": "26",
                                    "foglalasok_szalma": "3"
                                },
                                {
                                    "SZOBA_SZAMA": "27",
                                    "foglalasok_szalma": "3"
                                },
                                {
                                    "SZOBA_SZAMA": "28",
                                    "foglalasok_szalma": "3"
                                },
                                {
                                    "SZOBA_SZAMA": "29",
                                    "foglalasok_szalma": "3"
                                },
                                {
                                    "SZOBA_SZAMA": "3",
                                    "foglalasok_szalma": "20"
                                },
                                {
                                    "SZOBA_SZAMA": "30",
                                    "foglalasok_szalma": "3"
                                },
                                {
                                    "SZOBA_SZAMA": "31",
                                    "foglalasok_szalma": "3"
                                },
                                {
                                    "SZOBA_SZAMA": "32",
                                    "foglalasok_szalma": "3"
                                },
                                {
                                    "SZOBA_SZAMA": "33",
                                    "foglalasok_szalma": "3"
                                },
                                {
                                    "SZOBA_SZAMA": "34",
                                    "foglalasok_szalma": "3"
                                },
                                {
                                    "SZOBA_SZAMA": "35",
                                    "foglalasok_szalma": "3"
                                },
                                {
                                    "SZOBA_SZAMA": "36",
                                    "foglalasok_szalma": "2"
                                },
                                {
                                    "SZOBA_SZAMA": "37",
                                    "foglalasok_szalma": "2"
                                },
                                {
                                    "SZOBA_SZAMA": "38",
                                    "foglalasok_szalma": "2"
                                },
                                {
                                    "SZOBA_SZAMA": "39",
                                    "foglalasok_szalma": "2"
                                },
                                {
                                    "SZOBA_SZAMA": "4",
                                    "foglalasok_szalma": "19"
                                },
                                {
                                    "SZOBA_SZAMA": "40",
                                    "foglalasok_szalma": "1"
                                },
                                {
                                    "SZOBA_SZAMA": "41",
                                    "foglalasok_szalma": "1"
                                },
                                {
                                    "SZOBA_SZAMA": "42",
                                    "foglalasok_szalma": "1"
                                },
                                {
                                    "SZOBA_SZAMA": "43",
                                    "foglalasok_szalma": "1"
                                },
                                {
                                    "SZOBA_SZAMA": "44",
                                    "foglalasok_szalma": "1"
                                },
                                {
                                    "SZOBA_SZAMA": "45",
                                    "foglalasok_szalma": "1"
                                },
                                {
                                    "SZOBA_SZAMA": "46",
                                    "foglalasok_szalma": "1"
                                },
                                {
                                    "SZOBA_SZAMA": "47",
                                    "foglalasok_szalma": "1"
                                },
                                {
                                    "SZOBA_SZAMA": "48",
                                    "foglalasok_szalma": "1"
                                },
                                {
                                    "SZOBA_SZAMA": "49",
                                    "foglalasok_szalma": "1"
                                },
                                {
                                    "SZOBA_SZAMA": "5",
                                    "foglalasok_szalma": "16"
                                },
                                {
                                    "SZOBA_SZAMA": "50",
                                    "foglalasok_szalma": "1"
                                },
                                {
                                    "SZOBA_SZAMA": "6",
                                    "foglalasok_szalma": "14"
                                },
                                {
                                    "SZOBA_SZAMA": "7",
                                    "foglalasok_szalma": "13"
                                },
                                {
                                    "SZOBA_SZAMA": "8",
                                    "foglalasok_szalma": "13"
                                },
                                {
                                    "SZOBA_SZAMA": "9",
                                    "foglalasok_szalma": "12"
                                }
                            ]
                        },
                        "text/html": [
                            "<table>",
                            "<tr><th>SZOBA_SZAMA</th><th>foglalasok_szalma</th></tr>",
                            "<tr><td>1</td><td>20</td></tr>",
                            "<tr><td>10</td><td>12</td></tr>",
                            "<tr><td>11</td><td>10</td></tr>",
                            "<tr><td>12</td><td>10</td></tr>",
                            "<tr><td>13</td><td>7</td></tr>",
                            "<tr><td>14</td><td>7</td></tr>",
                            "<tr><td>15</td><td>7</td></tr>",
                            "<tr><td>16</td><td>5</td></tr>",
                            "<tr><td>17</td><td>5</td></tr>",
                            "<tr><td>18</td><td>5</td></tr>",
                            "<tr><td>19</td><td>5</td></tr>",
                            "<tr><td>2</td><td>20</td></tr>",
                            "<tr><td>20</td><td>5</td></tr>",
                            "<tr><td>21</td><td>4</td></tr>",
                            "<tr><td>22</td><td>4</td></tr>",
                            "<tr><td>23</td><td>4</td></tr>",
                            "<tr><td>24</td><td>4</td></tr>",
                            "<tr><td>25</td><td>4</td></tr>",
                            "<tr><td>26</td><td>3</td></tr>",
                            "<tr><td>27</td><td>3</td></tr>",
                            "<tr><td>28</td><td>3</td></tr>",
                            "<tr><td>29</td><td>3</td></tr>",
                            "<tr><td>3</td><td>20</td></tr>",
                            "<tr><td>30</td><td>3</td></tr>",
                            "<tr><td>31</td><td>3</td></tr>",
                            "<tr><td>32</td><td>3</td></tr>",
                            "<tr><td>33</td><td>3</td></tr>",
                            "<tr><td>34</td><td>3</td></tr>",
                            "<tr><td>35</td><td>3</td></tr>",
                            "<tr><td>36</td><td>2</td></tr>",
                            "<tr><td>37</td><td>2</td></tr>",
                            "<tr><td>38</td><td>2</td></tr>",
                            "<tr><td>39</td><td>2</td></tr>",
                            "<tr><td>4</td><td>19</td></tr>",
                            "<tr><td>40</td><td>1</td></tr>",
                            "<tr><td>41</td><td>1</td></tr>",
                            "<tr><td>42</td><td>1</td></tr>",
                            "<tr><td>43</td><td>1</td></tr>",
                            "<tr><td>44</td><td>1</td></tr>",
                            "<tr><td>45</td><td>1</td></tr>",
                            "<tr><td>46</td><td>1</td></tr>",
                            "<tr><td>47</td><td>1</td></tr>",
                            "<tr><td>48</td><td>1</td></tr>",
                            "<tr><td>49</td><td>1</td></tr>",
                            "<tr><td>5</td><td>16</td></tr>",
                            "<tr><td>50</td><td>1</td></tr>",
                            "<tr><td>6</td><td>14</td></tr>",
                            "<tr><td>7</td><td>13</td></tr>",
                            "<tr><td>8</td><td>13</td></tr>",
                            "<tr><td>9</td><td>12</td></tr>",
                            "</table>"
                        ]
                    }
                }
            ],
            "execution_count": 8
        },
        {
            "cell_type": "markdown",
            "source": [
                "Listázzuk azon vendégek adatait, akik a legtöbb férőhelyes szobát (vagy szobákat) már lefoglalták!\n",
                "\n",
                "- Csak klímás szoba jöhet számításba"
            ],
            "metadata": {
                "azdata_cell_guid": "ce8822b4-127a-4aaf-a9be-c86b2cf227bc"
            },
            "attachments": {}
        },
        {
            "cell_type": "code",
            "source": [
                "SELECT v.nev, COUNT(*) AS foglalasok_szalma, SUM(s.ferohely) AS foglalt_ferohelyek\r\n",
                "FROM foglalas f\r\n",
                "JOIN szoba s ON f.SZOBA_FK = s.szoba_id\r\n",
                "JOIN vendeg v ON f.ugyfel_fk = v.usernev\r\n",
                "WHERE s.klimas = 'i'\r\n",
                "GROUP BY v.nev\r\n",
                "ORDER BY foglalasok_szalma DESC, foglalt_ferohelyek DESC"
            ],
            "metadata": {
                "azdata_cell_guid": "a2aed630-3e6d-4b20-b128-1dc2a957511f",
                "language": "sql",
                "tags": [
                    "hide_input"
                ]
            },
            "outputs": [
                {
                    "output_type": "display_data",
                    "data": {
                        "text/html": "(191 rows affected)"
                    },
                    "metadata": {}
                },
                {
                    "output_type": "display_data",
                    "data": {
                        "text/html": "Total execution time: 00:00:00.010"
                    },
                    "metadata": {}
                },
                {
                    "output_type": "execute_result",
                    "metadata": {},
                    "execution_count": 13,
                    "data": {
                        "application/vnd.dataresource+json": {
                            "schema": {
                                "fields": [
                                    {
                                        "name": "nev"
                                    },
                                    {
                                        "name": "foglalasok_szalma"
                                    },
                                    {
                                        "name": "foglalt_ferohelyek"
                                    }
                                ]
                            },
                            "data": [
                                {
                                    "nev": "Komjáti András",
                                    "foglalasok_szalma": "11",
                                    "foglalt_ferohelyek": "26"
                                },
                                {
                                    "nev": "Molnár Bálint",
                                    "foglalasok_szalma": "10",
                                    "foglalt_ferohelyek": "25"
                                },
                                {
                                    "nev": "Kovács Katalin",
                                    "foglalasok_szalma": "8",
                                    "foglalt_ferohelyek": "22"
                                },
                                {
                                    "nev": "Farkas Sára",
                                    "foglalasok_szalma": "8",
                                    "foglalt_ferohelyek": "22"
                                },
                                {
                                    "nev": "Gondos Katalin",
                                    "foglalasok_szalma": "8",
                                    "foglalt_ferohelyek": "20"
                                },
                                {
                                    "nev": "Szűcs Balázs",
                                    "foglalasok_szalma": "8",
                                    "foglalt_ferohelyek": "20"
                                },
                                {
                                    "nev": "Bíró Ákos",
                                    "foglalasok_szalma": "8",
                                    "foglalt_ferohelyek": "19"
                                },
                                {
                                    "nev": "Kelemen Áron",
                                    "foglalasok_szalma": "8",
                                    "foglalt_ferohelyek": "19"
                                },
                                {
                                    "nev": "Balogh Eszter",
                                    "foglalasok_szalma": "7",
                                    "foglalt_ferohelyek": "19"
                                },
                                {
                                    "nev": "Turcsik Tünde",
                                    "foglalasok_szalma": "7",
                                    "foglalt_ferohelyek": "19"
                                },
                                {
                                    "nev": "Bittmann Edit",
                                    "foglalasok_szalma": "7",
                                    "foglalt_ferohelyek": "18"
                                },
                                {
                                    "nev": "Czérna Krisztián",
                                    "foglalasok_szalma": "7",
                                    "foglalt_ferohelyek": "17"
                                },
                                {
                                    "nev": "Fényes Tamás",
                                    "foglalasok_szalma": "7",
                                    "foglalt_ferohelyek": "17"
                                },
                                {
                                    "nev": "Szedlár Krisztina",
                                    "foglalasok_szalma": "7",
                                    "foglalt_ferohelyek": "17"
                                },
                                {
                                    "nev": "Simon Anikó",
                                    "foglalasok_szalma": "7",
                                    "foglalt_ferohelyek": "16"
                                },
                                {
                                    "nev": "Kerényi Beatrix",
                                    "foglalasok_szalma": "7",
                                    "foglalt_ferohelyek": "16"
                                },
                                {
                                    "nev": "Horváth Katalin",
                                    "foglalasok_szalma": "7",
                                    "foglalt_ferohelyek": "16"
                                },
                                {
                                    "nev": "Miklós Szabolcs",
                                    "foglalasok_szalma": "7",
                                    "foglalt_ferohelyek": "16"
                                },
                                {
                                    "nev": "Nagy Gabriella",
                                    "foglalasok_szalma": "6",
                                    "foglalt_ferohelyek": "17"
                                },
                                {
                                    "nev": "Orbán Bernadett",
                                    "foglalasok_szalma": "6",
                                    "foglalt_ferohelyek": "16"
                                },
                                {
                                    "nev": "Köves Gábor",
                                    "foglalasok_szalma": "6",
                                    "foglalt_ferohelyek": "16"
                                },
                                {
                                    "nev": "Bakódy Balázs",
                                    "foglalasok_szalma": "6",
                                    "foglalt_ferohelyek": "16"
                                },
                                {
                                    "nev": "Rácz Dániel",
                                    "foglalasok_szalma": "6",
                                    "foglalt_ferohelyek": "16"
                                },
                                {
                                    "nev": "Tari Szilvia",
                                    "foglalasok_szalma": "6",
                                    "foglalt_ferohelyek": "16"
                                },
                                {
                                    "nev": "Zatykó Katalin",
                                    "foglalasok_szalma": "6",
                                    "foglalt_ferohelyek": "15"
                                },
                                {
                                    "nev": "Ambrus Dávid",
                                    "foglalasok_szalma": "6",
                                    "foglalt_ferohelyek": "15"
                                },
                                {
                                    "nev": "Bagóczki Alexandra",
                                    "foglalasok_szalma": "6",
                                    "foglalt_ferohelyek": "15"
                                },
                                {
                                    "nev": "Kornseé Gyöngyi",
                                    "foglalasok_szalma": "6",
                                    "foglalt_ferohelyek": "15"
                                },
                                {
                                    "nev": "Kovács Bernadett",
                                    "foglalasok_szalma": "6",
                                    "foglalt_ferohelyek": "15"
                                },
                                {
                                    "nev": "Horváth Krisztina",
                                    "foglalasok_szalma": "6",
                                    "foglalt_ferohelyek": "15"
                                },
                                {
                                    "nev": "Horváth Árpád",
                                    "foglalasok_szalma": "6",
                                    "foglalt_ferohelyek": "15"
                                },
                                {
                                    "nev": "Kertész Katalin",
                                    "foglalasok_szalma": "6",
                                    "foglalt_ferohelyek": "15"
                                },
                                {
                                    "nev": "Mile Norbert",
                                    "foglalasok_szalma": "6",
                                    "foglalt_ferohelyek": "15"
                                },
                                {
                                    "nev": "Oroszi György",
                                    "foglalasok_szalma": "6",
                                    "foglalt_ferohelyek": "14"
                                },
                                {
                                    "nev": "Palágyi Polla",
                                    "foglalasok_szalma": "6",
                                    "foglalt_ferohelyek": "14"
                                },
                                {
                                    "nev": "Barna Zoltán",
                                    "foglalasok_szalma": "6",
                                    "foglalt_ferohelyek": "14"
                                },
                                {
                                    "nev": "Frank Fruzsina",
                                    "foglalasok_szalma": "6",
                                    "foglalt_ferohelyek": "14"
                                },
                                {
                                    "nev": "Szilágyi Mátyás",
                                    "foglalasok_szalma": "6",
                                    "foglalt_ferohelyek": "14"
                                },
                                {
                                    "nev": "Mohos Mónika",
                                    "foglalasok_szalma": "6",
                                    "foglalt_ferohelyek": "13"
                                },
                                {
                                    "nev": "Józsa Zsolt",
                                    "foglalasok_szalma": "6",
                                    "foglalt_ferohelyek": "13"
                                },
                                {
                                    "nev": "Iván Róbert",
                                    "foglalasok_szalma": "6",
                                    "foglalt_ferohelyek": "12"
                                },
                                {
                                    "nev": "Ötvös Árpád",
                                    "foglalasok_szalma": "5",
                                    "foglalt_ferohelyek": "14"
                                },
                                {
                                    "nev": "Foltényi Sebastián",
                                    "foglalasok_szalma": "5",
                                    "foglalt_ferohelyek": "14"
                                },
                                {
                                    "nev": "Szirmai Renáta",
                                    "foglalasok_szalma": "5",
                                    "foglalt_ferohelyek": "14"
                                },
                                {
                                    "nev": "Tömböly Dénes",
                                    "foglalasok_szalma": "5",
                                    "foglalt_ferohelyek": "13"
                                },
                                {
                                    "nev": "Győrffy Bence",
                                    "foglalasok_szalma": "5",
                                    "foglalt_ferohelyek": "13"
                                },
                                {
                                    "nev": "Harangozó János",
                                    "foglalasok_szalma": "5",
                                    "foglalt_ferohelyek": "13"
                                },
                                {
                                    "nev": "Molnár András",
                                    "foglalasok_szalma": "5",
                                    "foglalt_ferohelyek": "13"
                                },
                                {
                                    "nev": "Móricz Árpád",
                                    "foglalasok_szalma": "5",
                                    "foglalt_ferohelyek": "13"
                                },
                                {
                                    "nev": "Kispál Márk",
                                    "foglalasok_szalma": "5",
                                    "foglalt_ferohelyek": "13"
                                },
                                {
                                    "nev": "Kiss Andrea",
                                    "foglalasok_szalma": "5",
                                    "foglalt_ferohelyek": "13"
                                },
                                {
                                    "nev": "Kalacsi Márton",
                                    "foglalasok_szalma": "5",
                                    "foglalt_ferohelyek": "12"
                                },
                                {
                                    "nev": "Papp Imre",
                                    "foglalasok_szalma": "5",
                                    "foglalt_ferohelyek": "12"
                                },
                                {
                                    "nev": "Bárci Gusztáv",
                                    "foglalasok_szalma": "5",
                                    "foglalt_ferohelyek": "12"
                                },
                                {
                                    "nev": "Csiger Bertalan",
                                    "foglalasok_szalma": "5",
                                    "foglalt_ferohelyek": "12"
                                },
                                {
                                    "nev": "Boros Vivien",
                                    "foglalasok_szalma": "5",
                                    "foglalt_ferohelyek": "12"
                                },
                                {
                                    "nev": "Bíró Péter",
                                    "foglalasok_szalma": "5",
                                    "foglalt_ferohelyek": "12"
                                },
                                {
                                    "nev": "Viktor Éva",
                                    "foglalasok_szalma": "5",
                                    "foglalt_ferohelyek": "12"
                                },
                                {
                                    "nev": "Szalai Szilárd",
                                    "foglalasok_szalma": "5",
                                    "foglalt_ferohelyek": "12"
                                },
                                {
                                    "nev": "Szekendi Beatrix",
                                    "foglalasok_szalma": "5",
                                    "foglalt_ferohelyek": "11"
                                },
                                {
                                    "nev": "Vörös Dániel",
                                    "foglalasok_szalma": "5",
                                    "foglalt_ferohelyek": "11"
                                },
                                {
                                    "nev": "Hegedűs Norbert",
                                    "foglalasok_szalma": "5",
                                    "foglalt_ferohelyek": "11"
                                },
                                {
                                    "nev": "Maródi Andrea",
                                    "foglalasok_szalma": "5",
                                    "foglalt_ferohelyek": "11"
                                },
                                {
                                    "nev": "Keszler Dániel",
                                    "foglalasok_szalma": "5",
                                    "foglalt_ferohelyek": "11"
                                },
                                {
                                    "nev": "Jakab Áron",
                                    "foglalasok_szalma": "5",
                                    "foglalt_ferohelyek": "11"
                                },
                                {
                                    "nev": "Kuruc Emese",
                                    "foglalasok_szalma": "5",
                                    "foglalt_ferohelyek": "11"
                                },
                                {
                                    "nev": "Kő Nikoletta",
                                    "foglalasok_szalma": "5",
                                    "foglalt_ferohelyek": "11"
                                },
                                {
                                    "nev": "Mogyródi Krisztián",
                                    "foglalasok_szalma": "5",
                                    "foglalt_ferohelyek": "10"
                                },
                                {
                                    "nev": "Molnár Eszter",
                                    "foglalasok_szalma": "4",
                                    "foglalt_ferohelyek": "12"
                                },
                                {
                                    "nev": "Kazy Tihamér",
                                    "foglalasok_szalma": "4",
                                    "foglalt_ferohelyek": "12"
                                },
                                {
                                    "nev": "Gyuris József",
                                    "foglalasok_szalma": "4",
                                    "foglalt_ferohelyek": "12"
                                },
                                {
                                    "nev": "Telek Gábor",
                                    "foglalasok_szalma": "4",
                                    "foglalt_ferohelyek": "12"
                                },
                                {
                                    "nev": "Tankó Veronika",
                                    "foglalasok_szalma": "4",
                                    "foglalt_ferohelyek": "11"
                                },
                                {
                                    "nev": "Rácz Rajmond",
                                    "foglalasok_szalma": "4",
                                    "foglalt_ferohelyek": "11"
                                },
                                {
                                    "nev": "Simon Bernadett",
                                    "foglalasok_szalma": "4",
                                    "foglalt_ferohelyek": "11"
                                },
                                {
                                    "nev": "Vígh András",
                                    "foglalasok_szalma": "4",
                                    "foglalt_ferohelyek": "11"
                                },
                                {
                                    "nev": "Gulyás Attila",
                                    "foglalasok_szalma": "4",
                                    "foglalt_ferohelyek": "11"
                                },
                                {
                                    "nev": "Ferencz Roland",
                                    "foglalasok_szalma": "4",
                                    "foglalt_ferohelyek": "11"
                                },
                                {
                                    "nev": "Pataki Brigitta",
                                    "foglalasok_szalma": "4",
                                    "foglalt_ferohelyek": "11"
                                },
                                {
                                    "nev": "Nagymihály Csongor",
                                    "foglalasok_szalma": "4",
                                    "foglalt_ferohelyek": "11"
                                },
                                {
                                    "nev": "Nyíri Georgij",
                                    "foglalasok_szalma": "4",
                                    "foglalt_ferohelyek": "11"
                                },
                                {
                                    "nev": "Móra László",
                                    "foglalasok_szalma": "4",
                                    "foglalt_ferohelyek": "10"
                                },
                                {
                                    "nev": "Kardos Renáta",
                                    "foglalasok_szalma": "4",
                                    "foglalt_ferohelyek": "10"
                                },
                                {
                                    "nev": "Gyárfás Krisztina",
                                    "foglalasok_szalma": "4",
                                    "foglalt_ferohelyek": "10"
                                },
                                {
                                    "nev": "Bieniek Ádám",
                                    "foglalasok_szalma": "4",
                                    "foglalt_ferohelyek": "10"
                                },
                                {
                                    "nev": "Sobják Dávid",
                                    "foglalasok_szalma": "4",
                                    "foglalt_ferohelyek": "10"
                                },
                                {
                                    "nev": "Pivarcsi Anett",
                                    "foglalasok_szalma": "4",
                                    "foglalt_ferohelyek": "10"
                                },
                                {
                                    "nev": "Sarodi Dóra",
                                    "foglalasok_szalma": "4",
                                    "foglalt_ferohelyek": "10"
                                },
                                {
                                    "nev": "Szalai Péter",
                                    "foglalasok_szalma": "4",
                                    "foglalt_ferohelyek": "10"
                                },
                                {
                                    "nev": "Székely Brigitta",
                                    "foglalasok_szalma": "4",
                                    "foglalt_ferohelyek": "10"
                                },
                                {
                                    "nev": "Szikszai Réka",
                                    "foglalasok_szalma": "4",
                                    "foglalt_ferohelyek": "10"
                                },
                                {
                                    "nev": "Tóth András",
                                    "foglalasok_szalma": "4",
                                    "foglalt_ferohelyek": "10"
                                },
                                {
                                    "nev": "Szűcs Norbert",
                                    "foglalasok_szalma": "4",
                                    "foglalt_ferohelyek": "9"
                                },
                                {
                                    "nev": "Szabó Julianna",
                                    "foglalasok_szalma": "4",
                                    "foglalt_ferohelyek": "9"
                                },
                                {
                                    "nev": "Vajda József",
                                    "foglalasok_szalma": "4",
                                    "foglalt_ferohelyek": "9"
                                },
                                {
                                    "nev": "Antal Tamás",
                                    "foglalasok_szalma": "4",
                                    "foglalt_ferohelyek": "9"
                                },
                                {
                                    "nev": "Farkas Béla",
                                    "foglalasok_szalma": "4",
                                    "foglalt_ferohelyek": "9"
                                },
                                {
                                    "nev": "Nagy Sándor",
                                    "foglalasok_szalma": "4",
                                    "foglalt_ferohelyek": "9"
                                },
                                {
                                    "nev": "Nagymihály Lajos",
                                    "foglalasok_szalma": "4",
                                    "foglalt_ferohelyek": "9"
                                },
                                {
                                    "nev": "Pintér Zoltán",
                                    "foglalasok_szalma": "4",
                                    "foglalt_ferohelyek": "9"
                                },
                                {
                                    "nev": "Baráth Mária",
                                    "foglalasok_szalma": "4",
                                    "foglalt_ferohelyek": "8"
                                },
                                {
                                    "nev": "Csóti Attila",
                                    "foglalasok_szalma": "3",
                                    "foglalt_ferohelyek": "9"
                                },
                                {
                                    "nev": "Barabás Pál",
                                    "foglalasok_szalma": "3",
                                    "foglalt_ferohelyek": "9"
                                },
                                {
                                    "nev": "Fő Nándor",
                                    "foglalasok_szalma": "3",
                                    "foglalt_ferohelyek": "9"
                                },
                                {
                                    "nev": "Hartyánszky Ágnes",
                                    "foglalasok_szalma": "3",
                                    "foglalt_ferohelyek": "9"
                                },
                                {
                                    "nev": "Horváth Ágnes",
                                    "foglalasok_szalma": "3",
                                    "foglalt_ferohelyek": "9"
                                },
                                {
                                    "nev": "Tóth Roland",
                                    "foglalasok_szalma": "3",
                                    "foglalt_ferohelyek": "9"
                                },
                                {
                                    "nev": "Tóth Anikó",
                                    "foglalasok_szalma": "3",
                                    "foglalt_ferohelyek": "8"
                                },
                                {
                                    "nev": "Tatár Nikoletta",
                                    "foglalasok_szalma": "3",
                                    "foglalt_ferohelyek": "8"
                                },
                                {
                                    "nev": "Hídasi Judit",
                                    "foglalasok_szalma": "3",
                                    "foglalt_ferohelyek": "8"
                                },
                                {
                                    "nev": "Hamvay-Kovács Anita",
                                    "foglalasok_szalma": "3",
                                    "foglalt_ferohelyek": "8"
                                },
                                {
                                    "nev": "Bagi Beáta",
                                    "foglalasok_szalma": "3",
                                    "foglalt_ferohelyek": "8"
                                },
                                {
                                    "nev": "Bozsik Balázs",
                                    "foglalasok_szalma": "3",
                                    "foglalt_ferohelyek": "8"
                                },
                                {
                                    "nev": "Berendi Péter",
                                    "foglalasok_szalma": "3",
                                    "foglalt_ferohelyek": "8"
                                },
                                {
                                    "nev": "Perlinger Éva",
                                    "foglalasok_szalma": "3",
                                    "foglalt_ferohelyek": "8"
                                },
                                {
                                    "nev": "Nagy László",
                                    "foglalasok_szalma": "3",
                                    "foglalt_ferohelyek": "8"
                                },
                                {
                                    "nev": "Karasz Sándor",
                                    "foglalasok_szalma": "3",
                                    "foglalt_ferohelyek": "8"
                                },
                                {
                                    "nev": "Lengyel Ágnes",
                                    "foglalasok_szalma": "3",
                                    "foglalt_ferohelyek": "8"
                                },
                                {
                                    "nev": "Lukács Kornél",
                                    "foglalasok_szalma": "3",
                                    "foglalt_ferohelyek": "7"
                                },
                                {
                                    "nev": "Kozma Péter",
                                    "foglalasok_szalma": "3",
                                    "foglalt_ferohelyek": "7"
                                },
                                {
                                    "nev": "Kiss Lajos",
                                    "foglalasok_szalma": "3",
                                    "foglalt_ferohelyek": "7"
                                },
                                {
                                    "nev": "Horváth Nikolett",
                                    "foglalasok_szalma": "3",
                                    "foglalt_ferohelyek": "7"
                                },
                                {
                                    "nev": "Bozsó Péter",
                                    "foglalasok_szalma": "3",
                                    "foglalt_ferohelyek": "7"
                                },
                                {
                                    "nev": "Bosnyák Ilona",
                                    "foglalasok_szalma": "3",
                                    "foglalt_ferohelyek": "7"
                                },
                                {
                                    "nev": "Balla Miklós",
                                    "foglalasok_szalma": "3",
                                    "foglalt_ferohelyek": "7"
                                },
                                {
                                    "nev": "Farkas Sándor",
                                    "foglalasok_szalma": "3",
                                    "foglalt_ferohelyek": "7"
                                },
                                {
                                    "nev": "Giliga János",
                                    "foglalasok_szalma": "3",
                                    "foglalt_ferohelyek": "7"
                                },
                                {
                                    "nev": "Bucskó Róza",
                                    "foglalasok_szalma": "3",
                                    "foglalt_ferohelyek": "7"
                                },
                                {
                                    "nev": "Dusha Tímea",
                                    "foglalasok_szalma": "3",
                                    "foglalt_ferohelyek": "7"
                                },
                                {
                                    "nev": "Tóth Júlia",
                                    "foglalasok_szalma": "3",
                                    "foglalt_ferohelyek": "7"
                                },
                                {
                                    "nev": "Pulai Zsolt",
                                    "foglalasok_szalma": "3",
                                    "foglalt_ferohelyek": "7"
                                },
                                {
                                    "nev": "Pusztai Zsuzsanna",
                                    "foglalasok_szalma": "3",
                                    "foglalt_ferohelyek": "7"
                                },
                                {
                                    "nev": "Soós István",
                                    "foglalasok_szalma": "3",
                                    "foglalt_ferohelyek": "7"
                                },
                                {
                                    "nev": "Vajda Zsuzsa",
                                    "foglalasok_szalma": "3",
                                    "foglalt_ferohelyek": "7"
                                },
                                {
                                    "nev": "Urbán Viktoria",
                                    "foglalasok_szalma": "3",
                                    "foglalt_ferohelyek": "7"
                                },
                                {
                                    "nev": "Regős Annamária",
                                    "foglalasok_szalma": "3",
                                    "foglalt_ferohelyek": "6"
                                },
                                {
                                    "nev": "Tornyos Andrea",
                                    "foglalasok_szalma": "3",
                                    "foglalt_ferohelyek": "6"
                                },
                                {
                                    "nev": "Erdei András",
                                    "foglalasok_szalma": "3",
                                    "foglalt_ferohelyek": "6"
                                },
                                {
                                    "nev": "Érsek Eszter",
                                    "foglalasok_szalma": "3",
                                    "foglalt_ferohelyek": "6"
                                },
                                {
                                    "nev": "Böröcz Anikó",
                                    "foglalasok_szalma": "3",
                                    "foglalt_ferohelyek": "6"
                                },
                                {
                                    "nev": "Dunai Aladár",
                                    "foglalasok_szalma": "3",
                                    "foglalt_ferohelyek": "6"
                                },
                                {
                                    "nev": "Koza Máté",
                                    "foglalasok_szalma": "3",
                                    "foglalt_ferohelyek": "6"
                                },
                                {
                                    "nev": "Neizer Andrea",
                                    "foglalasok_szalma": "3",
                                    "foglalt_ferohelyek": "6"
                                },
                                {
                                    "nev": "Opra Attila",
                                    "foglalasok_szalma": "3",
                                    "foglalt_ferohelyek": "6"
                                },
                                {
                                    "nev": "Kiss Ádám",
                                    "foglalasok_szalma": "2",
                                    "foglalt_ferohelyek": "6"
                                },
                                {
                                    "nev": "Gondos Miklós",
                                    "foglalasok_szalma": "2",
                                    "foglalt_ferohelyek": "6"
                                },
                                {
                                    "nev": "Szűcs Annamária",
                                    "foglalasok_szalma": "2",
                                    "foglalt_ferohelyek": "6"
                                },
                                {
                                    "nev": "Tóth Zoltán",
                                    "foglalasok_szalma": "2",
                                    "foglalt_ferohelyek": "5"
                                },
                                {
                                    "nev": "Rab Sebestyén",
                                    "foglalasok_szalma": "2",
                                    "foglalt_ferohelyek": "5"
                                },
                                {
                                    "nev": "Vizi István",
                                    "foglalasok_szalma": "2",
                                    "foglalt_ferohelyek": "5"
                                },
                                {
                                    "nev": "Bori Krisztina",
                                    "foglalasok_szalma": "2",
                                    "foglalt_ferohelyek": "5"
                                },
                                {
                                    "nev": "Búza Imre",
                                    "foglalasok_szalma": "2",
                                    "foglalt_ferohelyek": "5"
                                },
                                {
                                    "nev": "Feró Valentin",
                                    "foglalasok_szalma": "2",
                                    "foglalt_ferohelyek": "5"
                                },
                                {
                                    "nev": "Fodor Zoltán",
                                    "foglalasok_szalma": "2",
                                    "foglalt_ferohelyek": "5"
                                },
                                {
                                    "nev": "Botka Mátyás",
                                    "foglalasok_szalma": "2",
                                    "foglalt_ferohelyek": "5"
                                },
                                {
                                    "nev": "Béres Norbert",
                                    "foglalasok_szalma": "2",
                                    "foglalt_ferohelyek": "5"
                                },
                                {
                                    "nev": "Bajusz Bence",
                                    "foglalasok_szalma": "2",
                                    "foglalt_ferohelyek": "5"
                                },
                                {
                                    "nev": "Bakó Klaudia",
                                    "foglalasok_szalma": "2",
                                    "foglalt_ferohelyek": "5"
                                },
                                {
                                    "nev": "Keresztúri Viktor",
                                    "foglalasok_szalma": "2",
                                    "foglalt_ferohelyek": "5"
                                },
                                {
                                    "nev": "Juhász Mihály",
                                    "foglalasok_szalma": "2",
                                    "foglalt_ferohelyek": "5"
                                },
                                {
                                    "nev": "Patay Róbert",
                                    "foglalasok_szalma": "2",
                                    "foglalt_ferohelyek": "5"
                                },
                                {
                                    "nev": "Pásztor Róbert",
                                    "foglalasok_szalma": "2",
                                    "foglalt_ferohelyek": "5"
                                },
                                {
                                    "nev": "Pálinkás János",
                                    "foglalasok_szalma": "2",
                                    "foglalt_ferohelyek": "5"
                                },
                                {
                                    "nev": "Nagy Júlia",
                                    "foglalasok_szalma": "2",
                                    "foglalt_ferohelyek": "5"
                                },
                                {
                                    "nev": "Molnár Zsófi",
                                    "foglalasok_szalma": "2",
                                    "foglalt_ferohelyek": "5"
                                },
                                {
                                    "nev": "Miklós Tamara",
                                    "foglalasok_szalma": "2",
                                    "foglalt_ferohelyek": "4"
                                },
                                {
                                    "nev": "Orosz Ferenc",
                                    "foglalasok_szalma": "2",
                                    "foglalt_ferohelyek": "4"
                                },
                                {
                                    "nev": "Kovács Ágnes",
                                    "foglalasok_szalma": "2",
                                    "foglalt_ferohelyek": "4"
                                },
                                {
                                    "nev": "Antal László",
                                    "foglalasok_szalma": "2",
                                    "foglalt_ferohelyek": "4"
                                },
                                {
                                    "nev": "Baróti Attila",
                                    "foglalasok_szalma": "1",
                                    "foglalt_ferohelyek": "3"
                                },
                                {
                                    "nev": "Enyedi Éva",
                                    "foglalasok_szalma": "1",
                                    "foglalt_ferohelyek": "3"
                                },
                                {
                                    "nev": "Nádudvari Henrik",
                                    "foglalasok_szalma": "1",
                                    "foglalt_ferohelyek": "3"
                                },
                                {
                                    "nev": "Nagy András",
                                    "foglalasok_szalma": "1",
                                    "foglalt_ferohelyek": "3"
                                },
                                {
                                    "nev": "Vukasinovity Bálint",
                                    "foglalasok_szalma": "1",
                                    "foglalt_ferohelyek": "3"
                                },
                                {
                                    "nev": "Vida Gabriella",
                                    "foglalasok_szalma": "1",
                                    "foglalt_ferohelyek": "3"
                                },
                                {
                                    "nev": "Varga István",
                                    "foglalasok_szalma": "1",
                                    "foglalt_ferohelyek": "3"
                                },
                                {
                                    "nev": "Szomor Andrea",
                                    "foglalasok_szalma": "1",
                                    "foglalt_ferohelyek": "3"
                                },
                                {
                                    "nev": "Varsányi Zsuzsa",
                                    "foglalasok_szalma": "1",
                                    "foglalt_ferohelyek": "2"
                                },
                                {
                                    "nev": "Papós Tímea",
                                    "foglalasok_szalma": "1",
                                    "foglalt_ferohelyek": "2"
                                },
                                {
                                    "nev": "Horváth Bálint",
                                    "foglalasok_szalma": "1",
                                    "foglalt_ferohelyek": "2"
                                },
                                {
                                    "nev": "Horváth Márk",
                                    "foglalasok_szalma": "1",
                                    "foglalt_ferohelyek": "2"
                                },
                                {
                                    "nev": "Endresz Bálint",
                                    "foglalasok_szalma": "1",
                                    "foglalt_ferohelyek": "2"
                                },
                                {
                                    "nev": "Farkas László",
                                    "foglalasok_szalma": "1",
                                    "foglalt_ferohelyek": "2"
                                },
                                {
                                    "nev": "Gombos Tibor",
                                    "foglalasok_szalma": "1",
                                    "foglalt_ferohelyek": "2"
                                },
                                {
                                    "nev": "Fülöp Eszter",
                                    "foglalasok_szalma": "1",
                                    "foglalt_ferohelyek": "2"
                                },
                                {
                                    "nev": "Gergely József",
                                    "foglalasok_szalma": "1",
                                    "foglalt_ferohelyek": "2"
                                },
                                {
                                    "nev": "Barta Zsuzsanna",
                                    "foglalasok_szalma": "1",
                                    "foglalt_ferohelyek": "2"
                                },
                                {
                                    "nev": "Barna Debóra",
                                    "foglalasok_szalma": "1",
                                    "foglalt_ferohelyek": "2"
                                },
                                {
                                    "nev": "Back András",
                                    "foglalasok_szalma": "1",
                                    "foglalt_ferohelyek": "2"
                                },
                                {
                                    "nev": "Andor Ibolya",
                                    "foglalasok_szalma": "1",
                                    "foglalt_ferohelyek": "2"
                                },
                                {
                                    "nev": "Bodor Szabolcs",
                                    "foglalasok_szalma": "1",
                                    "foglalt_ferohelyek": "2"
                                }
                            ]
                        },
                        "text/html": [
                            "<table>",
                            "<tr><th>nev</th><th>foglalasok_szalma</th><th>foglalt_ferohelyek</th></tr>",
                            "<tr><td>Komjáti András</td><td>11</td><td>26</td></tr>",
                            "<tr><td>Molnár Bálint</td><td>10</td><td>25</td></tr>",
                            "<tr><td>Kovács Katalin</td><td>8</td><td>22</td></tr>",
                            "<tr><td>Farkas Sára</td><td>8</td><td>22</td></tr>",
                            "<tr><td>Gondos Katalin</td><td>8</td><td>20</td></tr>",
                            "<tr><td>Szűcs Balázs</td><td>8</td><td>20</td></tr>",
                            "<tr><td>Bíró Ákos</td><td>8</td><td>19</td></tr>",
                            "<tr><td>Kelemen Áron</td><td>8</td><td>19</td></tr>",
                            "<tr><td>Balogh Eszter</td><td>7</td><td>19</td></tr>",
                            "<tr><td>Turcsik Tünde</td><td>7</td><td>19</td></tr>",
                            "<tr><td>Bittmann Edit</td><td>7</td><td>18</td></tr>",
                            "<tr><td>Czérna Krisztián</td><td>7</td><td>17</td></tr>",
                            "<tr><td>Fényes Tamás</td><td>7</td><td>17</td></tr>",
                            "<tr><td>Szedlár Krisztina</td><td>7</td><td>17</td></tr>",
                            "<tr><td>Simon Anikó</td><td>7</td><td>16</td></tr>",
                            "<tr><td>Kerényi Beatrix</td><td>7</td><td>16</td></tr>",
                            "<tr><td>Horváth Katalin</td><td>7</td><td>16</td></tr>",
                            "<tr><td>Miklós Szabolcs</td><td>7</td><td>16</td></tr>",
                            "<tr><td>Nagy Gabriella</td><td>6</td><td>17</td></tr>",
                            "<tr><td>Orbán Bernadett</td><td>6</td><td>16</td></tr>",
                            "<tr><td>Köves Gábor</td><td>6</td><td>16</td></tr>",
                            "<tr><td>Bakódy Balázs</td><td>6</td><td>16</td></tr>",
                            "<tr><td>Rácz Dániel</td><td>6</td><td>16</td></tr>",
                            "<tr><td>Tari Szilvia</td><td>6</td><td>16</td></tr>",
                            "<tr><td>Zatykó Katalin</td><td>6</td><td>15</td></tr>",
                            "<tr><td>Ambrus Dávid</td><td>6</td><td>15</td></tr>",
                            "<tr><td>Bagóczki Alexandra</td><td>6</td><td>15</td></tr>",
                            "<tr><td>Kornseé Gyöngyi</td><td>6</td><td>15</td></tr>",
                            "<tr><td>Kovács Bernadett</td><td>6</td><td>15</td></tr>",
                            "<tr><td>Horváth Krisztina</td><td>6</td><td>15</td></tr>",
                            "<tr><td>Horváth Árpád</td><td>6</td><td>15</td></tr>",
                            "<tr><td>Kertész Katalin</td><td>6</td><td>15</td></tr>",
                            "<tr><td>Mile Norbert</td><td>6</td><td>15</td></tr>",
                            "<tr><td>Oroszi György</td><td>6</td><td>14</td></tr>",
                            "<tr><td>Palágyi Polla</td><td>6</td><td>14</td></tr>",
                            "<tr><td>Barna Zoltán</td><td>6</td><td>14</td></tr>",
                            "<tr><td>Frank Fruzsina</td><td>6</td><td>14</td></tr>",
                            "<tr><td>Szilágyi Mátyás</td><td>6</td><td>14</td></tr>",
                            "<tr><td>Mohos Mónika</td><td>6</td><td>13</td></tr>",
                            "<tr><td>Józsa Zsolt</td><td>6</td><td>13</td></tr>",
                            "<tr><td>Iván Róbert</td><td>6</td><td>12</td></tr>",
                            "<tr><td>Ötvös Árpád</td><td>5</td><td>14</td></tr>",
                            "<tr><td>Foltényi Sebastián</td><td>5</td><td>14</td></tr>",
                            "<tr><td>Szirmai Renáta</td><td>5</td><td>14</td></tr>",
                            "<tr><td>Tömböly Dénes</td><td>5</td><td>13</td></tr>",
                            "<tr><td>Győrffy Bence</td><td>5</td><td>13</td></tr>",
                            "<tr><td>Harangozó János</td><td>5</td><td>13</td></tr>",
                            "<tr><td>Molnár András</td><td>5</td><td>13</td></tr>",
                            "<tr><td>Móricz Árpád</td><td>5</td><td>13</td></tr>",
                            "<tr><td>Kispál Márk</td><td>5</td><td>13</td></tr>",
                            "<tr><td>Kiss Andrea</td><td>5</td><td>13</td></tr>",
                            "<tr><td>Kalacsi Márton</td><td>5</td><td>12</td></tr>",
                            "<tr><td>Papp Imre</td><td>5</td><td>12</td></tr>",
                            "<tr><td>Bárci Gusztáv</td><td>5</td><td>12</td></tr>",
                            "<tr><td>Csiger Bertalan</td><td>5</td><td>12</td></tr>",
                            "<tr><td>Boros Vivien</td><td>5</td><td>12</td></tr>",
                            "<tr><td>Bíró Péter</td><td>5</td><td>12</td></tr>",
                            "<tr><td>Viktor Éva</td><td>5</td><td>12</td></tr>",
                            "<tr><td>Szalai Szilárd</td><td>5</td><td>12</td></tr>",
                            "<tr><td>Szekendi Beatrix</td><td>5</td><td>11</td></tr>",
                            "<tr><td>Vörös Dániel</td><td>5</td><td>11</td></tr>",
                            "<tr><td>Hegedűs Norbert</td><td>5</td><td>11</td></tr>",
                            "<tr><td>Maródi Andrea</td><td>5</td><td>11</td></tr>",
                            "<tr><td>Keszler Dániel</td><td>5</td><td>11</td></tr>",
                            "<tr><td>Jakab Áron</td><td>5</td><td>11</td></tr>",
                            "<tr><td>Kuruc Emese</td><td>5</td><td>11</td></tr>",
                            "<tr><td>Kő Nikoletta</td><td>5</td><td>11</td></tr>",
                            "<tr><td>Mogyródi Krisztián</td><td>5</td><td>10</td></tr>",
                            "<tr><td>Molnár Eszter</td><td>4</td><td>12</td></tr>",
                            "<tr><td>Kazy Tihamér</td><td>4</td><td>12</td></tr>",
                            "<tr><td>Gyuris József</td><td>4</td><td>12</td></tr>",
                            "<tr><td>Telek Gábor</td><td>4</td><td>12</td></tr>",
                            "<tr><td>Tankó Veronika</td><td>4</td><td>11</td></tr>",
                            "<tr><td>Rácz Rajmond</td><td>4</td><td>11</td></tr>",
                            "<tr><td>Simon Bernadett</td><td>4</td><td>11</td></tr>",
                            "<tr><td>Vígh András</td><td>4</td><td>11</td></tr>",
                            "<tr><td>Gulyás Attila</td><td>4</td><td>11</td></tr>",
                            "<tr><td>Ferencz Roland</td><td>4</td><td>11</td></tr>",
                            "<tr><td>Pataki Brigitta</td><td>4</td><td>11</td></tr>",
                            "<tr><td>Nagymihály Csongor</td><td>4</td><td>11</td></tr>",
                            "<tr><td>Nyíri Georgij</td><td>4</td><td>11</td></tr>",
                            "<tr><td>Móra László</td><td>4</td><td>10</td></tr>",
                            "<tr><td>Kardos Renáta</td><td>4</td><td>10</td></tr>",
                            "<tr><td>Gyárfás Krisztina</td><td>4</td><td>10</td></tr>",
                            "<tr><td>Bieniek Ádám</td><td>4</td><td>10</td></tr>",
                            "<tr><td>Sobják Dávid</td><td>4</td><td>10</td></tr>",
                            "<tr><td>Pivarcsi Anett</td><td>4</td><td>10</td></tr>",
                            "<tr><td>Sarodi Dóra</td><td>4</td><td>10</td></tr>",
                            "<tr><td>Szalai Péter</td><td>4</td><td>10</td></tr>",
                            "<tr><td>Székely Brigitta</td><td>4</td><td>10</td></tr>",
                            "<tr><td>Szikszai Réka</td><td>4</td><td>10</td></tr>",
                            "<tr><td>Tóth András</td><td>4</td><td>10</td></tr>",
                            "<tr><td>Szűcs Norbert</td><td>4</td><td>9</td></tr>",
                            "<tr><td>Szabó Julianna</td><td>4</td><td>9</td></tr>",
                            "<tr><td>Vajda József</td><td>4</td><td>9</td></tr>",
                            "<tr><td>Antal Tamás</td><td>4</td><td>9</td></tr>",
                            "<tr><td>Farkas Béla</td><td>4</td><td>9</td></tr>",
                            "<tr><td>Nagy Sándor</td><td>4</td><td>9</td></tr>",
                            "<tr><td>Nagymihály Lajos</td><td>4</td><td>9</td></tr>",
                            "<tr><td>Pintér Zoltán</td><td>4</td><td>9</td></tr>",
                            "<tr><td>Baráth Mária</td><td>4</td><td>8</td></tr>",
                            "<tr><td>Csóti Attila</td><td>3</td><td>9</td></tr>",
                            "<tr><td>Barabás Pál</td><td>3</td><td>9</td></tr>",
                            "<tr><td>Fő Nándor</td><td>3</td><td>9</td></tr>",
                            "<tr><td>Hartyánszky Ágnes</td><td>3</td><td>9</td></tr>",
                            "<tr><td>Horváth Ágnes</td><td>3</td><td>9</td></tr>",
                            "<tr><td>Tóth Roland</td><td>3</td><td>9</td></tr>",
                            "<tr><td>Tóth Anikó</td><td>3</td><td>8</td></tr>",
                            "<tr><td>Tatár Nikoletta</td><td>3</td><td>8</td></tr>",
                            "<tr><td>Hídasi Judit</td><td>3</td><td>8</td></tr>",
                            "<tr><td>Hamvay-Kovács Anita</td><td>3</td><td>8</td></tr>",
                            "<tr><td>Bagi Beáta</td><td>3</td><td>8</td></tr>",
                            "<tr><td>Bozsik Balázs</td><td>3</td><td>8</td></tr>",
                            "<tr><td>Berendi Péter</td><td>3</td><td>8</td></tr>",
                            "<tr><td>Perlinger Éva</td><td>3</td><td>8</td></tr>",
                            "<tr><td>Nagy László</td><td>3</td><td>8</td></tr>",
                            "<tr><td>Karasz Sándor</td><td>3</td><td>8</td></tr>",
                            "<tr><td>Lengyel Ágnes</td><td>3</td><td>8</td></tr>",
                            "<tr><td>Lukács Kornél</td><td>3</td><td>7</td></tr>",
                            "<tr><td>Kozma Péter</td><td>3</td><td>7</td></tr>",
                            "<tr><td>Kiss Lajos</td><td>3</td><td>7</td></tr>",
                            "<tr><td>Horváth Nikolett</td><td>3</td><td>7</td></tr>",
                            "<tr><td>Bozsó Péter</td><td>3</td><td>7</td></tr>",
                            "<tr><td>Bosnyák Ilona</td><td>3</td><td>7</td></tr>",
                            "<tr><td>Balla Miklós</td><td>3</td><td>7</td></tr>",
                            "<tr><td>Farkas Sándor</td><td>3</td><td>7</td></tr>",
                            "<tr><td>Giliga János</td><td>3</td><td>7</td></tr>",
                            "<tr><td>Bucskó Róza</td><td>3</td><td>7</td></tr>",
                            "<tr><td>Dusha Tímea</td><td>3</td><td>7</td></tr>",
                            "<tr><td>Tóth Júlia</td><td>3</td><td>7</td></tr>",
                            "<tr><td>Pulai Zsolt</td><td>3</td><td>7</td></tr>",
                            "<tr><td>Pusztai Zsuzsanna</td><td>3</td><td>7</td></tr>",
                            "<tr><td>Soós István</td><td>3</td><td>7</td></tr>",
                            "<tr><td>Vajda Zsuzsa</td><td>3</td><td>7</td></tr>",
                            "<tr><td>Urbán Viktoria</td><td>3</td><td>7</td></tr>",
                            "<tr><td>Regős Annamária</td><td>3</td><td>6</td></tr>",
                            "<tr><td>Tornyos Andrea</td><td>3</td><td>6</td></tr>",
                            "<tr><td>Erdei András</td><td>3</td><td>6</td></tr>",
                            "<tr><td>Érsek Eszter</td><td>3</td><td>6</td></tr>",
                            "<tr><td>Böröcz Anikó</td><td>3</td><td>6</td></tr>",
                            "<tr><td>Dunai Aladár</td><td>3</td><td>6</td></tr>",
                            "<tr><td>Koza Máté</td><td>3</td><td>6</td></tr>",
                            "<tr><td>Neizer Andrea</td><td>3</td><td>6</td></tr>",
                            "<tr><td>Opra Attila</td><td>3</td><td>6</td></tr>",
                            "<tr><td>Kiss Ádám</td><td>2</td><td>6</td></tr>",
                            "<tr><td>Gondos Miklós</td><td>2</td><td>6</td></tr>",
                            "<tr><td>Szűcs Annamária</td><td>2</td><td>6</td></tr>",
                            "<tr><td>Tóth Zoltán</td><td>2</td><td>5</td></tr>",
                            "<tr><td>Rab Sebestyén</td><td>2</td><td>5</td></tr>",
                            "<tr><td>Vizi István</td><td>2</td><td>5</td></tr>",
                            "<tr><td>Bori Krisztina</td><td>2</td><td>5</td></tr>",
                            "<tr><td>Búza Imre</td><td>2</td><td>5</td></tr>",
                            "<tr><td>Feró Valentin</td><td>2</td><td>5</td></tr>",
                            "<tr><td>Fodor Zoltán</td><td>2</td><td>5</td></tr>",
                            "<tr><td>Botka Mátyás</td><td>2</td><td>5</td></tr>",
                            "<tr><td>Béres Norbert</td><td>2</td><td>5</td></tr>",
                            "<tr><td>Bajusz Bence</td><td>2</td><td>5</td></tr>",
                            "<tr><td>Bakó Klaudia</td><td>2</td><td>5</td></tr>",
                            "<tr><td>Keresztúri Viktor</td><td>2</td><td>5</td></tr>",
                            "<tr><td>Juhász Mihály</td><td>2</td><td>5</td></tr>",
                            "<tr><td>Patay Róbert</td><td>2</td><td>5</td></tr>",
                            "<tr><td>Pásztor Róbert</td><td>2</td><td>5</td></tr>",
                            "<tr><td>Pálinkás János</td><td>2</td><td>5</td></tr>",
                            "<tr><td>Nagy Júlia</td><td>2</td><td>5</td></tr>",
                            "<tr><td>Molnár Zsófi</td><td>2</td><td>5</td></tr>",
                            "<tr><td>Miklós Tamara</td><td>2</td><td>4</td></tr>",
                            "<tr><td>Orosz Ferenc</td><td>2</td><td>4</td></tr>",
                            "<tr><td>Kovács Ágnes</td><td>2</td><td>4</td></tr>",
                            "<tr><td>Antal László</td><td>2</td><td>4</td></tr>",
                            "<tr><td>Baróti Attila</td><td>1</td><td>3</td></tr>",
                            "<tr><td>Enyedi Éva</td><td>1</td><td>3</td></tr>",
                            "<tr><td>Nádudvari Henrik</td><td>1</td><td>3</td></tr>",
                            "<tr><td>Nagy András</td><td>1</td><td>3</td></tr>",
                            "<tr><td>Vukasinovity Bálint</td><td>1</td><td>3</td></tr>",
                            "<tr><td>Vida Gabriella</td><td>1</td><td>3</td></tr>",
                            "<tr><td>Varga István</td><td>1</td><td>3</td></tr>",
                            "<tr><td>Szomor Andrea</td><td>1</td><td>3</td></tr>",
                            "<tr><td>Varsányi Zsuzsa</td><td>1</td><td>2</td></tr>",
                            "<tr><td>Papós Tímea</td><td>1</td><td>2</td></tr>",
                            "<tr><td>Horváth Bálint</td><td>1</td><td>2</td></tr>",
                            "<tr><td>Horváth Márk</td><td>1</td><td>2</td></tr>",
                            "<tr><td>Endresz Bálint</td><td>1</td><td>2</td></tr>",
                            "<tr><td>Farkas László</td><td>1</td><td>2</td></tr>",
                            "<tr><td>Gombos Tibor</td><td>1</td><td>2</td></tr>",
                            "<tr><td>Fülöp Eszter</td><td>1</td><td>2</td></tr>",
                            "<tr><td>Gergely József</td><td>1</td><td>2</td></tr>",
                            "<tr><td>Barta Zsuzsanna</td><td>1</td><td>2</td></tr>",
                            "<tr><td>Barna Debóra</td><td>1</td><td>2</td></tr>",
                            "<tr><td>Back András</td><td>1</td><td>2</td></tr>",
                            "<tr><td>Andor Ibolya</td><td>1</td><td>2</td></tr>",
                            "<tr><td>Bodor Szabolcs</td><td>1</td><td>2</td></tr>",
                            "</table>"
                        ]
                    }
                }
            ],
            "execution_count": 13
        },
        {
            "cell_type": "markdown",
            "source": [
                "Listázzuk a vendégek azonosítóját, nevét és születési dátumát!\n",
                "\n",
                "- Vegyünk fel két új oszlopot, amelyben a vendég legelső, illetve legutolsó foglalásának dátuma szerepel\n",
                "- A foglalás dátumánál a METTOL oszlopot használjuk"
            ],
            "metadata": {
                "language": "sql",
                "azdata_cell_guid": "6e6511cb-62c6-4ad3-847e-f47dd8cd8da9"
            },
            "attachments": {}
        },
        {
            "cell_type": "code",
            "source": [
                "SELECT\r\n",
                "    v.USERNEV AS Vendég_azonosító,\r\n",
                "    v.NEV AS Vendég_neve,\r\n",
                "    v.SZUL_DAT AS Születési_dátum,\r\n",
                "    MIN(f.METTOL) AS Legelső_foglalás_dátuma,\r\n",
                "    MAX(f.METTOL) AS Legutolsó_foglalás_dátuma\r\n",
                "FROM FOGLALAS f\r\n",
                "JOIN VENDEG v ON f.UGYFEL_FK = v.USERNEV\r\n",
                "GROUP BY v.USERNEV, v.NEV, v.SZUL_DAT"
            ],
            "metadata": {
                "language": "sql",
                "azdata_cell_guid": "bd912675-97f4-4d8b-a830-7b318300f9c7",
                "tags": [
                    "hide_input"
                ]
            },
            "outputs": [
                {
                    "output_type": "display_data",
                    "data": {
                        "text/html": "(195 rows affected)"
                    },
                    "metadata": {}
                },
                {
                    "output_type": "display_data",
                    "data": {
                        "text/html": "Total execution time: 00:00:00.043"
                    },
                    "metadata": {}
                },
                {
                    "output_type": "execute_result",
                    "metadata": {},
                    "execution_count": 15,
                    "data": {
                        "application/vnd.dataresource+json": {
                            "schema": {
                                "fields": [
                                    {
                                        "name": "Vendég_azonosító"
                                    },
                                    {
                                        "name": "Vendég_neve"
                                    },
                                    {
                                        "name": "Születési_dátum"
                                    },
                                    {
                                        "name": "Legelső_foglalás_dátuma"
                                    },
                                    {
                                        "name": "Legutolsó_foglalás_dátuma"
                                    }
                                ]
                            },
                            "data": [
                                {
                                    "Vendég_azonosító": "adam1",
                                    "Vendég_neve": "Kiss Ádám",
                                    "Születési_dátum": "1991-12-28",
                                    "Legelső_foglalás_dátuma": "2016-05-28",
                                    "Legutolsó_foglalás_dátuma": "2016-10-19"
                                },
                                {
                                    "Vendég_azonosító": "adam3",
                                    "Vendég_neve": "Barkóci Ádám",
                                    "Születési_dátum": "1970-06-07",
                                    "Legelső_foglalás_dátuma": "2016-09-12",
                                    "Legutolsó_foglalás_dátuma": "2017-02-06"
                                },
                                {
                                    "Vendég_azonosító": "adam4",
                                    "Vendég_neve": "Bieniek Ádám",
                                    "Születési_dátum": "1976-08-01",
                                    "Legelső_foglalás_dátuma": "2016-08-28",
                                    "Legutolsó_foglalás_dátuma": "2017-02-23"
                                },
                                {
                                    "Vendég_azonosító": "agnes",
                                    "Vendég_neve": "Lengyel Ágnes",
                                    "Születési_dátum": "1979-12-10",
                                    "Legelső_foglalás_dátuma": "2016-05-09",
                                    "Legutolsó_foglalás_dátuma": "2016-11-07"
                                },
                                {
                                    "Vendég_azonosító": "agnes3",
                                    "Vendég_neve": "Hartyánszky Ágnes",
                                    "Születési_dátum": "1967-04-11",
                                    "Legelső_foglalás_dátuma": "2016-08-04",
                                    "Legutolsó_foglalás_dátuma": "2017-02-16"
                                },
                                {
                                    "Vendég_azonosító": "AGNESH",
                                    "Vendég_neve": "Horváth Ágnes",
                                    "Születési_dátum": "1981-12-24",
                                    "Legelső_foglalás_dátuma": "2016-04-10",
                                    "Legutolsó_foglalás_dátuma": "2017-01-16"
                                },
                                {
                                    "Vendég_azonosító": "AGNESK",
                                    "Vendég_neve": "Kovács Ágnes",
                                    "Születési_dátum": "1988-10-02",
                                    "Legelső_foglalás_dátuma": "2016-07-29",
                                    "Legutolsó_foglalás_dátuma": "2016-12-17"
                                },
                                {
                                    "Vendég_azonosító": "akos",
                                    "Vendég_neve": "Bíró Ákos",
                                    "Születési_dátum": "1982-04-24",
                                    "Legelső_foglalás_dátuma": "2016-05-18",
                                    "Legutolsó_foglalás_dátuma": "2016-12-29"
                                },
                                {
                                    "Vendég_azonosító": "aladar",
                                    "Vendég_neve": "Dunai Aladár",
                                    "Születési_dátum": "1980-11-01",
                                    "Legelső_foglalás_dátuma": "2016-05-17",
                                    "Legutolsó_foglalás_dátuma": "2016-11-22"
                                },
                                {
                                    "Vendég_azonosító": "alexandra",
                                    "Vendég_neve": "Bagóczki Alexandra",
                                    "Születési_dátum": "1992-03-25",
                                    "Legelső_foglalás_dátuma": "2016-05-21",
                                    "Legutolsó_foglalás_dátuma": "2017-01-19"
                                },
                                {
                                    "Vendég_azonosító": "andi",
                                    "Vendég_neve": "Maródi Andrea",
                                    "Születési_dátum": "1968-05-07",
                                    "Legelső_foglalás_dátuma": "2016-05-08",
                                    "Legutolsó_foglalás_dátuma": "2017-01-13"
                                },
                                {
                                    "Vendég_azonosító": "andras2",
                                    "Vendég_neve": "Tóth András",
                                    "Születési_dátum": "1997-10-31",
                                    "Legelső_foglalás_dátuma": "2016-05-30",
                                    "Legutolsó_foglalás_dátuma": "2017-02-08"
                                },
                                {
                                    "Vendég_azonosító": "andras21",
                                    "Vendég_neve": "Molnár András",
                                    "Születési_dátum": "1977-11-16",
                                    "Legelső_foglalás_dátuma": "2016-06-21",
                                    "Legutolsó_foglalás_dátuma": "2017-01-28"
                                },
                                {
                                    "Vendég_azonosító": "andras3",
                                    "Vendég_neve": "Vígh András",
                                    "Születési_dátum": "1971-04-02",
                                    "Legelső_foglalás_dátuma": "2016-05-01",
                                    "Legutolsó_foglalás_dátuma": "2017-02-02"
                                },
                                {
                                    "Vendég_azonosító": "andras4",
                                    "Vendég_neve": "Back András",
                                    "Születési_dátum": "1984-04-07",
                                    "Legelső_foglalás_dátuma": "2016-09-17",
                                    "Legutolsó_foglalás_dátuma": "2017-01-09"
                                },
                                {
                                    "Vendég_azonosító": "andras41",
                                    "Vendég_neve": "Komjáti András",
                                    "Születési_dátum": "1997-10-25",
                                    "Legelső_foglalás_dátuma": "2016-05-14",
                                    "Legutolsó_foglalás_dátuma": "2016-11-23"
                                },
                                {
                                    "Vendég_azonosító": "ANDRASE",
                                    "Vendég_neve": "Erdei András",
                                    "Születési_dátum": "1997-05-29",
                                    "Legelső_foglalás_dátuma": "2016-04-24",
                                    "Legutolsó_foglalás_dátuma": "2016-11-29"
                                },
                                {
                                    "Vendég_azonosító": "ANDRASN",
                                    "Vendég_neve": "Nagy András",
                                    "Születési_dátum": "1980-09-05",
                                    "Legelső_foglalás_dátuma": "2016-11-25",
                                    "Legutolsó_foglalás_dátuma": "2016-11-25"
                                },
                                {
                                    "Vendég_azonosító": "andrea",
                                    "Vendég_neve": "Kiss Andrea",
                                    "Születési_dátum": "1993-03-25",
                                    "Legelső_foglalás_dátuma": "2016-07-27",
                                    "Legutolsó_foglalás_dátuma": "2017-02-09"
                                },
                                {
                                    "Vendég_azonosító": "andrea3",
                                    "Vendég_neve": "Szomor Andrea",
                                    "Születési_dátum": "1996-05-10",
                                    "Legelső_foglalás_dátuma": "2016-11-19",
                                    "Legutolsó_foglalás_dátuma": "2016-11-19"
                                },
                                {
                                    "Vendég_azonosító": "andrea4",
                                    "Vendég_neve": "Neizer Andrea",
                                    "Születési_dátum": "1981-05-17",
                                    "Legelső_foglalás_dátuma": "2016-05-27",
                                    "Legutolsó_foglalás_dátuma": "2017-01-22"
                                },
                                {
                                    "Vendég_azonosító": "ANDREAT",
                                    "Vendég_neve": "Tornyos Andrea",
                                    "Születési_dátum": "1986-11-14",
                                    "Legelső_foglalás_dátuma": "2016-07-27",
                                    "Legutolsó_foglalás_dátuma": "2016-10-08"
                                },
                                {
                                    "Vendég_azonosító": "anett3",
                                    "Vendég_neve": "Pivarcsi Anett",
                                    "Születési_dátum": "1967-01-03",
                                    "Legelső_foglalás_dátuma": "2016-04-10",
                                    "Legutolsó_foglalás_dátuma": "2016-10-16"
                                },
                                {
                                    "Vendég_azonosító": "aniko",
                                    "Vendég_neve": "Tóth Anikó",
                                    "Születési_dátum": "1973-06-03",
                                    "Legelső_foglalás_dátuma": "2016-06-25",
                                    "Legutolsó_foglalás_dátuma": "2017-02-23"
                                },
                                {
                                    "Vendég_azonosító": "aniko4",
                                    "Vendég_neve": "Böröcz Anikó",
                                    "Születési_dátum": "1978-03-26",
                                    "Legelső_foglalás_dátuma": "2016-07-02",
                                    "Legutolsó_foglalás_dátuma": "2016-10-16"
                                },
                                {
                                    "Vendég_azonosító": "ANIKOS",
                                    "Vendég_neve": "Simon Anikó",
                                    "Születési_dátum": "1988-12-14",
                                    "Legelső_foglalás_dátuma": "2016-04-19",
                                    "Legutolsó_foglalás_dátuma": "2016-11-10"
                                },
                                {
                                    "Vendég_azonosító": "anita",
                                    "Vendég_neve": "Hamvay-Kovács Anita",
                                    "Születési_dátum": "1971-03-20",
                                    "Legelső_foglalás_dátuma": "2016-09-28",
                                    "Legutolsó_foglalás_dátuma": "2017-02-20"
                                },
                                {
                                    "Vendég_azonosító": "annamaria1",
                                    "Vendég_neve": "Szűcs Annamária",
                                    "Születési_dátum": "1990-04-27",
                                    "Legelső_foglalás_dátuma": "2016-06-06",
                                    "Legutolsó_foglalás_dátuma": "2017-01-30"
                                },
                                {
                                    "Vendég_azonosító": "ANNAMARIAR",
                                    "Vendég_neve": "Regős Annamária",
                                    "Születési_dátum": "1977-09-26",
                                    "Legelső_foglalás_dátuma": "2016-06-08",
                                    "Legutolsó_foglalás_dátuma": "2017-02-16"
                                },
                                {
                                    "Vendég_azonosító": "aron2",
                                    "Vendég_neve": "Jakab Áron",
                                    "Születési_dátum": "1971-04-26",
                                    "Legelső_foglalás_dátuma": "2016-04-11",
                                    "Legutolsó_foglalás_dátuma": "2017-02-26"
                                },
                                {
                                    "Vendég_azonosító": "ARONK",
                                    "Vendég_neve": "Kelemen Áron",
                                    "Születési_dátum": "1989-08-10",
                                    "Legelső_foglalás_dátuma": "2016-04-06",
                                    "Legutolsó_foglalás_dátuma": "2017-02-21"
                                },
                                {
                                    "Vendég_azonosító": "arpad2",
                                    "Vendég_neve": "Ötvös Árpád",
                                    "Születési_dátum": "1990-06-08",
                                    "Legelső_foglalás_dátuma": "2016-06-05",
                                    "Legutolsó_foglalás_dátuma": "2017-02-18"
                                },
                                {
                                    "Vendég_azonosító": "ARPADH",
                                    "Vendég_neve": "Horváth Árpád",
                                    "Születési_dátum": "1990-05-18",
                                    "Legelső_foglalás_dátuma": "2016-06-06",
                                    "Legutolsó_foglalás_dátuma": "2017-02-16"
                                },
                                {
                                    "Vendég_azonosító": "ARPADM",
                                    "Vendég_neve": "Móricz Árpád",
                                    "Születési_dátum": "1986-04-20",
                                    "Legelső_foglalás_dátuma": "2016-05-29",
                                    "Legutolsó_foglalás_dátuma": "2017-02-12"
                                },
                                {
                                    "Vendég_azonosító": "attila",
                                    "Vendég_neve": "Csóti Attila",
                                    "Születési_dátum": "1979-12-25",
                                    "Legelső_foglalás_dátuma": "2016-09-30",
                                    "Legutolsó_foglalás_dátuma": "2016-12-22"
                                },
                                {
                                    "Vendég_azonosító": "attila1",
                                    "Vendég_neve": "Gulyás Attila",
                                    "Születési_dátum": "1982-08-16",
                                    "Legelső_foglalás_dátuma": "2016-05-20",
                                    "Legutolsó_foglalás_dátuma": "2017-01-23"
                                },
                                {
                                    "Vendég_azonosító": "attila4",
                                    "Vendég_neve": "Baróti Attila",
                                    "Születési_dátum": "1975-11-06",
                                    "Legelső_foglalás_dátuma": "2016-08-18",
                                    "Legutolsó_foglalás_dátuma": "2017-02-15"
                                },
                                {
                                    "Vendég_azonosító": "ATTILAO",
                                    "Vendég_neve": "Opra Attila",
                                    "Születési_dátum": "1995-05-08",
                                    "Legelső_foglalás_dátuma": "2016-05-21",
                                    "Legutolsó_foglalás_dátuma": "2017-02-22"
                                },
                                {
                                    "Vendég_azonosító": "balazs1",
                                    "Vendég_neve": "Bozsik Balázs",
                                    "Születési_dátum": "1992-11-03",
                                    "Legelső_foglalás_dátuma": "2016-05-07",
                                    "Legutolsó_foglalás_dátuma": "2017-02-12"
                                },
                                {
                                    "Vendég_azonosító": "balazs2",
                                    "Vendég_neve": "Szűcs Balázs",
                                    "Születési_dátum": "1984-10-31",
                                    "Legelső_foglalás_dátuma": "2016-04-16",
                                    "Legutolsó_foglalás_dátuma": "2017-02-27"
                                },
                                {
                                    "Vendég_azonosító": "balazs3",
                                    "Vendég_neve": "Bakódy Balázs",
                                    "Születési_dátum": "1986-09-09",
                                    "Legelső_foglalás_dátuma": "2016-07-17",
                                    "Legutolsó_foglalás_dátuma": "2017-01-20"
                                },
                                {
                                    "Vendég_azonosító": "balint",
                                    "Vendég_neve": "Horváth Bálint",
                                    "Születési_dátum": "1996-03-17",
                                    "Legelső_foglalás_dátuma": "2016-04-22",
                                    "Legutolsó_foglalás_dátuma": "2016-11-24"
                                },
                                {
                                    "Vendég_azonosító": "balint1",
                                    "Vendég_neve": "Molnár Bálint",
                                    "Születési_dátum": "1989-08-24",
                                    "Legelső_foglalás_dátuma": "2016-06-07",
                                    "Legutolsó_foglalás_dátuma": "2017-01-03"
                                },
                                {
                                    "Vendég_azonosító": "balint2",
                                    "Vendég_neve": "Vukasinovity Bálint",
                                    "Születési_dátum": "1997-09-03",
                                    "Legelső_foglalás_dátuma": "2016-07-21",
                                    "Legutolsó_foglalás_dátuma": "2016-12-04"
                                },
                                {
                                    "Vendég_azonosító": "balu",
                                    "Vendég_neve": "Endresz Bálint",
                                    "Születési_dátum": "1976-08-01",
                                    "Legelső_foglalás_dátuma": "2016-08-06",
                                    "Legutolsó_foglalás_dátuma": "2016-12-22"
                                },
                                {
                                    "Vendég_azonosító": "beata4",
                                    "Vendég_neve": "Bagi Beáta",
                                    "Születési_dátum": "1994-03-19",
                                    "Legelső_foglalás_dátuma": "2016-04-20",
                                    "Legutolsó_foglalás_dátuma": "2016-10-03"
                                },
                                {
                                    "Vendég_azonosító": "BEATRIXK",
                                    "Vendég_neve": "Kerényi Beatrix",
                                    "Születési_dátum": "1972-04-06",
                                    "Legelső_foglalás_dátuma": "2016-06-10",
                                    "Legutolsó_foglalás_dátuma": "2017-02-08"
                                },
                                {
                                    "Vendég_azonosító": "BEATRIXS",
                                    "Vendég_neve": "Szekendi Beatrix",
                                    "Születési_dátum": "1981-04-06",
                                    "Legelső_foglalás_dátuma": "2016-04-18",
                                    "Legutolsó_foglalás_dátuma": "2017-02-03"
                                },
                                {
                                    "Vendég_azonosító": "BELAF",
                                    "Vendég_neve": "Farkas Béla",
                                    "Születési_dátum": "1995-02-24",
                                    "Legelső_foglalás_dátuma": "2016-07-27",
                                    "Legutolsó_foglalás_dátuma": "2016-12-06"
                                },
                                {
                                    "Vendég_azonosító": "bence",
                                    "Vendég_neve": "Győrffy Bence",
                                    "Születési_dátum": "1987-07-09",
                                    "Legelső_foglalás_dátuma": "2016-05-08",
                                    "Legutolsó_foglalás_dátuma": "2017-02-05"
                                },
                                {
                                    "Vendég_azonosító": "BENCEB",
                                    "Vendég_neve": "Bajusz Bence",
                                    "Születési_dátum": "1973-06-21",
                                    "Legelső_foglalás_dátuma": "2016-05-14",
                                    "Legutolsó_foglalás_dátuma": "2017-02-12"
                                },
                                {
                                    "Vendég_azonosító": "bernadett1",
                                    "Vendég_neve": "Simon Bernadett",
                                    "Születési_dátum": "1984-10-13",
                                    "Legelső_foglalás_dátuma": "2016-06-12",
                                    "Legutolsó_foglalás_dátuma": "2017-02-24"
                                },
                                {
                                    "Vendég_azonosító": "bernadett2",
                                    "Vendég_neve": "Kovács Bernadett",
                                    "Születési_dátum": "1996-08-20",
                                    "Legelső_foglalás_dátuma": "2016-05-01",
                                    "Legutolsó_foglalás_dátuma": "2017-01-24"
                                },
                                {
                                    "Vendég_azonosító": "BERNADETTO",
                                    "Vendég_neve": "Orbán Bernadett",
                                    "Születési_dátum": "1987-12-07",
                                    "Legelső_foglalás_dátuma": "2016-04-10",
                                    "Legutolsó_foglalás_dátuma": "2017-01-28"
                                },
                                {
                                    "Vendég_azonosító": "bertalan",
                                    "Vendég_neve": "Csiger Bertalan",
                                    "Születési_dátum": "1977-10-15",
                                    "Legelső_foglalás_dátuma": "2016-05-18",
                                    "Legutolsó_foglalás_dátuma": "2017-02-20"
                                },
                                {
                                    "Vendég_azonosító": "brigitta",
                                    "Vendég_neve": "Székely Brigitta",
                                    "Születési_dátum": "1978-09-13",
                                    "Legelső_foglalás_dátuma": "2016-05-30",
                                    "Legutolsó_foglalás_dátuma": "2017-01-23"
                                },
                                {
                                    "Vendég_azonosító": "brigitta3",
                                    "Vendég_neve": "Pataki Brigitta",
                                    "Születési_dátum": "1991-05-23",
                                    "Legelső_foglalás_dátuma": "2016-06-01",
                                    "Legutolsó_foglalás_dátuma": "2017-02-09"
                                },
                                {
                                    "Vendég_azonosító": "csongor3",
                                    "Vendég_neve": "Nagymihály Csongor",
                                    "Születési_dátum": "1984-03-05",
                                    "Legelső_foglalás_dátuma": "2016-05-01",
                                    "Legutolsó_foglalás_dátuma": "2017-02-13"
                                },
                                {
                                    "Vendég_azonosító": "dani",
                                    "Vendég_neve": "Vörös Dániel",
                                    "Születési_dátum": "1986-10-14",
                                    "Legelső_foglalás_dátuma": "2016-06-06",
                                    "Legutolsó_foglalás_dátuma": "2017-02-25"
                                },
                                {
                                    "Vendég_azonosító": "daniel",
                                    "Vendég_neve": "Rácz Dániel",
                                    "Születési_dátum": "1978-11-28",
                                    "Legelső_foglalás_dátuma": "2016-04-10",
                                    "Legutolsó_foglalás_dátuma": "2017-02-20"
                                },
                                {
                                    "Vendég_azonosító": "daniel1",
                                    "Vendég_neve": "Keszler Dániel",
                                    "Születési_dátum": "1969-07-16",
                                    "Legelső_foglalás_dátuma": "2016-04-10",
                                    "Legutolsó_foglalás_dátuma": "2017-03-01"
                                },
                                {
                                    "Vendég_azonosító": "david",
                                    "Vendég_neve": "Ambrus Dávid",
                                    "Születési_dátum": "1974-02-11",
                                    "Legelső_foglalás_dátuma": "2016-05-18",
                                    "Legutolsó_foglalás_dátuma": "2017-01-18"
                                },
                                {
                                    "Vendég_azonosító": "david1",
                                    "Vendég_neve": "Sobják Dávid",
                                    "Születési_dátum": "1970-08-16",
                                    "Legelső_foglalás_dátuma": "2016-09-20",
                                    "Legutolsó_foglalás_dátuma": "2017-02-25"
                                },
                                {
                                    "Vendég_azonosító": "david4",
                                    "Vendég_neve": "Berta Dávid",
                                    "Születési_dátum": "1990-10-08",
                                    "Legelső_foglalás_dátuma": "2017-02-16",
                                    "Legutolsó_foglalás_dátuma": "2017-02-16"
                                },
                                {
                                    "Vendég_azonosító": "debora",
                                    "Vendég_neve": "Barna Debóra",
                                    "Születési_dátum": "1976-10-14",
                                    "Legelső_foglalás_dátuma": "2016-06-22",
                                    "Legutolsó_foglalás_dátuma": "2017-02-04"
                                },
                                {
                                    "Vendég_azonosító": "denes",
                                    "Vendég_neve": "Tömböly Dénes",
                                    "Születési_dátum": "1975-03-14",
                                    "Legelső_foglalás_dátuma": "2016-05-27",
                                    "Legutolsó_foglalás_dátuma": "2016-11-06"
                                },
                                {
                                    "Vendég_azonosító": "dora3",
                                    "Vendég_neve": "Sarodi Dóra",
                                    "Születési_dátum": "1995-05-18",
                                    "Legelső_foglalás_dátuma": "2016-08-16",
                                    "Legutolsó_foglalás_dátuma": "2016-11-22"
                                },
                                {
                                    "Vendég_azonosító": "edit",
                                    "Vendég_neve": "Bittmann Edit",
                                    "Születési_dátum": "1984-04-20",
                                    "Legelső_foglalás_dátuma": "2016-07-14",
                                    "Legutolsó_foglalás_dátuma": "2017-02-08"
                                },
                                {
                                    "Vendég_azonosító": "emese",
                                    "Vendég_neve": "Kuruc Emese",
                                    "Születési_dátum": "1989-08-10",
                                    "Legelső_foglalás_dátuma": "2016-07-22",
                                    "Legutolsó_foglalás_dátuma": "2017-01-30"
                                },
                                {
                                    "Vendég_azonosító": "eszter",
                                    "Vendég_neve": "Molnár Eszter",
                                    "Születési_dátum": "1987-05-10",
                                    "Legelső_foglalás_dátuma": "2016-08-12",
                                    "Legutolsó_foglalás_dátuma": "2016-12-23"
                                },
                                {
                                    "Vendég_azonosító": "eszter2",
                                    "Vendég_neve": "Balogh Eszter",
                                    "Születési_dátum": "1998-01-31",
                                    "Legelső_foglalás_dátuma": "2016-06-30",
                                    "Legutolsó_foglalás_dátuma": "2016-12-29"
                                },
                                {
                                    "Vendég_azonosító": "eszter4",
                                    "Vendég_neve": "Fülöp Eszter",
                                    "Születési_dátum": "1993-06-28",
                                    "Legelső_foglalás_dátuma": "2017-01-05",
                                    "Legutolsó_foglalás_dátuma": "2017-02-26"
                                },
                                {
                                    "Vendég_azonosító": "ESZTERE",
                                    "Vendég_neve": "Érsek Eszter",
                                    "Születési_dátum": "1978-08-28",
                                    "Legelső_foglalás_dátuma": "2016-05-30",
                                    "Legutolsó_foglalás_dátuma": "2017-02-10"
                                },
                                {
                                    "Vendég_azonosító": "eva",
                                    "Vendég_neve": "Enyedi Éva",
                                    "Születési_dátum": "1967-06-30",
                                    "Legelső_foglalás_dátuma": "2016-10-06",
                                    "Legutolsó_foglalás_dátuma": "2017-01-14"
                                },
                                {
                                    "Vendég_azonosító": "eva2",
                                    "Vendég_neve": "Perlinger Éva",
                                    "Születési_dátum": "1971-08-19",
                                    "Legelső_foglalás_dátuma": "2016-09-02",
                                    "Legutolsó_foglalás_dátuma": "2017-01-06"
                                },
                                {
                                    "Vendég_azonosító": "EVAV",
                                    "Vendég_neve": "Viktor Éva",
                                    "Születési_dátum": "1980-12-26",
                                    "Legelső_foglalás_dátuma": "2016-05-01",
                                    "Legutolsó_foglalás_dátuma": "2017-02-04"
                                },
                                {
                                    "Vendég_azonosító": "ferenc1",
                                    "Vendég_neve": "Orosz Ferenc",
                                    "Születési_dátum": "1983-10-08",
                                    "Legelső_foglalás_dátuma": "2016-05-08",
                                    "Legutolsó_foglalás_dátuma": "2016-11-07"
                                },
                                {
                                    "Vendég_azonosító": "fruzsina4",
                                    "Vendég_neve": "Frank Fruzsina",
                                    "Születési_dátum": "1996-08-16",
                                    "Legelső_foglalás_dátuma": "2016-06-02",
                                    "Legutolsó_foglalás_dátuma": "2017-01-22"
                                },
                                {
                                    "Vendég_azonosító": "gabor1",
                                    "Vendég_neve": "Köves Gábor",
                                    "Születési_dátum": "1973-07-15",
                                    "Legelső_foglalás_dátuma": "2016-06-20",
                                    "Legutolsó_foglalás_dátuma": "2016-11-19"
                                },
                                {
                                    "Vendég_azonosító": "gabor4",
                                    "Vendég_neve": "Telek Gábor",
                                    "Születési_dátum": "1987-03-15",
                                    "Legelső_foglalás_dátuma": "2016-04-26",
                                    "Legutolsó_foglalás_dátuma": "2016-11-07"
                                },
                                {
                                    "Vendég_azonosító": "gabriella1",
                                    "Vendég_neve": "Nagy Gabriella",
                                    "Születési_dátum": "1982-11-01",
                                    "Legelső_foglalás_dátuma": "2016-04-21",
                                    "Legutolsó_foglalás_dátuma": "2017-02-21"
                                },
                                {
                                    "Vendég_azonosító": "gabriella10",
                                    "Vendég_neve": "Vida Gabriella",
                                    "Születési_dátum": "1969-06-18",
                                    "Legelső_foglalás_dátuma": "2016-10-01",
                                    "Legutolsó_foglalás_dátuma": "2016-10-01"
                                },
                                {
                                    "Vendég_azonosító": "georgij",
                                    "Vendég_neve": "Nyíri Georgij",
                                    "Születési_dátum": "1983-02-23",
                                    "Legelső_foglalás_dátuma": "2016-06-16",
                                    "Legutolsó_foglalás_dátuma": "2016-09-18"
                                },
                                {
                                    "Vendég_azonosító": "gusztav",
                                    "Vendég_neve": "Bárci Gusztáv",
                                    "Születési_dátum": "1967-02-25",
                                    "Legelső_foglalás_dátuma": "2016-05-06",
                                    "Legutolsó_foglalás_dátuma": "2017-02-23"
                                },
                                {
                                    "Vendég_azonosító": "GYONGYIK",
                                    "Vendég_neve": "Kornseé Gyöngyi",
                                    "Születési_dátum": "1974-06-07",
                                    "Legelső_foglalás_dátuma": "2016-06-02",
                                    "Legutolsó_foglalás_dátuma": "2017-01-22"
                                },
                                {
                                    "Vendég_azonosító": "GYORGYO",
                                    "Vendég_neve": "Oroszi György",
                                    "Születési_dátum": "1980-03-23",
                                    "Legelső_foglalás_dátuma": "2016-05-27",
                                    "Legutolsó_foglalás_dátuma": "2017-02-24"
                                },
                                {
                                    "Vendég_azonosító": "henrik3",
                                    "Vendég_neve": "Nádudvari Henrik",
                                    "Születési_dátum": "1986-12-05",
                                    "Legelső_foglalás_dátuma": "2016-08-24",
                                    "Legutolsó_foglalás_dátuma": "2017-01-27"
                                },
                                {
                                    "Vendég_azonosító": "IBOLYAA",
                                    "Vendég_neve": "Andor Ibolya",
                                    "Születési_dátum": "1983-11-27",
                                    "Legelső_foglalás_dátuma": "2016-08-29",
                                    "Legutolsó_foglalás_dátuma": "2017-01-17"
                                },
                                {
                                    "Vendég_azonosító": "ilona3",
                                    "Vendég_neve": "Bosnyák Ilona",
                                    "Születési_dátum": "1990-08-06",
                                    "Legelső_foglalás_dátuma": "2016-07-31",
                                    "Legutolsó_foglalás_dátuma": "2016-12-25"
                                },
                                {
                                    "Vendég_azonosító": "imre",
                                    "Vendég_neve": "Búza Imre",
                                    "Születési_dátum": "1988-09-30",
                                    "Legelső_foglalás_dátuma": "2016-09-17",
                                    "Legutolsó_foglalás_dátuma": "2016-10-28"
                                },
                                {
                                    "Vendég_azonosító": "imre1",
                                    "Vendég_neve": "Papp Imre",
                                    "Születési_dátum": "1976-06-25",
                                    "Legelső_foglalás_dátuma": "2016-06-23",
                                    "Legutolsó_foglalás_dátuma": "2017-02-05"
                                },
                                {
                                    "Vendég_azonosító": "istvan",
                                    "Vendég_neve": "Soós István",
                                    "Születési_dátum": "1986-06-28",
                                    "Legelső_foglalás_dátuma": "2016-10-07",
                                    "Legutolsó_foglalás_dátuma": "2017-01-02"
                                },
                                {
                                    "Vendég_azonosító": "istvan1",
                                    "Vendég_neve": "Vizi István",
                                    "Születési_dátum": "1997-12-01",
                                    "Legelső_foglalás_dátuma": "2016-04-16",
                                    "Legutolsó_foglalás_dátuma": "2017-02-07"
                                },
                                {
                                    "Vendég_azonosító": "ISTVANV",
                                    "Vendég_neve": "Varga István",
                                    "Születési_dátum": "1989-04-09",
                                    "Legelső_foglalás_dátuma": "2016-07-01",
                                    "Legutolsó_foglalás_dátuma": "2016-09-29"
                                },
                                {
                                    "Vendég_azonosító": "janos3",
                                    "Vendég_neve": "Harangozó János",
                                    "Születési_dátum": "1967-11-02",
                                    "Legelső_foglalás_dátuma": "2016-06-04",
                                    "Legutolsó_foglalás_dátuma": "2017-02-12"
                                },
                                {
                                    "Vendég_azonosító": "JANOSG",
                                    "Vendég_neve": "Giliga János",
                                    "Születési_dátum": "1975-01-03",
                                    "Legelső_foglalás_dátuma": "2016-05-09",
                                    "Legutolsó_foglalás_dátuma": "2017-01-31"
                                },
                                {
                                    "Vendég_azonosító": "JANOSP",
                                    "Vendég_neve": "Pálinkás János",
                                    "Születési_dátum": "1984-10-12",
                                    "Legelső_foglalás_dátuma": "2016-07-04",
                                    "Legutolsó_foglalás_dátuma": "2016-12-18"
                                },
                                {
                                    "Vendég_azonosító": "jozsef",
                                    "Vendég_neve": "Gergely József",
                                    "Születési_dátum": "1985-11-01",
                                    "Legelső_foglalás_dátuma": "2016-09-13",
                                    "Legutolsó_foglalás_dátuma": "2016-12-06"
                                },
                                {
                                    "Vendég_azonosító": "jozsef2",
                                    "Vendég_neve": "Vajda József",
                                    "Születési_dátum": "1978-09-04",
                                    "Legelső_foglalás_dátuma": "2016-07-06",
                                    "Legutolsó_foglalás_dátuma": "2016-11-25"
                                },
                                {
                                    "Vendég_azonosító": "JOZSEFG",
                                    "Vendég_neve": "Gyuris József",
                                    "Születési_dátum": "1975-05-26",
                                    "Legelső_foglalás_dátuma": "2016-05-02",
                                    "Legutolsó_foglalás_dátuma": "2017-02-24"
                                },
                                {
                                    "Vendég_azonosító": "JUDITH",
                                    "Vendég_neve": "Hídasi Judit",
                                    "Születési_dátum": "1997-07-12",
                                    "Legelső_foglalás_dátuma": "2016-06-06",
                                    "Legutolsó_foglalás_dátuma": "2016-12-19"
                                },
                                {
                                    "Vendég_azonosító": "julia",
                                    "Vendég_neve": "Tóth Júlia",
                                    "Születési_dátum": "1993-03-02",
                                    "Legelső_foglalás_dátuma": "2016-04-21",
                                    "Legutolsó_foglalás_dátuma": "2017-02-27"
                                },
                                {
                                    "Vendég_azonosító": "julia4",
                                    "Vendég_neve": "Nagy Júlia",
                                    "Születési_dátum": "1985-08-11",
                                    "Legelső_foglalás_dátuma": "2016-11-07",
                                    "Legutolsó_foglalás_dátuma": "2017-02-04"
                                },
                                {
                                    "Vendég_azonosító": "julianna4",
                                    "Vendég_neve": "Szabó Julianna",
                                    "Születési_dátum": "1990-09-29",
                                    "Legelső_foglalás_dátuma": "2016-07-20",
                                    "Legutolsó_foglalás_dátuma": "2016-11-27"
                                },
                                {
                                    "Vendég_azonosító": "kata",
                                    "Vendég_neve": "Gondos Katalin",
                                    "Születési_dátum": "1968-06-22",
                                    "Legelső_foglalás_dátuma": "2016-04-10",
                                    "Legutolsó_foglalás_dátuma": "2017-01-15"
                                },
                                {
                                    "Vendég_azonosító": "katalin",
                                    "Vendég_neve": "Horváth Katalin",
                                    "Születési_dátum": "1968-01-01",
                                    "Legelső_foglalás_dátuma": "2016-04-10",
                                    "Legutolsó_foglalás_dátuma": "2017-02-24"
                                },
                                {
                                    "Vendég_azonosító": "katalin4",
                                    "Vendég_neve": "Kertész Katalin",
                                    "Születési_dátum": "1986-04-13",
                                    "Legelső_foglalás_dátuma": "2016-07-01",
                                    "Legutolsó_foglalás_dátuma": "2017-01-24"
                                },
                                {
                                    "Vendég_azonosító": "kati",
                                    "Vendég_neve": "Zatykó Katalin",
                                    "Születési_dátum": "1995-05-01",
                                    "Legelső_foglalás_dátuma": "2016-06-06",
                                    "Legutolsó_foglalás_dátuma": "2016-10-30"
                                },
                                {
                                    "Vendég_azonosító": "katka",
                                    "Vendég_neve": "Kovács Katalin",
                                    "Születési_dátum": "1975-03-31",
                                    "Legelső_foglalás_dátuma": "2016-04-10",
                                    "Legutolsó_foglalás_dátuma": "2017-01-19"
                                },
                                {
                                    "Vendég_azonosító": "klaudia2",
                                    "Vendég_neve": "Bakó Klaudia",
                                    "Születési_dátum": "1982-04-16",
                                    "Legelső_foglalás_dátuma": "2016-06-06",
                                    "Legutolsó_foglalás_dátuma": "2016-10-02"
                                },
                                {
                                    "Vendég_azonosító": "kornel4",
                                    "Vendég_neve": "Lukács Kornél",
                                    "Születési_dátum": "1975-09-30",
                                    "Legelső_foglalás_dátuma": "2016-05-08",
                                    "Legutolsó_foglalás_dátuma": "2016-09-23"
                                },
                                {
                                    "Vendég_azonosító": "kristof4",
                                    "Vendég_neve": "Poprádi Kristóf",
                                    "Születési_dátum": "1984-01-15",
                                    "Legelső_foglalás_dátuma": "2016-04-08",
                                    "Legutolsó_foglalás_dátuma": "2016-09-30"
                                },
                                {
                                    "Vendég_azonosító": "kriszti",
                                    "Vendég_neve": "Horváth Krisztina",
                                    "Születési_dátum": "1978-06-12",
                                    "Legelső_foglalás_dátuma": "2016-05-19",
                                    "Legutolsó_foglalás_dátuma": "2017-03-03"
                                },
                                {
                                    "Vendég_azonosító": "krisztian4",
                                    "Vendég_neve": "Czérna Krisztián",
                                    "Születési_dátum": "1970-08-01",
                                    "Legelső_foglalás_dátuma": "2016-06-03",
                                    "Legutolsó_foglalás_dátuma": "2017-02-23"
                                },
                                {
                                    "Vendég_azonosító": "KRISZTIANM",
                                    "Vendég_neve": "Mogyródi Krisztián",
                                    "Születési_dátum": "1968-05-27",
                                    "Legelső_foglalás_dátuma": "2016-04-09",
                                    "Legutolsó_foglalás_dátuma": "2017-01-16"
                                },
                                {
                                    "Vendég_azonosító": "krisztina",
                                    "Vendég_neve": "Szedlár Krisztina",
                                    "Születési_dátum": "1979-05-10",
                                    "Legelső_foglalás_dátuma": "2016-05-21",
                                    "Legutolsó_foglalás_dátuma": "2017-02-16"
                                },
                                {
                                    "Vendég_azonosító": "krisztina1",
                                    "Vendég_neve": "Bori Krisztina",
                                    "Születési_dátum": "1969-10-13",
                                    "Legelső_foglalás_dátuma": "2016-04-28",
                                    "Legutolsó_foglalás_dátuma": "2017-01-21"
                                },
                                {
                                    "Vendég_azonosító": "KRISZTINAG",
                                    "Vendég_neve": "Gyárfás Krisztina",
                                    "Születési_dátum": "1987-09-19",
                                    "Legelső_foglalás_dátuma": "2016-04-23",
                                    "Legutolsó_foglalás_dátuma": "2017-01-25"
                                },
                                {
                                    "Vendég_azonosító": "lajos",
                                    "Vendég_neve": "Kiss Lajos",
                                    "Születési_dátum": "1978-10-31",
                                    "Legelső_foglalás_dátuma": "2016-07-18",
                                    "Legutolsó_foglalás_dátuma": "2017-02-12"
                                },
                                {
                                    "Vendég_azonosító": "lala",
                                    "Vendég_neve": "Nagymihály Lajos",
                                    "Születési_dátum": "1997-02-24",
                                    "Legelső_foglalás_dátuma": "2016-06-16",
                                    "Legutolsó_foglalás_dátuma": "2017-01-17"
                                },
                                {
                                    "Vendég_azonosító": "laszlo1",
                                    "Vendég_neve": "Farkas László",
                                    "Születési_dátum": "1967-10-30",
                                    "Legelső_foglalás_dátuma": "2016-09-23",
                                    "Legutolsó_foglalás_dátuma": "2016-09-23"
                                },
                                {
                                    "Vendég_azonosító": "laszlo2",
                                    "Vendég_neve": "Móra László",
                                    "Születési_dátum": "1975-02-19",
                                    "Legelső_foglalás_dátuma": "2016-04-06",
                                    "Legutolsó_foglalás_dátuma": "2016-11-25"
                                },
                                {
                                    "Vendég_azonosító": "LASZLOA",
                                    "Vendég_neve": "Antal László",
                                    "Születési_dátum": "1969-06-29",
                                    "Legelső_foglalás_dátuma": "2016-06-03",
                                    "Legutolsó_foglalás_dátuma": "2017-02-08"
                                },
                                {
                                    "Vendég_azonosító": "LASZLON",
                                    "Vendég_neve": "Nagy László",
                                    "Születési_dátum": "1969-04-12",
                                    "Legelső_foglalás_dátuma": "2016-06-03",
                                    "Legutolsó_foglalás_dátuma": "2017-02-18"
                                },
                                {
                                    "Vendég_azonosító": "maria1",
                                    "Vendég_neve": "Baráth Mária",
                                    "Születési_dátum": "1995-11-19",
                                    "Legelső_foglalás_dátuma": "2016-05-13",
                                    "Legutolsó_foglalás_dátuma": "2017-02-24"
                                },
                                {
                                    "Vendég_azonosító": "mark",
                                    "Vendég_neve": "Kispál Márk",
                                    "Születési_dátum": "1996-01-23",
                                    "Legelső_foglalás_dátuma": "2016-04-19",
                                    "Legutolsó_foglalás_dátuma": "2016-11-19"
                                },
                                {
                                    "Vendég_azonosító": "MARKH",
                                    "Vendég_neve": "Horváth Márk",
                                    "Születési_dátum": "1997-09-23",
                                    "Legelső_foglalás_dátuma": "2016-09-14",
                                    "Legutolsó_foglalás_dátuma": "2017-01-22"
                                },
                                {
                                    "Vendég_azonosító": "marton",
                                    "Vendég_neve": "Kalacsi Márton",
                                    "Születési_dátum": "1989-06-24",
                                    "Legelső_foglalás_dátuma": "2016-04-27",
                                    "Legutolsó_foglalás_dátuma": "2017-03-02"
                                },
                                {
                                    "Vendég_azonosító": "MATEK",
                                    "Vendég_neve": "Koza Máté",
                                    "Születési_dátum": "1997-02-28",
                                    "Legelső_foglalás_dátuma": "2016-08-17",
                                    "Legutolsó_foglalás_dátuma": "2017-01-16"
                                },
                                {
                                    "Vendég_azonosító": "matyas2",
                                    "Vendég_neve": "Botka Mátyás",
                                    "Születési_dátum": "1972-07-07",
                                    "Legelső_foglalás_dátuma": "2016-07-13",
                                    "Legutolsó_foglalás_dátuma": "2016-12-09"
                                },
                                {
                                    "Vendég_azonosító": "MATYASS",
                                    "Vendég_neve": "Szilágyi Mátyás",
                                    "Születési_dátum": "1975-03-22",
                                    "Legelső_foglalás_dátuma": "2016-05-10",
                                    "Legutolsó_foglalás_dátuma": "2017-01-09"
                                },
                                {
                                    "Vendég_azonosító": "MIHALYJ",
                                    "Vendég_neve": "Juhász Mihály",
                                    "Születési_dátum": "1979-10-12",
                                    "Legelső_foglalás_dátuma": "2016-05-30",
                                    "Legutolsó_foglalás_dátuma": "2017-02-06"
                                },
                                {
                                    "Vendég_azonosító": "miklos2",
                                    "Vendég_neve": "Gondos Miklós",
                                    "Születési_dátum": "1995-10-07",
                                    "Legelső_foglalás_dátuma": "2016-04-19",
                                    "Legutolsó_foglalás_dátuma": "2016-11-16"
                                },
                                {
                                    "Vendég_azonosító": "MIKLOSB",
                                    "Vendég_neve": "Balla Miklós",
                                    "Születési_dátum": "1979-02-16",
                                    "Legelső_foglalás_dátuma": "2016-06-26",
                                    "Legutolsó_foglalás_dátuma": "2016-12-05"
                                },
                                {
                                    "Vendég_azonosító": "MONIKAM",
                                    "Vendég_neve": "Mohos Mónika",
                                    "Születési_dátum": "1974-10-01",
                                    "Legelső_foglalás_dátuma": "2016-04-29",
                                    "Legutolsó_foglalás_dátuma": "2017-02-23"
                                },
                                {
                                    "Vendég_azonosító": "NANDORF",
                                    "Vendég_neve": "Fő Nándor",
                                    "Születési_dátum": "1968-11-12",
                                    "Legelső_foglalás_dátuma": "2016-04-06",
                                    "Legutolsó_foglalás_dátuma": "2017-02-05"
                                },
                                {
                                    "Vendég_azonosító": "nikolett3",
                                    "Vendég_neve": "Horváth Nikolett",
                                    "Születési_dátum": "1981-09-29",
                                    "Legelső_foglalás_dátuma": "2016-05-24",
                                    "Legutolsó_foglalás_dátuma": "2016-10-22"
                                },
                                {
                                    "Vendég_azonosító": "nikoletta4",
                                    "Vendég_neve": "Kő Nikoletta",
                                    "Születési_dátum": "1972-01-10",
                                    "Legelső_foglalás_dátuma": "2016-04-08",
                                    "Legutolsó_foglalás_dátuma": "2017-02-01"
                                },
                                {
                                    "Vendég_azonosító": "NIKOLETTAT",
                                    "Vendég_neve": "Tatár Nikoletta",
                                    "Születési_dátum": "1997-10-19",
                                    "Legelső_foglalás_dátuma": "2016-05-22",
                                    "Legutolsó_foglalás_dátuma": "2016-09-21"
                                },
                                {
                                    "Vendég_azonosító": "norbert",
                                    "Vendég_neve": "Szűcs Norbert",
                                    "Születési_dátum": "1969-07-17",
                                    "Legelső_foglalás_dátuma": "2016-07-08",
                                    "Legutolsó_foglalás_dátuma": "2017-02-26"
                                },
                                {
                                    "Vendég_azonosító": "norbert2",
                                    "Vendég_neve": "Hegedűs Norbert",
                                    "Születési_dátum": "1991-07-17",
                                    "Legelső_foglalás_dátuma": "2016-04-19",
                                    "Legutolsó_foglalás_dátuma": "2017-01-29"
                                },
                                {
                                    "Vendég_azonosító": "norbert4",
                                    "Vendég_neve": "Mile Norbert",
                                    "Születési_dátum": "1983-06-15",
                                    "Legelső_foglalás_dátuma": "2016-04-10",
                                    "Legutolsó_foglalás_dátuma": "2017-03-03"
                                },
                                {
                                    "Vendég_azonosító": "norbert5",
                                    "Vendég_neve": "Béres Norbert",
                                    "Születési_dátum": "1975-07-27",
                                    "Legelső_foglalás_dátuma": "2016-06-24",
                                    "Legutolsó_foglalás_dátuma": "2016-11-05"
                                },
                                {
                                    "Vendég_azonosító": "pal",
                                    "Vendég_neve": "Barabás Pál",
                                    "Születési_dátum": "1968-02-06",
                                    "Legelső_foglalás_dátuma": "2016-08-14",
                                    "Legutolsó_foglalás_dátuma": "2017-02-20"
                                },
                                {
                                    "Vendég_azonosító": "peter1",
                                    "Vendég_neve": "Kozma Péter",
                                    "Születési_dátum": "1976-03-18",
                                    "Legelső_foglalás_dátuma": "2016-07-14",
                                    "Legutolsó_foglalás_dátuma": "2017-02-28"
                                },
                                {
                                    "Vendég_azonosító": "peter2",
                                    "Vendég_neve": "Bozsó Péter",
                                    "Születési_dátum": "1976-01-26",
                                    "Legelső_foglalás_dátuma": "2016-07-03",
                                    "Legutolsó_foglalás_dátuma": "2016-11-15"
                                },
                                {
                                    "Vendég_azonosító": "peter3",
                                    "Vendég_neve": "Szalai Péter",
                                    "Születési_dátum": "1983-07-18",
                                    "Legelső_foglalás_dátuma": "2016-06-30",
                                    "Legutolsó_foglalás_dátuma": "2017-02-21"
                                },
                                {
                                    "Vendég_azonosító": "peter4",
                                    "Vendég_neve": "Bíró Péter",
                                    "Születési_dátum": "1985-09-01",
                                    "Legelső_foglalás_dátuma": "2016-04-12",
                                    "Legutolsó_foglalás_dátuma": "2017-02-05"
                                },
                                {
                                    "Vendég_azonosító": "PETERB",
                                    "Vendég_neve": "Berendi Péter",
                                    "Születési_dátum": "1969-01-01",
                                    "Legelső_foglalás_dátuma": "2016-04-06",
                                    "Legutolsó_foglalás_dátuma": "2016-11-17"
                                },
                                {
                                    "Vendég_azonosító": "polla",
                                    "Vendég_neve": "Palágyi Polla",
                                    "Születési_dátum": "1994-02-04",
                                    "Legelső_foglalás_dátuma": "2016-04-17",
                                    "Legutolsó_foglalás_dátuma": "2017-02-11"
                                },
                                {
                                    "Vendég_azonosító": "rajmond4",
                                    "Vendég_neve": "Rácz Rajmond",
                                    "Születési_dátum": "1993-09-25",
                                    "Legelső_foglalás_dátuma": "2016-09-05",
                                    "Legutolsó_foglalás_dátuma": "2016-11-16"
                                },
                                {
                                    "Vendég_azonosító": "reka4",
                                    "Vendég_neve": "Szikszai Réka",
                                    "Születési_dátum": "1969-11-27",
                                    "Legelső_foglalás_dátuma": "2016-07-27",
                                    "Legutolsó_foglalás_dátuma": "2017-02-26"
                                },
                                {
                                    "Vendég_azonosító": "RENATAK",
                                    "Vendég_neve": "Kardos Renáta",
                                    "Születési_dátum": "1988-05-17",
                                    "Legelső_foglalás_dátuma": "2016-10-27",
                                    "Legutolsó_foglalás_dátuma": "2017-03-01"
                                },
                                {
                                    "Vendég_azonosító": "RENATAS",
                                    "Vendég_neve": "Szirmai Renáta",
                                    "Születési_dátum": "1991-03-26",
                                    "Legelső_foglalás_dátuma": "2016-05-04",
                                    "Legutolsó_foglalás_dátuma": "2017-02-14"
                                },
                                {
                                    "Vendég_azonosító": "robert2",
                                    "Vendég_neve": "Patay Róbert",
                                    "Születési_dátum": "1977-01-08",
                                    "Legelső_foglalás_dátuma": "2016-05-15",
                                    "Legutolsó_foglalás_dátuma": "2016-12-17"
                                },
                                {
                                    "Vendég_azonosító": "ROBERTI",
                                    "Vendég_neve": "Iván Róbert",
                                    "Születési_dátum": "1967-07-02",
                                    "Legelső_foglalás_dátuma": "2016-07-12",
                                    "Legutolsó_foglalás_dátuma": "2017-02-17"
                                },
                                {
                                    "Vendég_azonosító": "ROBERTP",
                                    "Vendég_neve": "Pásztor Róbert",
                                    "Születési_dátum": "1972-05-16",
                                    "Legelső_foglalás_dátuma": "2016-07-30",
                                    "Legutolsó_foglalás_dátuma": "2016-09-08"
                                },
                                {
                                    "Vendég_azonosító": "roland",
                                    "Vendég_neve": "Tóth Roland",
                                    "Születési_dátum": "1968-03-21",
                                    "Legelső_foglalás_dátuma": "2016-06-09",
                                    "Legutolsó_foglalás_dátuma": "2016-11-19"
                                },
                                {
                                    "Vendég_azonosító": "roland1",
                                    "Vendég_neve": "Ferencz Roland",
                                    "Születési_dátum": "1985-12-31",
                                    "Legelső_foglalás_dátuma": "2016-11-05",
                                    "Legutolsó_foglalás_dátuma": "2017-01-16"
                                },
                                {
                                    "Vendég_azonosító": "roza2",
                                    "Vendég_neve": "Bucskó Róza",
                                    "Születési_dátum": "1988-12-26",
                                    "Legelső_foglalás_dátuma": "2016-09-10",
                                    "Legutolsó_foglalás_dátuma": "2017-02-18"
                                },
                                {
                                    "Vendég_azonosító": "sandor",
                                    "Vendég_neve": "Karasz Sándor",
                                    "Születési_dátum": "1970-01-27",
                                    "Legelső_foglalás_dátuma": "2016-07-04",
                                    "Legutolsó_foglalás_dátuma": "2016-09-19"
                                },
                                {
                                    "Vendég_azonosító": "sandor3",
                                    "Vendég_neve": "Farkas Sándor",
                                    "Születési_dátum": "1989-01-27",
                                    "Legelső_foglalás_dátuma": "2016-05-12",
                                    "Legutolsó_foglalás_dátuma": "2016-11-10"
                                },
                                {
                                    "Vendég_azonosító": "sandor4",
                                    "Vendég_neve": "Nagy Sándor",
                                    "Születési_dátum": "1997-06-11",
                                    "Legelső_foglalás_dátuma": "2016-10-15",
                                    "Legutolsó_foglalás_dátuma": "2017-01-22"
                                },
                                {
                                    "Vendég_azonosító": "sara",
                                    "Vendég_neve": "Farkas Sára",
                                    "Születési_dátum": "1973-04-05",
                                    "Legelső_foglalás_dátuma": "2016-05-28",
                                    "Legutolsó_foglalás_dátuma": "2016-12-25"
                                },
                                {
                                    "Vendég_azonosító": "SEBASTIANF",
                                    "Vendég_neve": "Foltényi Sebastián",
                                    "Születési_dátum": "1992-09-09",
                                    "Legelső_foglalás_dátuma": "2016-04-06",
                                    "Legutolsó_foglalás_dátuma": "2016-09-17"
                                },
                                {
                                    "Vendég_azonosító": "sebestyen",
                                    "Vendég_neve": "Rab Sebestyén",
                                    "Születési_dátum": "1992-03-03",
                                    "Legelső_foglalás_dátuma": "2016-04-07",
                                    "Legutolsó_foglalás_dátuma": "2016-10-26"
                                },
                                {
                                    "Vendég_azonosító": "szabolcs",
                                    "Vendég_neve": "Bodor Szabolcs",
                                    "Születési_dátum": "1990-07-16",
                                    "Legelső_foglalás_dátuma": "2016-12-05",
                                    "Legutolsó_foglalás_dátuma": "2016-12-05"
                                },
                                {
                                    "Vendég_azonosító": "SZABOLCSM",
                                    "Vendég_neve": "Miklós Szabolcs",
                                    "Születési_dátum": "1980-08-11",
                                    "Legelső_foglalás_dátuma": "2016-06-18",
                                    "Legutolsó_foglalás_dátuma": "2017-02-04"
                                },
                                {
                                    "Vendég_azonosító": "SZILARDS",
                                    "Vendég_neve": "Szalai Szilárd",
                                    "Születési_dátum": "1967-09-28",
                                    "Legelső_foglalás_dátuma": "2016-04-23",
                                    "Legutolsó_foglalás_dátuma": "2017-02-08"
                                },
                                {
                                    "Vendég_azonosító": "szilvia1",
                                    "Vendég_neve": "Tari Szilvia",
                                    "Születési_dátum": "1971-03-09",
                                    "Legelső_foglalás_dátuma": "2016-05-14",
                                    "Legutolsó_foglalás_dátuma": "2017-01-28"
                                },
                                {
                                    "Vendég_azonosító": "tamara2",
                                    "Vendég_neve": "Miklós Tamara",
                                    "Születési_dátum": "1980-08-11",
                                    "Legelső_foglalás_dátuma": "2016-08-12",
                                    "Legutolsó_foglalás_dátuma": "2016-11-15"
                                },
                                {
                                    "Vendég_azonosító": "tamas",
                                    "Vendég_neve": "Antal Tamás",
                                    "Születési_dátum": "1984-09-05",
                                    "Legelső_foglalás_dátuma": "2016-05-17",
                                    "Legutolsó_foglalás_dátuma": "2017-02-14"
                                },
                                {
                                    "Vendég_azonosító": "TAMASF",
                                    "Vendég_neve": "Fényes Tamás",
                                    "Születési_dátum": "1997-11-06",
                                    "Legelső_foglalás_dátuma": "2016-05-03",
                                    "Legutolsó_foglalás_dátuma": "2017-02-16"
                                },
                                {
                                    "Vendég_azonosító": "tibor",
                                    "Vendég_neve": "Gombos Tibor",
                                    "Születési_dátum": "1993-11-28",
                                    "Legelső_foglalás_dátuma": "2016-10-09",
                                    "Legutolsó_foglalás_dátuma": "2016-11-05"
                                },
                                {
                                    "Vendég_azonosító": "tibor2",
                                    "Vendég_neve": "Dániel Tibor",
                                    "Születési_dátum": "1985-02-02",
                                    "Legelső_foglalás_dátuma": "2016-10-20",
                                    "Legutolsó_foglalás_dátuma": "2016-10-20"
                                },
                                {
                                    "Vendég_azonosító": "tihamer",
                                    "Vendég_neve": "Kazy Tihamér",
                                    "Születési_dátum": "1991-07-05",
                                    "Legelső_foglalás_dátuma": "2016-05-30",
                                    "Legutolsó_foglalás_dátuma": "2016-12-25"
                                },
                                {
                                    "Vendég_azonosító": "timea",
                                    "Vendég_neve": "Papós Tímea",
                                    "Születési_dátum": "1996-01-08",
                                    "Legelső_foglalás_dátuma": "2016-12-26",
                                    "Legutolsó_foglalás_dátuma": "2016-12-26"
                                },
                                {
                                    "Vendég_azonosító": "timea2",
                                    "Vendég_neve": "Dusha Tímea",
                                    "Születési_dátum": "1975-08-22",
                                    "Legelső_foglalás_dátuma": "2016-06-06",
                                    "Legutolsó_foglalás_dátuma": "2016-12-14"
                                },
                                {
                                    "Vendég_azonosító": "tunde",
                                    "Vendég_neve": "Turcsik Tünde",
                                    "Születési_dátum": "1974-02-12",
                                    "Legelső_foglalás_dátuma": "2016-06-03",
                                    "Legutolsó_foglalás_dátuma": "2017-01-03"
                                },
                                {
                                    "Vendég_azonosító": "valentin",
                                    "Vendég_neve": "Feró Valentin",
                                    "Születési_dátum": "1986-01-09",
                                    "Legelső_foglalás_dátuma": "2016-05-24",
                                    "Legutolsó_foglalás_dátuma": "2016-12-01"
                                },
                                {
                                    "Vendég_azonosító": "veronika4",
                                    "Vendég_neve": "Tankó Veronika",
                                    "Születési_dátum": "1983-08-28",
                                    "Legelső_foglalás_dátuma": "2016-05-30",
                                    "Legutolsó_foglalás_dátuma": "2017-02-03"
                                },
                                {
                                    "Vendég_azonosító": "VIKTORIAU",
                                    "Vendég_neve": "Urbán Viktoria",
                                    "Születési_dátum": "1996-05-03",
                                    "Legelső_foglalás_dátuma": "2016-04-30",
                                    "Legutolsó_foglalás_dátuma": "2016-10-26"
                                },
                                {
                                    "Vendég_azonosító": "VIKTORK",
                                    "Vendég_neve": "Keresztúri Viktor",
                                    "Születési_dátum": "1989-05-05",
                                    "Legelső_foglalás_dátuma": "2016-05-30",
                                    "Legutolsó_foglalás_dátuma": "2016-06-06"
                                },
                                {
                                    "Vendég_azonosító": "vivien3",
                                    "Vendég_neve": "Boros Vivien",
                                    "Születési_dátum": "1991-07-01",
                                    "Legelső_foglalás_dátuma": "2016-05-02",
                                    "Legutolsó_foglalás_dátuma": "2016-12-24"
                                },
                                {
                                    "Vendég_azonosító": "zoltan",
                                    "Vendég_neve": "Fodor Zoltán",
                                    "Születési_dátum": "1979-11-25",
                                    "Legelső_foglalás_dátuma": "2016-08-24",
                                    "Legutolsó_foglalás_dátuma": "2016-09-05"
                                },
                                {
                                    "Vendég_azonosító": "zoltan4",
                                    "Vendég_neve": "Barna Zoltán",
                                    "Születési_dátum": "1986-05-20",
                                    "Legelső_foglalás_dátuma": "2016-05-12",
                                    "Legutolsó_foglalás_dátuma": "2017-01-01"
                                },
                                {
                                    "Vendég_azonosító": "ZOLTANP",
                                    "Vendég_neve": "Pintér Zoltán",
                                    "Születési_dátum": "1977-06-07",
                                    "Legelső_foglalás_dátuma": "2016-06-05",
                                    "Legutolsó_foglalás_dátuma": "2016-12-25"
                                },
                                {
                                    "Vendég_azonosító": "ZOLTANT",
                                    "Vendég_neve": "Tóth Zoltán",
                                    "Születési_dátum": "1985-12-14",
                                    "Legelső_foglalás_dátuma": "2016-05-01",
                                    "Legutolsó_foglalás_dátuma": "2017-01-16"
                                },
                                {
                                    "Vendég_azonosító": "zsofi1",
                                    "Vendég_neve": "Molnár Zsófi",
                                    "Születési_dátum": "1983-11-17",
                                    "Legelső_foglalás_dátuma": "2016-06-16",
                                    "Legutolsó_foglalás_dátuma": "2017-02-18"
                                },
                                {
                                    "Vendég_azonosító": "zsolt1",
                                    "Vendég_neve": "Pulai Zsolt",
                                    "Születési_dátum": "1988-05-27",
                                    "Legelső_foglalás_dátuma": "2016-04-14",
                                    "Legutolsó_foglalás_dátuma": "2016-07-31"
                                },
                                {
                                    "Vendég_azonosító": "ZSOLTJ",
                                    "Vendég_neve": "Józsa Zsolt",
                                    "Születési_dátum": "1983-09-29",
                                    "Legelső_foglalás_dátuma": "2016-04-24",
                                    "Legutolsó_foglalás_dátuma": "2016-10-01"
                                },
                                {
                                    "Vendég_azonosító": "zsuzsa",
                                    "Vendég_neve": "Pusztai Zsuzsanna",
                                    "Születési_dátum": "1980-09-17",
                                    "Legelső_foglalás_dátuma": "2016-07-24",
                                    "Legutolsó_foglalás_dátuma": "2016-11-28"
                                },
                                {
                                    "Vendég_azonosító": "zsuzsa3",
                                    "Vendég_neve": "Varsányi Zsuzsa",
                                    "Születési_dátum": "1979-03-06",
                                    "Legelső_foglalás_dátuma": "2016-07-30",
                                    "Legutolsó_foglalás_dátuma": "2016-10-27"
                                },
                                {
                                    "Vendég_azonosító": "zsuzsanna",
                                    "Vendég_neve": "Barta Zsuzsanna",
                                    "Születési_dátum": "1994-10-07",
                                    "Legelső_foglalás_dátuma": "2016-05-17",
                                    "Legutolsó_foglalás_dátuma": "2017-01-16"
                                },
                                {
                                    "Vendég_azonosító": "ZSUZSAV",
                                    "Vendég_neve": "Vajda Zsuzsa",
                                    "Születési_dátum": "1976-12-11",
                                    "Legelső_foglalás_dátuma": "2016-04-14",
                                    "Legutolsó_foglalás_dátuma": "2016-11-21"
                                }
                            ]
                        },
                        "text/html": [
                            "<table>",
                            "<tr><th>Vendég_azonosító</th><th>Vendég_neve</th><th>Születési_dátum</th><th>Legelső_foglalás_dátuma</th><th>Legutolsó_foglalás_dátuma</th></tr>",
                            "<tr><td>adam1</td><td>Kiss Ádám</td><td>1991-12-28</td><td>2016-05-28</td><td>2016-10-19</td></tr>",
                            "<tr><td>adam3</td><td>Barkóci Ádám</td><td>1970-06-07</td><td>2016-09-12</td><td>2017-02-06</td></tr>",
                            "<tr><td>adam4</td><td>Bieniek Ádám</td><td>1976-08-01</td><td>2016-08-28</td><td>2017-02-23</td></tr>",
                            "<tr><td>agnes</td><td>Lengyel Ágnes</td><td>1979-12-10</td><td>2016-05-09</td><td>2016-11-07</td></tr>",
                            "<tr><td>agnes3</td><td>Hartyánszky Ágnes</td><td>1967-04-11</td><td>2016-08-04</td><td>2017-02-16</td></tr>",
                            "<tr><td>AGNESH</td><td>Horváth Ágnes</td><td>1981-12-24</td><td>2016-04-10</td><td>2017-01-16</td></tr>",
                            "<tr><td>AGNESK</td><td>Kovács Ágnes</td><td>1988-10-02</td><td>2016-07-29</td><td>2016-12-17</td></tr>",
                            "<tr><td>akos</td><td>Bíró Ákos</td><td>1982-04-24</td><td>2016-05-18</td><td>2016-12-29</td></tr>",
                            "<tr><td>aladar</td><td>Dunai Aladár</td><td>1980-11-01</td><td>2016-05-17</td><td>2016-11-22</td></tr>",
                            "<tr><td>alexandra</td><td>Bagóczki Alexandra</td><td>1992-03-25</td><td>2016-05-21</td><td>2017-01-19</td></tr>",
                            "<tr><td>andi</td><td>Maródi Andrea</td><td>1968-05-07</td><td>2016-05-08</td><td>2017-01-13</td></tr>",
                            "<tr><td>andras2</td><td>Tóth András</td><td>1997-10-31</td><td>2016-05-30</td><td>2017-02-08</td></tr>",
                            "<tr><td>andras21</td><td>Molnár András</td><td>1977-11-16</td><td>2016-06-21</td><td>2017-01-28</td></tr>",
                            "<tr><td>andras3</td><td>Vígh András</td><td>1971-04-02</td><td>2016-05-01</td><td>2017-02-02</td></tr>",
                            "<tr><td>andras4</td><td>Back András</td><td>1984-04-07</td><td>2016-09-17</td><td>2017-01-09</td></tr>",
                            "<tr><td>andras41</td><td>Komjáti András</td><td>1997-10-25</td><td>2016-05-14</td><td>2016-11-23</td></tr>",
                            "<tr><td>ANDRASE</td><td>Erdei András</td><td>1997-05-29</td><td>2016-04-24</td><td>2016-11-29</td></tr>",
                            "<tr><td>ANDRASN</td><td>Nagy András</td><td>1980-09-05</td><td>2016-11-25</td><td>2016-11-25</td></tr>",
                            "<tr><td>andrea</td><td>Kiss Andrea</td><td>1993-03-25</td><td>2016-07-27</td><td>2017-02-09</td></tr>",
                            "<tr><td>andrea3</td><td>Szomor Andrea</td><td>1996-05-10</td><td>2016-11-19</td><td>2016-11-19</td></tr>",
                            "<tr><td>andrea4</td><td>Neizer Andrea</td><td>1981-05-17</td><td>2016-05-27</td><td>2017-01-22</td></tr>",
                            "<tr><td>ANDREAT</td><td>Tornyos Andrea</td><td>1986-11-14</td><td>2016-07-27</td><td>2016-10-08</td></tr>",
                            "<tr><td>anett3</td><td>Pivarcsi Anett</td><td>1967-01-03</td><td>2016-04-10</td><td>2016-10-16</td></tr>",
                            "<tr><td>aniko</td><td>Tóth Anikó</td><td>1973-06-03</td><td>2016-06-25</td><td>2017-02-23</td></tr>",
                            "<tr><td>aniko4</td><td>Böröcz Anikó</td><td>1978-03-26</td><td>2016-07-02</td><td>2016-10-16</td></tr>",
                            "<tr><td>ANIKOS</td><td>Simon Anikó</td><td>1988-12-14</td><td>2016-04-19</td><td>2016-11-10</td></tr>",
                            "<tr><td>anita</td><td>Hamvay-Kovács Anita</td><td>1971-03-20</td><td>2016-09-28</td><td>2017-02-20</td></tr>",
                            "<tr><td>annamaria1</td><td>Szűcs Annamária</td><td>1990-04-27</td><td>2016-06-06</td><td>2017-01-30</td></tr>",
                            "<tr><td>ANNAMARIAR</td><td>Regős Annamária</td><td>1977-09-26</td><td>2016-06-08</td><td>2017-02-16</td></tr>",
                            "<tr><td>aron2</td><td>Jakab Áron</td><td>1971-04-26</td><td>2016-04-11</td><td>2017-02-26</td></tr>",
                            "<tr><td>ARONK</td><td>Kelemen Áron</td><td>1989-08-10</td><td>2016-04-06</td><td>2017-02-21</td></tr>",
                            "<tr><td>arpad2</td><td>Ötvös Árpád</td><td>1990-06-08</td><td>2016-06-05</td><td>2017-02-18</td></tr>",
                            "<tr><td>ARPADH</td><td>Horváth Árpád</td><td>1990-05-18</td><td>2016-06-06</td><td>2017-02-16</td></tr>",
                            "<tr><td>ARPADM</td><td>Móricz Árpád</td><td>1986-04-20</td><td>2016-05-29</td><td>2017-02-12</td></tr>",
                            "<tr><td>attila</td><td>Csóti Attila</td><td>1979-12-25</td><td>2016-09-30</td><td>2016-12-22</td></tr>",
                            "<tr><td>attila1</td><td>Gulyás Attila</td><td>1982-08-16</td><td>2016-05-20</td><td>2017-01-23</td></tr>",
                            "<tr><td>attila4</td><td>Baróti Attila</td><td>1975-11-06</td><td>2016-08-18</td><td>2017-02-15</td></tr>",
                            "<tr><td>ATTILAO</td><td>Opra Attila</td><td>1995-05-08</td><td>2016-05-21</td><td>2017-02-22</td></tr>",
                            "<tr><td>balazs1</td><td>Bozsik Balázs</td><td>1992-11-03</td><td>2016-05-07</td><td>2017-02-12</td></tr>",
                            "<tr><td>balazs2</td><td>Szűcs Balázs</td><td>1984-10-31</td><td>2016-04-16</td><td>2017-02-27</td></tr>",
                            "<tr><td>balazs3</td><td>Bakódy Balázs</td><td>1986-09-09</td><td>2016-07-17</td><td>2017-01-20</td></tr>",
                            "<tr><td>balint</td><td>Horváth Bálint</td><td>1996-03-17</td><td>2016-04-22</td><td>2016-11-24</td></tr>",
                            "<tr><td>balint1</td><td>Molnár Bálint</td><td>1989-08-24</td><td>2016-06-07</td><td>2017-01-03</td></tr>",
                            "<tr><td>balint2</td><td>Vukasinovity Bálint</td><td>1997-09-03</td><td>2016-07-21</td><td>2016-12-04</td></tr>",
                            "<tr><td>balu</td><td>Endresz Bálint</td><td>1976-08-01</td><td>2016-08-06</td><td>2016-12-22</td></tr>",
                            "<tr><td>beata4</td><td>Bagi Beáta</td><td>1994-03-19</td><td>2016-04-20</td><td>2016-10-03</td></tr>",
                            "<tr><td>BEATRIXK</td><td>Kerényi Beatrix</td><td>1972-04-06</td><td>2016-06-10</td><td>2017-02-08</td></tr>",
                            "<tr><td>BEATRIXS</td><td>Szekendi Beatrix</td><td>1981-04-06</td><td>2016-04-18</td><td>2017-02-03</td></tr>",
                            "<tr><td>BELAF</td><td>Farkas Béla</td><td>1995-02-24</td><td>2016-07-27</td><td>2016-12-06</td></tr>",
                            "<tr><td>bence</td><td>Győrffy Bence</td><td>1987-07-09</td><td>2016-05-08</td><td>2017-02-05</td></tr>",
                            "<tr><td>BENCEB</td><td>Bajusz Bence</td><td>1973-06-21</td><td>2016-05-14</td><td>2017-02-12</td></tr>",
                            "<tr><td>bernadett1</td><td>Simon Bernadett</td><td>1984-10-13</td><td>2016-06-12</td><td>2017-02-24</td></tr>",
                            "<tr><td>bernadett2</td><td>Kovács Bernadett</td><td>1996-08-20</td><td>2016-05-01</td><td>2017-01-24</td></tr>",
                            "<tr><td>BERNADETTO</td><td>Orbán Bernadett</td><td>1987-12-07</td><td>2016-04-10</td><td>2017-01-28</td></tr>",
                            "<tr><td>bertalan</td><td>Csiger Bertalan</td><td>1977-10-15</td><td>2016-05-18</td><td>2017-02-20</td></tr>",
                            "<tr><td>brigitta</td><td>Székely Brigitta</td><td>1978-09-13</td><td>2016-05-30</td><td>2017-01-23</td></tr>",
                            "<tr><td>brigitta3</td><td>Pataki Brigitta</td><td>1991-05-23</td><td>2016-06-01</td><td>2017-02-09</td></tr>",
                            "<tr><td>csongor3</td><td>Nagymihály Csongor</td><td>1984-03-05</td><td>2016-05-01</td><td>2017-02-13</td></tr>",
                            "<tr><td>dani</td><td>Vörös Dániel</td><td>1986-10-14</td><td>2016-06-06</td><td>2017-02-25</td></tr>",
                            "<tr><td>daniel</td><td>Rácz Dániel</td><td>1978-11-28</td><td>2016-04-10</td><td>2017-02-20</td></tr>",
                            "<tr><td>daniel1</td><td>Keszler Dániel</td><td>1969-07-16</td><td>2016-04-10</td><td>2017-03-01</td></tr>",
                            "<tr><td>david</td><td>Ambrus Dávid</td><td>1974-02-11</td><td>2016-05-18</td><td>2017-01-18</td></tr>",
                            "<tr><td>david1</td><td>Sobják Dávid</td><td>1970-08-16</td><td>2016-09-20</td><td>2017-02-25</td></tr>",
                            "<tr><td>david4</td><td>Berta Dávid</td><td>1990-10-08</td><td>2017-02-16</td><td>2017-02-16</td></tr>",
                            "<tr><td>debora</td><td>Barna Debóra</td><td>1976-10-14</td><td>2016-06-22</td><td>2017-02-04</td></tr>",
                            "<tr><td>denes</td><td>Tömböly Dénes</td><td>1975-03-14</td><td>2016-05-27</td><td>2016-11-06</td></tr>",
                            "<tr><td>dora3</td><td>Sarodi Dóra</td><td>1995-05-18</td><td>2016-08-16</td><td>2016-11-22</td></tr>",
                            "<tr><td>edit</td><td>Bittmann Edit</td><td>1984-04-20</td><td>2016-07-14</td><td>2017-02-08</td></tr>",
                            "<tr><td>emese</td><td>Kuruc Emese</td><td>1989-08-10</td><td>2016-07-22</td><td>2017-01-30</td></tr>",
                            "<tr><td>eszter</td><td>Molnár Eszter</td><td>1987-05-10</td><td>2016-08-12</td><td>2016-12-23</td></tr>",
                            "<tr><td>eszter2</td><td>Balogh Eszter</td><td>1998-01-31</td><td>2016-06-30</td><td>2016-12-29</td></tr>",
                            "<tr><td>eszter4</td><td>Fülöp Eszter</td><td>1993-06-28</td><td>2017-01-05</td><td>2017-02-26</td></tr>",
                            "<tr><td>ESZTERE</td><td>Érsek Eszter</td><td>1978-08-28</td><td>2016-05-30</td><td>2017-02-10</td></tr>",
                            "<tr><td>eva</td><td>Enyedi Éva</td><td>1967-06-30</td><td>2016-10-06</td><td>2017-01-14</td></tr>",
                            "<tr><td>eva2</td><td>Perlinger Éva</td><td>1971-08-19</td><td>2016-09-02</td><td>2017-01-06</td></tr>",
                            "<tr><td>EVAV</td><td>Viktor Éva</td><td>1980-12-26</td><td>2016-05-01</td><td>2017-02-04</td></tr>",
                            "<tr><td>ferenc1</td><td>Orosz Ferenc</td><td>1983-10-08</td><td>2016-05-08</td><td>2016-11-07</td></tr>",
                            "<tr><td>fruzsina4</td><td>Frank Fruzsina</td><td>1996-08-16</td><td>2016-06-02</td><td>2017-01-22</td></tr>",
                            "<tr><td>gabor1</td><td>Köves Gábor</td><td>1973-07-15</td><td>2016-06-20</td><td>2016-11-19</td></tr>",
                            "<tr><td>gabor4</td><td>Telek Gábor</td><td>1987-03-15</td><td>2016-04-26</td><td>2016-11-07</td></tr>",
                            "<tr><td>gabriella1</td><td>Nagy Gabriella</td><td>1982-11-01</td><td>2016-04-21</td><td>2017-02-21</td></tr>",
                            "<tr><td>gabriella10</td><td>Vida Gabriella</td><td>1969-06-18</td><td>2016-10-01</td><td>2016-10-01</td></tr>",
                            "<tr><td>georgij</td><td>Nyíri Georgij</td><td>1983-02-23</td><td>2016-06-16</td><td>2016-09-18</td></tr>",
                            "<tr><td>gusztav</td><td>Bárci Gusztáv</td><td>1967-02-25</td><td>2016-05-06</td><td>2017-02-23</td></tr>",
                            "<tr><td>GYONGYIK</td><td>Kornseé Gyöngyi</td><td>1974-06-07</td><td>2016-06-02</td><td>2017-01-22</td></tr>",
                            "<tr><td>GYORGYO</td><td>Oroszi György</td><td>1980-03-23</td><td>2016-05-27</td><td>2017-02-24</td></tr>",
                            "<tr><td>henrik3</td><td>Nádudvari Henrik</td><td>1986-12-05</td><td>2016-08-24</td><td>2017-01-27</td></tr>",
                            "<tr><td>IBOLYAA</td><td>Andor Ibolya</td><td>1983-11-27</td><td>2016-08-29</td><td>2017-01-17</td></tr>",
                            "<tr><td>ilona3</td><td>Bosnyák Ilona</td><td>1990-08-06</td><td>2016-07-31</td><td>2016-12-25</td></tr>",
                            "<tr><td>imre</td><td>Búza Imre</td><td>1988-09-30</td><td>2016-09-17</td><td>2016-10-28</td></tr>",
                            "<tr><td>imre1</td><td>Papp Imre</td><td>1976-06-25</td><td>2016-06-23</td><td>2017-02-05</td></tr>",
                            "<tr><td>istvan</td><td>Soós István</td><td>1986-06-28</td><td>2016-10-07</td><td>2017-01-02</td></tr>",
                            "<tr><td>istvan1</td><td>Vizi István</td><td>1997-12-01</td><td>2016-04-16</td><td>2017-02-07</td></tr>",
                            "<tr><td>ISTVANV</td><td>Varga István</td><td>1989-04-09</td><td>2016-07-01</td><td>2016-09-29</td></tr>",
                            "<tr><td>janos3</td><td>Harangozó János</td><td>1967-11-02</td><td>2016-06-04</td><td>2017-02-12</td></tr>",
                            "<tr><td>JANOSG</td><td>Giliga János</td><td>1975-01-03</td><td>2016-05-09</td><td>2017-01-31</td></tr>",
                            "<tr><td>JANOSP</td><td>Pálinkás János</td><td>1984-10-12</td><td>2016-07-04</td><td>2016-12-18</td></tr>",
                            "<tr><td>jozsef</td><td>Gergely József</td><td>1985-11-01</td><td>2016-09-13</td><td>2016-12-06</td></tr>",
                            "<tr><td>jozsef2</td><td>Vajda József</td><td>1978-09-04</td><td>2016-07-06</td><td>2016-11-25</td></tr>",
                            "<tr><td>JOZSEFG</td><td>Gyuris József</td><td>1975-05-26</td><td>2016-05-02</td><td>2017-02-24</td></tr>",
                            "<tr><td>JUDITH</td><td>Hídasi Judit</td><td>1997-07-12</td><td>2016-06-06</td><td>2016-12-19</td></tr>",
                            "<tr><td>julia</td><td>Tóth Júlia</td><td>1993-03-02</td><td>2016-04-21</td><td>2017-02-27</td></tr>",
                            "<tr><td>julia4</td><td>Nagy Júlia</td><td>1985-08-11</td><td>2016-11-07</td><td>2017-02-04</td></tr>",
                            "<tr><td>julianna4</td><td>Szabó Julianna</td><td>1990-09-29</td><td>2016-07-20</td><td>2016-11-27</td></tr>",
                            "<tr><td>kata</td><td>Gondos Katalin</td><td>1968-06-22</td><td>2016-04-10</td><td>2017-01-15</td></tr>",
                            "<tr><td>katalin</td><td>Horváth Katalin</td><td>1968-01-01</td><td>2016-04-10</td><td>2017-02-24</td></tr>",
                            "<tr><td>katalin4</td><td>Kertész Katalin</td><td>1986-04-13</td><td>2016-07-01</td><td>2017-01-24</td></tr>",
                            "<tr><td>kati</td><td>Zatykó Katalin</td><td>1995-05-01</td><td>2016-06-06</td><td>2016-10-30</td></tr>",
                            "<tr><td>katka</td><td>Kovács Katalin</td><td>1975-03-31</td><td>2016-04-10</td><td>2017-01-19</td></tr>",
                            "<tr><td>klaudia2</td><td>Bakó Klaudia</td><td>1982-04-16</td><td>2016-06-06</td><td>2016-10-02</td></tr>",
                            "<tr><td>kornel4</td><td>Lukács Kornél</td><td>1975-09-30</td><td>2016-05-08</td><td>2016-09-23</td></tr>",
                            "<tr><td>kristof4</td><td>Poprádi Kristóf</td><td>1984-01-15</td><td>2016-04-08</td><td>2016-09-30</td></tr>",
                            "<tr><td>kriszti</td><td>Horváth Krisztina</td><td>1978-06-12</td><td>2016-05-19</td><td>2017-03-03</td></tr>",
                            "<tr><td>krisztian4</td><td>Czérna Krisztián</td><td>1970-08-01</td><td>2016-06-03</td><td>2017-02-23</td></tr>",
                            "<tr><td>KRISZTIANM</td><td>Mogyródi Krisztián</td><td>1968-05-27</td><td>2016-04-09</td><td>2017-01-16</td></tr>",
                            "<tr><td>krisztina</td><td>Szedlár Krisztina</td><td>1979-05-10</td><td>2016-05-21</td><td>2017-02-16</td></tr>",
                            "<tr><td>krisztina1</td><td>Bori Krisztina</td><td>1969-10-13</td><td>2016-04-28</td><td>2017-01-21</td></tr>",
                            "<tr><td>KRISZTINAG</td><td>Gyárfás Krisztina</td><td>1987-09-19</td><td>2016-04-23</td><td>2017-01-25</td></tr>",
                            "<tr><td>lajos</td><td>Kiss Lajos</td><td>1978-10-31</td><td>2016-07-18</td><td>2017-02-12</td></tr>",
                            "<tr><td>lala</td><td>Nagymihály Lajos</td><td>1997-02-24</td><td>2016-06-16</td><td>2017-01-17</td></tr>",
                            "<tr><td>laszlo1</td><td>Farkas László</td><td>1967-10-30</td><td>2016-09-23</td><td>2016-09-23</td></tr>",
                            "<tr><td>laszlo2</td><td>Móra László</td><td>1975-02-19</td><td>2016-04-06</td><td>2016-11-25</td></tr>",
                            "<tr><td>LASZLOA</td><td>Antal László</td><td>1969-06-29</td><td>2016-06-03</td><td>2017-02-08</td></tr>",
                            "<tr><td>LASZLON</td><td>Nagy László</td><td>1969-04-12</td><td>2016-06-03</td><td>2017-02-18</td></tr>",
                            "<tr><td>maria1</td><td>Baráth Mária</td><td>1995-11-19</td><td>2016-05-13</td><td>2017-02-24</td></tr>",
                            "<tr><td>mark</td><td>Kispál Márk</td><td>1996-01-23</td><td>2016-04-19</td><td>2016-11-19</td></tr>",
                            "<tr><td>MARKH</td><td>Horváth Márk</td><td>1997-09-23</td><td>2016-09-14</td><td>2017-01-22</td></tr>",
                            "<tr><td>marton</td><td>Kalacsi Márton</td><td>1989-06-24</td><td>2016-04-27</td><td>2017-03-02</td></tr>",
                            "<tr><td>MATEK</td><td>Koza Máté</td><td>1997-02-28</td><td>2016-08-17</td><td>2017-01-16</td></tr>",
                            "<tr><td>matyas2</td><td>Botka Mátyás</td><td>1972-07-07</td><td>2016-07-13</td><td>2016-12-09</td></tr>",
                            "<tr><td>MATYASS</td><td>Szilágyi Mátyás</td><td>1975-03-22</td><td>2016-05-10</td><td>2017-01-09</td></tr>",
                            "<tr><td>MIHALYJ</td><td>Juhász Mihály</td><td>1979-10-12</td><td>2016-05-30</td><td>2017-02-06</td></tr>",
                            "<tr><td>miklos2</td><td>Gondos Miklós</td><td>1995-10-07</td><td>2016-04-19</td><td>2016-11-16</td></tr>",
                            "<tr><td>MIKLOSB</td><td>Balla Miklós</td><td>1979-02-16</td><td>2016-06-26</td><td>2016-12-05</td></tr>",
                            "<tr><td>MONIKAM</td><td>Mohos Mónika</td><td>1974-10-01</td><td>2016-04-29</td><td>2017-02-23</td></tr>",
                            "<tr><td>NANDORF</td><td>Fő Nándor</td><td>1968-11-12</td><td>2016-04-06</td><td>2017-02-05</td></tr>",
                            "<tr><td>nikolett3</td><td>Horváth Nikolett</td><td>1981-09-29</td><td>2016-05-24</td><td>2016-10-22</td></tr>",
                            "<tr><td>nikoletta4</td><td>Kő Nikoletta</td><td>1972-01-10</td><td>2016-04-08</td><td>2017-02-01</td></tr>",
                            "<tr><td>NIKOLETTAT</td><td>Tatár Nikoletta</td><td>1997-10-19</td><td>2016-05-22</td><td>2016-09-21</td></tr>",
                            "<tr><td>norbert</td><td>Szűcs Norbert</td><td>1969-07-17</td><td>2016-07-08</td><td>2017-02-26</td></tr>",
                            "<tr><td>norbert2</td><td>Hegedűs Norbert</td><td>1991-07-17</td><td>2016-04-19</td><td>2017-01-29</td></tr>",
                            "<tr><td>norbert4</td><td>Mile Norbert</td><td>1983-06-15</td><td>2016-04-10</td><td>2017-03-03</td></tr>",
                            "<tr><td>norbert5</td><td>Béres Norbert</td><td>1975-07-27</td><td>2016-06-24</td><td>2016-11-05</td></tr>",
                            "<tr><td>pal</td><td>Barabás Pál</td><td>1968-02-06</td><td>2016-08-14</td><td>2017-02-20</td></tr>",
                            "<tr><td>peter1</td><td>Kozma Péter</td><td>1976-03-18</td><td>2016-07-14</td><td>2017-02-28</td></tr>",
                            "<tr><td>peter2</td><td>Bozsó Péter</td><td>1976-01-26</td><td>2016-07-03</td><td>2016-11-15</td></tr>",
                            "<tr><td>peter3</td><td>Szalai Péter</td><td>1983-07-18</td><td>2016-06-30</td><td>2017-02-21</td></tr>",
                            "<tr><td>peter4</td><td>Bíró Péter</td><td>1985-09-01</td><td>2016-04-12</td><td>2017-02-05</td></tr>",
                            "<tr><td>PETERB</td><td>Berendi Péter</td><td>1969-01-01</td><td>2016-04-06</td><td>2016-11-17</td></tr>",
                            "<tr><td>polla</td><td>Palágyi Polla</td><td>1994-02-04</td><td>2016-04-17</td><td>2017-02-11</td></tr>",
                            "<tr><td>rajmond4</td><td>Rácz Rajmond</td><td>1993-09-25</td><td>2016-09-05</td><td>2016-11-16</td></tr>",
                            "<tr><td>reka4</td><td>Szikszai Réka</td><td>1969-11-27</td><td>2016-07-27</td><td>2017-02-26</td></tr>",
                            "<tr><td>RENATAK</td><td>Kardos Renáta</td><td>1988-05-17</td><td>2016-10-27</td><td>2017-03-01</td></tr>",
                            "<tr><td>RENATAS</td><td>Szirmai Renáta</td><td>1991-03-26</td><td>2016-05-04</td><td>2017-02-14</td></tr>",
                            "<tr><td>robert2</td><td>Patay Róbert</td><td>1977-01-08</td><td>2016-05-15</td><td>2016-12-17</td></tr>",
                            "<tr><td>ROBERTI</td><td>Iván Róbert</td><td>1967-07-02</td><td>2016-07-12</td><td>2017-02-17</td></tr>",
                            "<tr><td>ROBERTP</td><td>Pásztor Róbert</td><td>1972-05-16</td><td>2016-07-30</td><td>2016-09-08</td></tr>",
                            "<tr><td>roland</td><td>Tóth Roland</td><td>1968-03-21</td><td>2016-06-09</td><td>2016-11-19</td></tr>",
                            "<tr><td>roland1</td><td>Ferencz Roland</td><td>1985-12-31</td><td>2016-11-05</td><td>2017-01-16</td></tr>",
                            "<tr><td>roza2</td><td>Bucskó Róza</td><td>1988-12-26</td><td>2016-09-10</td><td>2017-02-18</td></tr>",
                            "<tr><td>sandor</td><td>Karasz Sándor</td><td>1970-01-27</td><td>2016-07-04</td><td>2016-09-19</td></tr>",
                            "<tr><td>sandor3</td><td>Farkas Sándor</td><td>1989-01-27</td><td>2016-05-12</td><td>2016-11-10</td></tr>",
                            "<tr><td>sandor4</td><td>Nagy Sándor</td><td>1997-06-11</td><td>2016-10-15</td><td>2017-01-22</td></tr>",
                            "<tr><td>sara</td><td>Farkas Sára</td><td>1973-04-05</td><td>2016-05-28</td><td>2016-12-25</td></tr>",
                            "<tr><td>SEBASTIANF</td><td>Foltényi Sebastián</td><td>1992-09-09</td><td>2016-04-06</td><td>2016-09-17</td></tr>",
                            "<tr><td>sebestyen</td><td>Rab Sebestyén</td><td>1992-03-03</td><td>2016-04-07</td><td>2016-10-26</td></tr>",
                            "<tr><td>szabolcs</td><td>Bodor Szabolcs</td><td>1990-07-16</td><td>2016-12-05</td><td>2016-12-05</td></tr>",
                            "<tr><td>SZABOLCSM</td><td>Miklós Szabolcs</td><td>1980-08-11</td><td>2016-06-18</td><td>2017-02-04</td></tr>",
                            "<tr><td>SZILARDS</td><td>Szalai Szilárd</td><td>1967-09-28</td><td>2016-04-23</td><td>2017-02-08</td></tr>",
                            "<tr><td>szilvia1</td><td>Tari Szilvia</td><td>1971-03-09</td><td>2016-05-14</td><td>2017-01-28</td></tr>",
                            "<tr><td>tamara2</td><td>Miklós Tamara</td><td>1980-08-11</td><td>2016-08-12</td><td>2016-11-15</td></tr>",
                            "<tr><td>tamas</td><td>Antal Tamás</td><td>1984-09-05</td><td>2016-05-17</td><td>2017-02-14</td></tr>",
                            "<tr><td>TAMASF</td><td>Fényes Tamás</td><td>1997-11-06</td><td>2016-05-03</td><td>2017-02-16</td></tr>",
                            "<tr><td>tibor</td><td>Gombos Tibor</td><td>1993-11-28</td><td>2016-10-09</td><td>2016-11-05</td></tr>",
                            "<tr><td>tibor2</td><td>Dániel Tibor</td><td>1985-02-02</td><td>2016-10-20</td><td>2016-10-20</td></tr>",
                            "<tr><td>tihamer</td><td>Kazy Tihamér</td><td>1991-07-05</td><td>2016-05-30</td><td>2016-12-25</td></tr>",
                            "<tr><td>timea</td><td>Papós Tímea</td><td>1996-01-08</td><td>2016-12-26</td><td>2016-12-26</td></tr>",
                            "<tr><td>timea2</td><td>Dusha Tímea</td><td>1975-08-22</td><td>2016-06-06</td><td>2016-12-14</td></tr>",
                            "<tr><td>tunde</td><td>Turcsik Tünde</td><td>1974-02-12</td><td>2016-06-03</td><td>2017-01-03</td></tr>",
                            "<tr><td>valentin</td><td>Feró Valentin</td><td>1986-01-09</td><td>2016-05-24</td><td>2016-12-01</td></tr>",
                            "<tr><td>veronika4</td><td>Tankó Veronika</td><td>1983-08-28</td><td>2016-05-30</td><td>2017-02-03</td></tr>",
                            "<tr><td>VIKTORIAU</td><td>Urbán Viktoria</td><td>1996-05-03</td><td>2016-04-30</td><td>2016-10-26</td></tr>",
                            "<tr><td>VIKTORK</td><td>Keresztúri Viktor</td><td>1989-05-05</td><td>2016-05-30</td><td>2016-06-06</td></tr>",
                            "<tr><td>vivien3</td><td>Boros Vivien</td><td>1991-07-01</td><td>2016-05-02</td><td>2016-12-24</td></tr>",
                            "<tr><td>zoltan</td><td>Fodor Zoltán</td><td>1979-11-25</td><td>2016-08-24</td><td>2016-09-05</td></tr>",
                            "<tr><td>zoltan4</td><td>Barna Zoltán</td><td>1986-05-20</td><td>2016-05-12</td><td>2017-01-01</td></tr>",
                            "<tr><td>ZOLTANP</td><td>Pintér Zoltán</td><td>1977-06-07</td><td>2016-06-05</td><td>2016-12-25</td></tr>",
                            "<tr><td>ZOLTANT</td><td>Tóth Zoltán</td><td>1985-12-14</td><td>2016-05-01</td><td>2017-01-16</td></tr>",
                            "<tr><td>zsofi1</td><td>Molnár Zsófi</td><td>1983-11-17</td><td>2016-06-16</td><td>2017-02-18</td></tr>",
                            "<tr><td>zsolt1</td><td>Pulai Zsolt</td><td>1988-05-27</td><td>2016-04-14</td><td>2016-07-31</td></tr>",
                            "<tr><td>ZSOLTJ</td><td>Józsa Zsolt</td><td>1983-09-29</td><td>2016-04-24</td><td>2016-10-01</td></tr>",
                            "<tr><td>zsuzsa</td><td>Pusztai Zsuzsanna</td><td>1980-09-17</td><td>2016-07-24</td><td>2016-11-28</td></tr>",
                            "<tr><td>zsuzsa3</td><td>Varsányi Zsuzsa</td><td>1979-03-06</td><td>2016-07-30</td><td>2016-10-27</td></tr>",
                            "<tr><td>zsuzsanna</td><td>Barta Zsuzsanna</td><td>1994-10-07</td><td>2016-05-17</td><td>2017-01-16</td></tr>",
                            "<tr><td>ZSUZSAV</td><td>Vajda Zsuzsa</td><td>1976-12-11</td><td>2016-04-14</td><td>2016-11-21</td></tr>",
                            "</table>"
                        ]
                    }
                }
            ],
            "execution_count": 15
        },
        {
            "cell_type": "markdown",
            "source": [
                "Készítsen lekérdezést, amely megjeleníti, hogy szálláshelyenként, azon belül a pótágyak száma szerint hány főre foglaltak összesen (felnőtt + gyermek)!\n",
                "\n",
                "- Jelenjenek meg a részösszegek és a végösszeg is!"
            ],
            "metadata": {
                "language": "sql",
                "azdata_cell_guid": "ae34c23f-7f33-4cb1-8fcd-10ba3b8918e0"
            },
            "attachments": {}
        },
        {
            "cell_type": "code",
            "source": [
                "SELECT\r\n",
                "    szh.SZALLAS_nev AS Szálláshely,\r\n",
                "    sz.POTAGY AS Pótágyak_száma,\r\n",
                "    SUM(f.FELNOTT_SZAM + f.GYERMEK_SZAM) AS Összesen_foglaltak\r\n",
                "FROM szoba sz \r\n",
                "join foglalas f on sz.szoba_id = f.SZOBA_FK\r\n",
                "join szallashely szh on sz.SZALLAS_FK = szh.SZALLAS_ID\r\n",
                "GROUP BY szh.SZALLAS_NEV, sz.POTAGY\r\n",
                "ORDER BY szh.SZALLAS_NEV, sz.POTAGY"
            ],
            "metadata": {
                "language": "sql",
                "azdata_cell_guid": "d83f67ec-da9c-4f76-94f9-ec3883e5697b",
                "tags": [
                    "hide_input"
                ]
            },
            "outputs": [
                {
                    "output_type": "display_data",
                    "data": {
                        "text/html": "(29 rows affected)"
                    },
                    "metadata": {}
                },
                {
                    "output_type": "display_data",
                    "data": {
                        "text/html": "Total execution time: 00:00:00.014"
                    },
                    "metadata": {}
                },
                {
                    "output_type": "execute_result",
                    "metadata": {},
                    "execution_count": 17,
                    "data": {
                        "application/vnd.dataresource+json": {
                            "schema": {
                                "fields": [
                                    {
                                        "name": "Szálláshely"
                                    },
                                    {
                                        "name": "Pótágyak_száma"
                                    },
                                    {
                                        "name": "Összesen_foglaltak"
                                    }
                                ]
                            },
                            "data": [
                                {
                                    "Szálláshely": "Családi Ház",
                                    "Pótágyak_száma": "0",
                                    "Összesen_foglaltak": "10"
                                },
                                {
                                    "Szálláshely": "Családi Ház",
                                    "Pótágyak_száma": "1",
                                    "Összesen_foglaltak": "31"
                                },
                                {
                                    "Szálláshely": "Családi Ház",
                                    "Pótágyak_száma": "2",
                                    "Összesen_foglaltak": "11"
                                },
                                {
                                    "Szálláshely": "Fortuna Apartman",
                                    "Pótágyak_száma": "0",
                                    "Összesen_foglaltak": "18"
                                },
                                {
                                    "Szálláshely": "Fortuna Apartman",
                                    "Pótágyak_száma": "1",
                                    "Összesen_foglaltak": "52"
                                },
                                {
                                    "Szálláshely": "Fortuna Apartman",
                                    "Pótágyak_száma": "2",
                                    "Összesen_foglaltak": "36"
                                },
                                {
                                    "Szálláshely": "Fortuna Panzió",
                                    "Pótágyak_száma": "0",
                                    "Összesen_foglaltak": "158"
                                },
                                {
                                    "Szálláshely": "Fortuna panzió",
                                    "Pótágyak_száma": "1",
                                    "Összesen_foglaltak": "113"
                                },
                                {
                                    "Szálláshely": "Fortuna panzió",
                                    "Pótágyak_száma": "2",
                                    "Összesen_foglaltak": "40"
                                },
                                {
                                    "Szálláshely": "Gold Hotel",
                                    "Pótágyak_száma": "0",
                                    "Összesen_foglaltak": "216"
                                },
                                {
                                    "Szálláshely": "Gold Hotel",
                                    "Pótágyak_száma": "1",
                                    "Összesen_foglaltak": "93"
                                },
                                {
                                    "Szálláshely": "Gold Hotel",
                                    "Pótágyak_száma": "2",
                                    "Összesen_foglaltak": "119"
                                },
                                {
                                    "Szálláshely": "Hotel Három Hattyú",
                                    "Pótágyak_száma": "0",
                                    "Összesen_foglaltak": "183"
                                },
                                {
                                    "Szálláshely": "Hotel Három Hattyú",
                                    "Pótágyak_száma": "1",
                                    "Összesen_foglaltak": "258"
                                },
                                {
                                    "Szálláshely": "Hotel Három Hattyú",
                                    "Pótágyak_száma": "2",
                                    "Összesen_foglaltak": "63"
                                },
                                {
                                    "Szálláshely": "Jáde panzió",
                                    "Pótágyak_száma": "0",
                                    "Összesen_foglaltak": "66"
                                },
                                {
                                    "Szálláshely": "Kentaur Hotel",
                                    "Pótágyak_száma": "0",
                                    "Összesen_foglaltak": "168"
                                },
                                {
                                    "Szálláshely": "Kentaur Hotel",
                                    "Pótágyak_száma": "1",
                                    "Összesen_foglaltak": "224"
                                },
                                {
                                    "Szálláshely": "Kentaur Hotel",
                                    "Pótágyak_száma": "2",
                                    "Összesen_foglaltak": "28"
                                },
                                {
                                    "Szálláshely": "Lagúna Hotel",
                                    "Pótágyak_száma": "0",
                                    "Összesen_foglaltak": "105"
                                },
                                {
                                    "Szálláshely": "Lagúna Hotel",
                                    "Pótágyak_száma": "1",
                                    "Összesen_foglaltak": "150"
                                },
                                {
                                    "Szálláshely": "Lagúna Hotel",
                                    "Pótágyak_száma": "2",
                                    "Összesen_foglaltak": "36"
                                },
                                {
                                    "Szálláshely": "Partiszél Vendégház",
                                    "Pótágyak_száma": "0",
                                    "Összesen_foglaltak": "31"
                                },
                                {
                                    "Szálláshely": "Partiszél Vendégház",
                                    "Pótágyak_száma": "1",
                                    "Összesen_foglaltak": "17"
                                },
                                {
                                    "Szálláshely": "Partiszél Vendégház",
                                    "Pótágyak_száma": "2",
                                    "Összesen_foglaltak": "15"
                                },
                                {
                                    "Szálláshely": "Sába-Ház",
                                    "Pótágyak_száma": "0",
                                    "Összesen_foglaltak": "67"
                                },
                                {
                                    "Szálláshely": "Sába-Ház",
                                    "Pótágyak_száma": "1",
                                    "Összesen_foglaltak": "99"
                                },
                                {
                                    "Szálláshely": "Szieszta Apartmanház",
                                    "Pótágyak_száma": "0",
                                    "Összesen_foglaltak": "64"
                                },
                                {
                                    "Szálláshely": "Szieszta Apartmanház",
                                    "Pótágyak_száma": "1",
                                    "Összesen_foglaltak": "19"
                                }
                            ]
                        },
                        "text/html": [
                            "<table>",
                            "<tr><th>Szálláshely</th><th>Pótágyak_száma</th><th>Összesen_foglaltak</th></tr>",
                            "<tr><td>Családi Ház</td><td>0</td><td>10</td></tr>",
                            "<tr><td>Családi Ház</td><td>1</td><td>31</td></tr>",
                            "<tr><td>Családi Ház</td><td>2</td><td>11</td></tr>",
                            "<tr><td>Fortuna Apartman</td><td>0</td><td>18</td></tr>",
                            "<tr><td>Fortuna Apartman</td><td>1</td><td>52</td></tr>",
                            "<tr><td>Fortuna Apartman</td><td>2</td><td>36</td></tr>",
                            "<tr><td>Fortuna Panzió</td><td>0</td><td>158</td></tr>",
                            "<tr><td>Fortuna panzió</td><td>1</td><td>113</td></tr>",
                            "<tr><td>Fortuna panzió</td><td>2</td><td>40</td></tr>",
                            "<tr><td>Gold Hotel</td><td>0</td><td>216</td></tr>",
                            "<tr><td>Gold Hotel</td><td>1</td><td>93</td></tr>",
                            "<tr><td>Gold Hotel</td><td>2</td><td>119</td></tr>",
                            "<tr><td>Hotel Három Hattyú</td><td>0</td><td>183</td></tr>",
                            "<tr><td>Hotel Három Hattyú</td><td>1</td><td>258</td></tr>",
                            "<tr><td>Hotel Három Hattyú</td><td>2</td><td>63</td></tr>",
                            "<tr><td>Jáde panzió</td><td>0</td><td>66</td></tr>",
                            "<tr><td>Kentaur Hotel</td><td>0</td><td>168</td></tr>",
                            "<tr><td>Kentaur Hotel</td><td>1</td><td>224</td></tr>",
                            "<tr><td>Kentaur Hotel</td><td>2</td><td>28</td></tr>",
                            "<tr><td>Lagúna Hotel</td><td>0</td><td>105</td></tr>",
                            "<tr><td>Lagúna Hotel</td><td>1</td><td>150</td></tr>",
                            "<tr><td>Lagúna Hotel</td><td>2</td><td>36</td></tr>",
                            "<tr><td>Partiszél Vendégház</td><td>0</td><td>31</td></tr>",
                            "<tr><td>Partiszél Vendégház</td><td>1</td><td>17</td></tr>",
                            "<tr><td>Partiszél Vendégház</td><td>2</td><td>15</td></tr>",
                            "<tr><td>Sába-Ház</td><td>0</td><td>67</td></tr>",
                            "<tr><td>Sába-Ház</td><td>1</td><td>99</td></tr>",
                            "<tr><td>Szieszta Apartmanház</td><td>0</td><td>64</td></tr>",
                            "<tr><td>Szieszta Apartmanház</td><td>1</td><td>19</td></tr>",
                            "</table>"
                        ]
                    }
                }
            ],
            "execution_count": 17
        },
        {
            "cell_type": "markdown",
            "source": [
                "Cassandra CQL Shellben hozza létre a következő táblát:\n",
                "\n",
                "STUDENT(ID, Nev, Teljesitett\\_felevek, Eredmenyek, Nyelvtudas)\n",
                "\n",
                "- Az ID legyen az elsődleges kulcs\n",
                "- A Teljesitett félévek legyen LIST, tartalma egész számok, pl: 1, 2, 3\n",
                "- Az Eredmenyek legyen MAP, tartalma, hogy melyik félévben mennyi volt az átlag, pl: 1: 3,00, 2: 4.55, 3: 4,10\n",
                "- A Nyelvtudas legyen SET, tartalma a nyelvek megnevezése\n",
                "\n",
                "Vigyen fel legalább 2 rekordot!"
            ],
            "metadata": {
                "language": "sql",
                "azdata_cell_guid": "1d0a952a-92bd-4b82-8208-62950519eb09"
            },
            "attachments": {}
        },
        {
            "cell_type": "markdown",
            "source": [
                "CREATE TABLE STUDENT ( ID int PRIMARY KEY, Nev text, Teljesitett\\_felevek LIST\\<int\\>, Eredmenyek MAP\\<int, double\\>, Nyelvtudas SET\\<text\\> );\n",
                "\n",
                "  \n",
                "\n",
                "INSERT INTO STUDENT (ID, Nev, Teljesitett\\_felevek, Eredmenyek, Nyelvtudas) VALUES (1, 'Kiss Anna', \\[1, 2, 3\\], {1: 3.00, 2: 4.55, 3: 4.10}, {'angol', 'német'});  \n",
                "\n",
                "  \n",
                "\n",
                "INSERT INTO STUDENT (ID, Nev, Teljesitett\\_felevek, Eredmenyek, Nyelvtudas) VALUES (2, 'Nagy Péter', \\[1, 2\\], {1: 4.20, 2: 4.75}, {'francia', 'spanyol'});"
            ],
            "metadata": {
                "language": "sql",
                "azdata_cell_guid": "b14f45fc-1b2f-43c9-b5e4-86cdf90ec0db"
            },
            "attachments": {}
        },
        {
            "cell_type": "markdown",
            "source": [
                "A Neo4j Sandbox-ban vagy a Desktopban jelenítsük meg azon személyeket, akik egy filmben szerepeltek Tom Hanks-sel.\n",
                "\n",
                "- Egy szereplő neve csak egyszer jelenjen meg\n",
                "- Tom Hanks ne legyen benne a listában"
            ],
            "metadata": {
                "language": "sql",
                "azdata_cell_guid": "ecf1ac74-dae9-4cc4-854a-487527100266"
            },
            "attachments": {}
        },
        {
            "cell_type": "markdown",
            "source": [
                "<span style=\"color: rgb(133, 153, 0);\">MATCH</span> <span style=\"color: rgb(88, 110, 117);\">(</span><span style=\"color: rgb(51, 51, 51);\">tom</span><span style=\"color: rgb(88, 110, 117);\">:</span><span style=\"color: rgb(51, 51, 51);\">Person&nbsp;</span> <span style=\"color: rgb(88, 110, 117);\">{</span><span style=\"color: rgb(133, 153, 0);\">name</span><span style=\"color: rgb(88, 110, 117);\">:</span> <span style=\"color: rgb(181, 137, 0);\">'Tom&nbsp;Hanks'</span><span style=\"color: rgb(88, 110, 117);\">})-[:</span><span style=\"color: rgb(51, 51, 51);\">ACTED_IN</span><span style=\"color: rgb(88, 110, 117);\">]-&gt;(</span><span style=\"color: rgb(51, 51, 51);\">movie</span><span style=\"color: rgb(88, 110, 117);\">:</span><span style=\"color: rgb(51, 51, 51);\">Movie</span><span style=\"color: rgb(88, 110, 117);\">)&lt;-[:</span><span style=\"color: rgb(51, 51, 51);\">ACTED_IN</span><span style=\"color: rgb(88, 110, 117);\">]-(</span>p<span style=\"color: rgb(88, 110, 117);\">:</span><span style=\"color: rgb(51, 51, 51);\">Person</span><span style=\"color: rgb(88, 110, 117);\">)</span>\n",
                "\n",
                "<span style=\"color: #859900;\">WHERE</span> <span style=\"color: #333333;\">&nbsp;p</span><span style=\"color: #586e75;\">.</span><span style=\"color: #859900;\">name</span> <span style=\"color: #586e75;\">&lt;&gt;</span> <span style=\"color: #b58900;\">'Tom&nbsp;Hanks'</span>\n",
                "\n",
                "<span style=\"color: #859900;\">RETURN</span> <span style=\"color: #859900;\">DISTINCT</span> <span style=\"color: #333333;\">&nbsp;p</span><span style=\"color: #586e75;\">.</span><span style=\"color: #859900;\">name</span> <span style=\"color: #859900;\">AS</span> <span style=\"color: #333333;\">&nbsp;Színész</span>"
            ],
            "metadata": {
                "language": "sql",
                "azdata_cell_guid": "531e3525-828e-4c7d-8325-15c1256b5657"
            },
            "attachments": {}
        }
    ]
}