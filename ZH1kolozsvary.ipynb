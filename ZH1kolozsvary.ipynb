{
    "metadata": {
        "kernelspec": {
            "name": "SQL",
            "display_name": "SQL",
            "language": "sql"
        },
        "language_info": {
            "name": "sql",
            "version": ""
        }
    },
    "nbformat_minor": 2,
    "nbformat": 4,
    "cells": [
        {
            "cell_type": "markdown",
            "source": [
                "Listázzuk az \"emese\" azonosítójú ügyfél foglalásainak azonosítóit és a foglalás kezdetének dátumát!\n",
                "\n",
                "a. Egy új oszlopban jelenítsük meg, hogy mi lenne a foglalás kezdődátuma, ha azt 1 hónappal későbbre tolnánk!\n",
                "\n",
                "b. Az új oszlop neve legyen 'Módosított kezdődátum'"
            ],
            "metadata": {
                "language": "sql",
                "azdata_cell_guid": "0ef54929-ddd9-4b37-96dd-88cbfdea29de"
            },
            "attachments": {}
        },
        {
            "cell_type": "code",
            "source": [
                "SELECT UGYFEL_FK, METTOL\r\n",
                "from Foglalas\r\n",
                "where UGYFEL_FK = 'emese'"
            ],
            "metadata": {
                "azdata_cell_guid": "811dfa4b-9170-4354-9aa9-111fd7f93dd8",
                "language": "sql"
            },
            "outputs": [
                {
                    "output_type": "display_data",
                    "data": {
                        "text/html": "(7 rows affected)"
                    },
                    "metadata": {}
                },
                {
                    "output_type": "display_data",
                    "data": {
                        "text/html": "Total execution time: 00:00:00.005"
                    },
                    "metadata": {}
                },
                {
                    "output_type": "execute_result",
                    "metadata": {},
                    "execution_count": 13,
                    "data": {
                        "application/vnd.dataresource+json": {
                            "schema": {
                                "fields": [
                                    {
                                        "name": "UGYFEL_FK"
                                    },
                                    {
                                        "name": "METTOL"
                                    }
                                ]
                            },
                            "data": [
                                {
                                    "UGYFEL_FK": "emese",
                                    "METTOL": "2016-07-22"
                                },
                                {
                                    "UGYFEL_FK": "emese",
                                    "METTOL": "2016-08-09"
                                },
                                {
                                    "UGYFEL_FK": "emese",
                                    "METTOL": "2016-09-27"
                                },
                                {
                                    "UGYFEL_FK": "emese",
                                    "METTOL": "2016-11-05"
                                },
                                {
                                    "UGYFEL_FK": "emese",
                                    "METTOL": "2016-11-23"
                                },
                                {
                                    "UGYFEL_FK": "emese",
                                    "METTOL": "2016-12-07"
                                },
                                {
                                    "UGYFEL_FK": "emese",
                                    "METTOL": "2017-01-30"
                                }
                            ]
                        },
                        "text/html": [
                            "<table>",
                            "<tr><th>UGYFEL_FK</th><th>METTOL</th></tr>",
                            "<tr><td>emese</td><td>2016-07-22</td></tr>",
                            "<tr><td>emese</td><td>2016-08-09</td></tr>",
                            "<tr><td>emese</td><td>2016-09-27</td></tr>",
                            "<tr><td>emese</td><td>2016-11-05</td></tr>",
                            "<tr><td>emese</td><td>2016-11-23</td></tr>",
                            "<tr><td>emese</td><td>2016-12-07</td></tr>",
                            "<tr><td>emese</td><td>2017-01-30</td></tr>",
                            "</table>"
                        ]
                    }
                }
            ],
            "execution_count": 13
        }
    ]
}