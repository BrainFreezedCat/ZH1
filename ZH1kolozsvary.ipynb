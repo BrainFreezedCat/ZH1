{
    "metadata": {
        "kernelspec": {
            "name": "SQL",
            "display_name": "SQL",
            "language": "sql"
        },
        "language_info": {
            "name": "sql",
            "version": ""
        }
    },
    "nbformat_minor": 2,
    "nbformat": 4,
    "cells": [
        {
            "cell_type": "markdown",
            "source": [
                "Listázzuk az \"emese\" azonosítójú ügyfél foglalásainak azonosítóit és a foglalás kezdetének dátumát!\n",
                "\n",
                "a. Egy új oszlopban jelenítsük meg, hogy mi lenne a foglalás kezdődátuma, ha azt 1 hónappal későbbre tolnánk!\n",
                "\n",
                "b. Az új oszlop neve legyen 'Módosított kezdődátum'"
            ],
            "metadata": {
                "language": "sql",
                "azdata_cell_guid": "0ef54929-ddd9-4b37-96dd-88cbfdea29de"
            },
            "attachments": {}
        },
        {
            "cell_type": "code",
            "source": [
                "SELECT UGYFEL_FK, METTOL, dateadd(month,1,METTOL) as'Módosított kezdődátum'\r\n",
                "from Foglalas\r\n",
                "where UGYFEL_FK = 'emese'"
            ],
            "metadata": {
                "azdata_cell_guid": "811dfa4b-9170-4354-9aa9-111fd7f93dd8",
                "language": "sql"
            },
            "outputs": [
                {
                    "output_type": "display_data",
                    "data": {
                        "text/html": "(7 rows affected)"
                    },
                    "metadata": {}
                },
                {
                    "output_type": "display_data",
                    "data": {
                        "text/html": "Total execution time: 00:00:00.005"
                    },
                    "metadata": {}
                },
                {
                    "output_type": "execute_result",
                    "metadata": {},
                    "execution_count": 11,
                    "data": {
                        "application/vnd.dataresource+json": {
                            "schema": {
                                "fields": [
                                    {
                                        "name": "UGYFEL_FK"
                                    },
                                    {
                                        "name": "METTOL"
                                    },
                                    {
                                        "name": "Módosított kezdődátum"
                                    }
                                ]
                            },
                            "data": [
                                {
                                    "UGYFEL_FK": "emese",
                                    "METTOL": "2016-07-22",
                                    "Módosított kezdődátum": "2016-08-22"
                                },
                                {
                                    "UGYFEL_FK": "emese",
                                    "METTOL": "2016-08-09",
                                    "Módosított kezdődátum": "2016-09-09"
                                },
                                {
                                    "UGYFEL_FK": "emese",
                                    "METTOL": "2016-09-27",
                                    "Módosított kezdődátum": "2016-10-27"
                                },
                                {
                                    "UGYFEL_FK": "emese",
                                    "METTOL": "2016-11-05",
                                    "Módosított kezdődátum": "2016-12-05"
                                },
                                {
                                    "UGYFEL_FK": "emese",
                                    "METTOL": "2016-11-23",
                                    "Módosított kezdődátum": "2016-12-23"
                                },
                                {
                                    "UGYFEL_FK": "emese",
                                    "METTOL": "2016-12-07",
                                    "Módosított kezdődátum": "2017-01-07"
                                },
                                {
                                    "UGYFEL_FK": "emese",
                                    "METTOL": "2017-01-30",
                                    "Módosított kezdődátum": "2017-02-28"
                                }
                            ]
                        },
                        "text/html": [
                            "<table>",
                            "<tr><th>UGYFEL_FK</th><th>METTOL</th><th>Módosított kezdődátum</th></tr>",
                            "<tr><td>emese</td><td>2016-07-22</td><td>2016-08-22</td></tr>",
                            "<tr><td>emese</td><td>2016-08-09</td><td>2016-09-09</td></tr>",
                            "<tr><td>emese</td><td>2016-09-27</td><td>2016-10-27</td></tr>",
                            "<tr><td>emese</td><td>2016-11-05</td><td>2016-12-05</td></tr>",
                            "<tr><td>emese</td><td>2016-11-23</td><td>2016-12-23</td></tr>",
                            "<tr><td>emese</td><td>2016-12-07</td><td>2017-01-07</td></tr>",
                            "<tr><td>emese</td><td>2017-01-30</td><td>2017-02-28</td></tr>",
                            "</table>"
                        ]
                    }
                }
            ],
            "execution_count": 11
        },
        {
            "cell_type": "markdown",
            "source": [
                "Egészítse ki a megkezdett lekérdezést, amely megjeleníti, hogy hány klímás szobája van az egyes szálláshelyeknek! \n",
                "\n",
                "a. A listában a szálláshely azonosítója mellett jelenjen meg a szálláshely neve és a klímás szobák száma!"
            ],
            "metadata": {
                "azdata_cell_guid": "55b0c028-c191-431a-8c12-ff99f7597c4e"
            },
            "attachments": {}
        },
        {
            "cell_type": "code",
            "source": [
                "SELECT szh.SZALLAS_ID, szh.SZALLAS_NEV, count(KLIMAS)\r\n",
                "FROM Szallashely szh JOIN Szoba sz ON szallas_fk = szallas_id\r\n",
                "where \r\n",
                "group by KLIMAS \r\n",
                "\r\n",
                ""
            ],
            "metadata": {
                "azdata_cell_guid": "82f07001-6a1f-4336-8258-4c42b170838c",
                "language": "sql"
            },
            "outputs": [
                {
                    "output_type": "error",
                    "evalue": "Msg 8120, Level 16, State 1, Line 1\r\nColumn 'Szallashely.SZALLAS_ID' is invalid in the select list because it is not contained in either an aggregate function or the GROUP BY clause.",
                    "ename": "",
                    "traceback": []
                },
                {
                    "output_type": "display_data",
                    "data": {
                        "text/html": "Total execution time: 00:00:00.001"
                    },
                    "metadata": {}
                }
            ],
            "execution_count": 17
        },
        {
            "cell_type": "markdown",
            "source": [
                "Jelenítsük meg, hogy az egyes szálláshelyeken összesen hány foglalás történt!\n",
                "\n",
                "a. Csak a szálláshely neve és a foglalásszám jelenjen meg\n",
                "\n",
                "b. Azok a szálláshelyek is jelenjenek meg, ahol nem történt foglalás (ha vannak ilyenek)"
            ],
            "metadata": {
                "language": "sql",
                "azdata_cell_guid": "8c953701-0957-4c3a-bd90-37de22d0fb94"
            },
            "attachments": {}
        },
        {
            "cell_type": "code",
            "source": [
                "select szh.szallas_nev, f.foglalas_pk\r\n",
                "from szoba sz join szallashely szh on szallas_fk = szallas_id \r\n",
                "                left join foglalas f on szoba_id = szoba_fk\r\n",
                ""
            ],
            "metadata": {
                "azdata_cell_guid": "a1f36abf-8da5-4a4d-8483-f93efddf4bce",
                "language": "sql",
                "tags": []
            },
            "outputs": [
                {
                    "output_type": "display_data",
                    "data": {
                        "text/html": "(1124 rows affected)"
                    },
                    "metadata": {}
                },
                {
                    "output_type": "display_data",
                    "data": {
                        "text/html": "Total execution time: 00:00:00.060"
                    },
                    "metadata": {}
                },
                {
                    "output_type": "execute_result",
                    "metadata": {},
                    "execution_count": 18,
                    "data": {
                        "application/vnd.dataresource+json": {
                            "schema": {
                                "fields": [
                                    {
                                        "name": "szallas_nev"
                                    },
                                    {
                                        "name": "foglalas_pk"
                                    }
                                ]
                            },
                            "data": [
                                {
                                    "szallas_nev": "Sába-Ház",
                                    "foglalas_pk": "620"
                                },
                                {
                                    "szallas_nev": "Sába-Ház",
                                    "foglalas_pk": "738"
                                },
                                {
                                    "szallas_nev": "Sába-Ház",
                                    "foglalas_pk": "803"
                                },
                                {
                                    "szallas_nev": "Sába-Ház",
                                    "foglalas_pk": "949"
                                },
                                {
                                    "szallas_nev": "Sába-Ház",
                                    "foglalas_pk": "1137"
                                },
                                {
                                    "szallas_nev": "Sába-Ház",
                                    "foglalas_pk": "1152"
                                },
                                {
                                    "szallas_nev": "Sába-Ház",
                                    "foglalas_pk": "1274"
                                },
                                {
                                    "szallas_nev": "Sába-Ház",
                                    "foglalas_pk": "1334"
                                },
                                {
                                    "szallas_nev": "Sába-Ház",
                                    "foglalas_pk": "828"
                                },
                                {
                                    "szallas_nev": "Sába-Ház",
                                    "foglalas_pk": "1051"
                                },
                                {
                                    "szallas_nev": "Sába-Ház",
                                    "foglalas_pk": "1069"
                                },
                                {
                                    "szallas_nev": "Sába-Ház",
                                    "foglalas_pk": "1311"
                                },
                                {
                                    "szallas_nev": "Sába-Ház",
                                    "foglalas_pk": "629"
                                },
                                {
                                    "szallas_nev": "Sába-Ház",
                                    "foglalas_pk": "666"
                                },
                                {
                                    "szallas_nev": "Sába-Ház",
                                    "foglalas_pk": "788"
                                },
                                {
                                    "szallas_nev": "Sába-Ház",
                                    "foglalas_pk": "1038"
                                },
                                {
                                    "szallas_nev": "Sába-Ház",
                                    "foglalas_pk": "1110"
                                },
                                {
                                    "szallas_nev": "Sába-Ház",
                                    "foglalas_pk": "1151"
                                },
                                {
                                    "szallas_nev": "Sába-Ház",
                                    "foglalas_pk": "1434"
                                },
                                {
                                    "szallas_nev": "Sába-Ház",
                                    "foglalas_pk": "1544"
                                },
                                {
                                    "szallas_nev": "Sába-Ház",
                                    "foglalas_pk": "651"
                                },
                                {
                                    "szallas_nev": "Sába-Ház",
                                    "foglalas_pk": "946"
                                },
                                {
                                    "szallas_nev": "Sába-Ház",
                                    "foglalas_pk": "1001"
                                },
                                {
                                    "szallas_nev": "Sába-Ház",
                                    "foglalas_pk": "1127"
                                },
                                {
                                    "szallas_nev": "Sába-Ház",
                                    "foglalas_pk": "1132"
                                },
                                {
                                    "szallas_nev": "Sába-Ház",
                                    "foglalas_pk": "1492"
                                },
                                {
                                    "szallas_nev": "Sába-Ház",
                                    "foglalas_pk": "564"
                                },
                                {
                                    "szallas_nev": "Sába-Ház",
                                    "foglalas_pk": "965"
                                },
                                {
                                    "szallas_nev": "Sába-Ház",
                                    "foglalas_pk": "1073"
                                },
                                {
                                    "szallas_nev": "Sába-Ház",
                                    "foglalas_pk": "1257"
                                },
                                {
                                    "szallas_nev": "Sába-Ház",
                                    "foglalas_pk": "560"
                                },
                                {
                                    "szallas_nev": "Sába-Ház",
                                    "foglalas_pk": "772"
                                },
                                {
                                    "szallas_nev": "Sába-Ház",
                                    "foglalas_pk": "850"
                                },
                                {
                                    "szallas_nev": "Sába-Ház",
                                    "foglalas_pk": "873"
                                },
                                {
                                    "szallas_nev": "Sába-Ház",
                                    "foglalas_pk": "990"
                                },
                                {
                                    "szallas_nev": "Sába-Ház",
                                    "foglalas_pk": "1099"
                                },
                                {
                                    "szallas_nev": "Sába-Ház",
                                    "foglalas_pk": "562"
                                },
                                {
                                    "szallas_nev": "Sába-Ház",
                                    "foglalas_pk": "759"
                                },
                                {
                                    "szallas_nev": "Sába-Ház",
                                    "foglalas_pk": "1131"
                                },
                                {
                                    "szallas_nev": "Sába-Ház",
                                    "foglalas_pk": "1175"
                                },
                                {
                                    "szallas_nev": "Sába-Ház",
                                    "foglalas_pk": "1182"
                                },
                                {
                                    "szallas_nev": "Sába-Ház",
                                    "foglalas_pk": "1252"
                                },
                                {
                                    "szallas_nev": "Sába-Ház",
                                    "foglalas_pk": "694"
                                },
                                {
                                    "szallas_nev": "Sába-Ház",
                                    "foglalas_pk": "818"
                                },
                                {
                                    "szallas_nev": "Sába-Ház",
                                    "foglalas_pk": "832"
                                },
                                {
                                    "szallas_nev": "Sába-Ház",
                                    "foglalas_pk": "882"
                                },
                                {
                                    "szallas_nev": "Sába-Ház",
                                    "foglalas_pk": "947"
                                },
                                {
                                    "szallas_nev": "Sába-Ház",
                                    "foglalas_pk": "609"
                                },
                                {
                                    "szallas_nev": "Sába-Ház",
                                    "foglalas_pk": "1260"
                                },
                                {
                                    "szallas_nev": "Sába-Ház",
                                    "foglalas_pk": "1423"
                                },
                                {
                                    "szallas_nev": "Sába-Ház",
                                    "foglalas_pk": "1537"
                                },
                                {
                                    "szallas_nev": "Sába-Ház",
                                    "foglalas_pk": "1157"
                                },
                                {
                                    "szallas_nev": "Sába-Ház",
                                    "foglalas_pk": "1220"
                                },
                                {
                                    "szallas_nev": "Sába-Ház",
                                    "foglalas_pk": "569"
                                },
                                {
                                    "szallas_nev": "Sába-Ház",
                                    "foglalas_pk": "790"
                                },
                                {
                                    "szallas_nev": "Sába-Ház",
                                    "foglalas_pk": "795"
                                },
                                {
                                    "szallas_nev": "Sába-Ház",
                                    "foglalas_pk": "1319"
                                },
                                {
                                    "szallas_nev": "Sába-Ház",
                                    "foglalas_pk": "918"
                                },
                                {
                                    "szallas_nev": "Sába-Ház",
                                    "foglalas_pk": "1123"
                                },
                                {
                                    "szallas_nev": "Sába-Ház",
                                    "foglalas_pk": "1236"
                                },
                                {
                                    "szallas_nev": "Sába-Ház",
                                    "foglalas_pk": "1523"
                                },
                                {
                                    "szallas_nev": "Sába-Ház",
                                    "foglalas_pk": "697"
                                },
                                {
                                    "szallas_nev": "Sába-Ház",
                                    "foglalas_pk": "775"
                                },
                                {
                                    "szallas_nev": "Sába-Ház",
                                    "foglalas_pk": "876"
                                },
                                {
                                    "szallas_nev": "Sába-Ház",
                                    "foglalas_pk": "951"
                                },
                                {
                                    "szallas_nev": "Sába-Ház",
                                    "foglalas_pk": "970"
                                },
                                {
                                    "szallas_nev": "Sába-Ház",
                                    "foglalas_pk": "1430"
                                },
                                {
                                    "szallas_nev": "Sába-Ház",
                                    "foglalas_pk": "1020"
                                },
                                {
                                    "szallas_nev": "Sába-Ház",
                                    "foglalas_pk": "1140"
                                },
                                {
                                    "szallas_nev": "Sába-Ház",
                                    "foglalas_pk": "1164"
                                },
                                {
                                    "szallas_nev": "Családi Ház",
                                    "foglalas_pk": "763"
                                },
                                {
                                    "szallas_nev": "Családi Ház",
                                    "foglalas_pk": "1044"
                                },
                                {
                                    "szallas_nev": "Családi Ház",
                                    "foglalas_pk": "1347"
                                },
                                {
                                    "szallas_nev": "Családi Ház",
                                    "foglalas_pk": "1469"
                                },
                                {
                                    "szallas_nev": "Családi Ház",
                                    "foglalas_pk": "663"
                                },
                                {
                                    "szallas_nev": "Családi Ház",
                                    "foglalas_pk": "813"
                                },
                                {
                                    "szallas_nev": "Családi Ház",
                                    "foglalas_pk": "1542"
                                },
                                {
                                    "szallas_nev": "Családi Ház",
                                    "foglalas_pk": "791"
                                },
                                {
                                    "szallas_nev": "Családi Ház",
                                    "foglalas_pk": "1418"
                                },
                                {
                                    "szallas_nev": "Családi Ház",
                                    "foglalas_pk": "1442"
                                },
                                {
                                    "szallas_nev": "Családi Ház",
                                    "foglalas_pk": "1028"
                                },
                                {
                                    "szallas_nev": "Családi Ház",
                                    "foglalas_pk": "1129"
                                },
                                {
                                    "szallas_nev": "Családi Ház",
                                    "foglalas_pk": "1244"
                                },
                                {
                                    "szallas_nev": "Családi Ház",
                                    "foglalas_pk": "687"
                                },
                                {
                                    "szallas_nev": "Családi Ház",
                                    "foglalas_pk": "856"
                                },
                                {
                                    "szallas_nev": "Családi Ház",
                                    "foglalas_pk": "896"
                                },
                                {
                                    "szallas_nev": "Családi Ház",
                                    "foglalas_pk": "1498"
                                },
                                {
                                    "szallas_nev": "Családi Ház",
                                    "foglalas_pk": "973"
                                },
                                {
                                    "szallas_nev": "Fortuna Apartman",
                                    "foglalas_pk": "602"
                                },
                                {
                                    "szallas_nev": "Fortuna Apartman",
                                    "foglalas_pk": "713"
                                },
                                {
                                    "szallas_nev": "Fortuna Apartman",
                                    "foglalas_pk": "744"
                                },
                                {
                                    "szallas_nev": "Fortuna Apartman",
                                    "foglalas_pk": "916"
                                },
                                {
                                    "szallas_nev": "Fortuna Apartman",
                                    "foglalas_pk": "1316"
                                },
                                {
                                    "szallas_nev": "Fortuna Apartman",
                                    "foglalas_pk": "1549"
                                },
                                {
                                    "szallas_nev": "Fortuna Apartman",
                                    "foglalas_pk": "626"
                                },
                                {
                                    "szallas_nev": "Fortuna Apartman",
                                    "foglalas_pk": "767"
                                },
                                {
                                    "szallas_nev": "Fortuna Apartman",
                                    "foglalas_pk": "1035"
                                },
                                {
                                    "szallas_nev": "Fortuna Apartman",
                                    "foglalas_pk": "1173"
                                },
                                {
                                    "szallas_nev": "Fortuna Apartman",
                                    "foglalas_pk": "1198"
                                },
                                {
                                    "szallas_nev": "Fortuna Apartman",
                                    "foglalas_pk": "1505"
                                },
                                {
                                    "szallas_nev": "Fortuna Apartman",
                                    "foglalas_pk": "696"
                                },
                                {
                                    "szallas_nev": "Fortuna Apartman",
                                    "foglalas_pk": "778"
                                },
                                {
                                    "szallas_nev": "Fortuna Apartman",
                                    "foglalas_pk": "948"
                                },
                                {
                                    "szallas_nev": "Fortuna Apartman",
                                    "foglalas_pk": "1139"
                                },
                                {
                                    "szallas_nev": "Fortuna Apartman",
                                    "foglalas_pk": "1237"
                                },
                                {
                                    "szallas_nev": "Fortuna Apartman",
                                    "foglalas_pk": "1533"
                                },
                                {
                                    "szallas_nev": "Fortuna Apartman",
                                    "foglalas_pk": "755"
                                },
                                {
                                    "szallas_nev": "Fortuna Apartman",
                                    "foglalas_pk": "820"
                                },
                                {
                                    "szallas_nev": "Fortuna Apartman",
                                    "foglalas_pk": "1070"
                                },
                                {
                                    "szallas_nev": "Fortuna Apartman",
                                    "foglalas_pk": "1106"
                                },
                                {
                                    "szallas_nev": "Fortuna Apartman",
                                    "foglalas_pk": "1114"
                                },
                                {
                                    "szallas_nev": "Fortuna Apartman",
                                    "foglalas_pk": "566"
                                },
                                {
                                    "szallas_nev": "Fortuna Apartman",
                                    "foglalas_pk": "660"
                                },
                                {
                                    "szallas_nev": "Fortuna Apartman",
                                    "foglalas_pk": "805"
                                },
                                {
                                    "szallas_nev": "Fortuna Apartman",
                                    "foglalas_pk": "1212"
                                },
                                {
                                    "szallas_nev": "Fortuna Apartman",
                                    "foglalas_pk": "906"
                                },
                                {
                                    "szallas_nev": "Fortuna Apartman",
                                    "foglalas_pk": "1005"
                                },
                                {
                                    "szallas_nev": "Fortuna Apartman",
                                    "foglalas_pk": "1130"
                                },
                                {
                                    "szallas_nev": "Fortuna Apartman",
                                    "foglalas_pk": "1195"
                                },
                                {
                                    "szallas_nev": "Fortuna Apartman",
                                    "foglalas_pk": "1206"
                                },
                                {
                                    "szallas_nev": "Fortuna Apartman",
                                    "foglalas_pk": "1287"
                                },
                                {
                                    "szallas_nev": "Fortuna Apartman",
                                    "foglalas_pk": "848"
                                },
                                {
                                    "szallas_nev": "Fortuna Apartman",
                                    "foglalas_pk": "934"
                                },
                                {
                                    "szallas_nev": "Fortuna Apartman",
                                    "foglalas_pk": "945"
                                },
                                {
                                    "szallas_nev": "Fortuna Apartman",
                                    "foglalas_pk": "852"
                                },
                                {
                                    "szallas_nev": "Fortuna Apartman",
                                    "foglalas_pk": "1167"
                                },
                                {
                                    "szallas_nev": "Fortuna Apartman",
                                    "foglalas_pk": "1415"
                                },
                                {
                                    "szallas_nev": "Fortuna panzió",
                                    "foglalas_pk": "1052"
                                },
                                {
                                    "szallas_nev": "Fortuna panzió",
                                    "foglalas_pk": "1362"
                                },
                                {
                                    "szallas_nev": "Fortuna panzió",
                                    "foglalas_pk": "1158"
                                },
                                {
                                    "szallas_nev": "Fortuna panzió",
                                    "foglalas_pk": "1388"
                                },
                                {
                                    "szallas_nev": "Fortuna panzió",
                                    "foglalas_pk": "758"
                                },
                                {
                                    "szallas_nev": "Fortuna panzió",
                                    "foglalas_pk": "807"
                                },
                                {
                                    "szallas_nev": "Fortuna panzió",
                                    "foglalas_pk": "1031"
                                },
                                {
                                    "szallas_nev": "Fortuna panzió",
                                    "foglalas_pk": "1082"
                                },
                                {
                                    "szallas_nev": "Fortuna panzió",
                                    "foglalas_pk": "1275"
                                },
                                {
                                    "szallas_nev": "Fortuna panzió",
                                    "foglalas_pk": "1377"
                                },
                                {
                                    "szallas_nev": "Fortuna panzió",
                                    "foglalas_pk": "1476"
                                },
                                {
                                    "szallas_nev": "Fortuna panzió",
                                    "foglalas_pk": "725"
                                },
                                {
                                    "szallas_nev": "Fortuna panzió",
                                    "foglalas_pk": "872"
                                },
                                {
                                    "szallas_nev": "Fortuna panzió",
                                    "foglalas_pk": "886"
                                },
                                {
                                    "szallas_nev": "Fortuna panzió",
                                    "foglalas_pk": "901"
                                },
                                {
                                    "szallas_nev": "Fortuna panzió",
                                    "foglalas_pk": "1150"
                                },
                                {
                                    "szallas_nev": "Fortuna panzió",
                                    "foglalas_pk": "1459"
                                },
                                {
                                    "szallas_nev": "Fortuna panzió",
                                    "foglalas_pk": "611"
                                },
                                {
                                    "szallas_nev": "Fortuna panzió",
                                    "foglalas_pk": "894"
                                },
                                {
                                    "szallas_nev": "Fortuna panzió",
                                    "foglalas_pk": "1076"
                                },
                                {
                                    "szallas_nev": "Fortuna panzió",
                                    "foglalas_pk": "1185"
                                },
                                {
                                    "szallas_nev": "Fortuna panzió",
                                    "foglalas_pk": "1235"
                                },
                                {
                                    "szallas_nev": "Fortuna panzió",
                                    "foglalas_pk": "1568"
                                },
                                {
                                    "szallas_nev": "Fortuna panzió",
                                    "foglalas_pk": "604"
                                },
                                {
                                    "szallas_nev": "Fortuna panzió",
                                    "foglalas_pk": "1023"
                                },
                                {
                                    "szallas_nev": "Fortuna panzió",
                                    "foglalas_pk": "1136"
                                },
                                {
                                    "szallas_nev": "Fortuna panzió",
                                    "foglalas_pk": "598"
                                },
                                {
                                    "szallas_nev": "Fortuna panzió",
                                    "foglalas_pk": "606"
                                },
                                {
                                    "szallas_nev": "Fortuna panzió",
                                    "foglalas_pk": "728"
                                },
                                {
                                    "szallas_nev": "Fortuna panzió",
                                    "foglalas_pk": "920"
                                },
                                {
                                    "szallas_nev": "Fortuna panzió",
                                    "foglalas_pk": "624"
                                },
                                {
                                    "szallas_nev": "Fortuna panzió",
                                    "foglalas_pk": "1012"
                                },
                                {
                                    "szallas_nev": "Fortuna panzió",
                                    "foglalas_pk": "1053"
                                },
                                {
                                    "szallas_nev": "Fortuna panzió",
                                    "foglalas_pk": "1321"
                                },
                                {
                                    "szallas_nev": "Fortuna panzió",
                                    "foglalas_pk": "1344"
                                },
                                {
                                    "szallas_nev": "Fortuna panzió",
                                    "foglalas_pk": "1381"
                                },
                                {
                                    "szallas_nev": "Fortuna panzió",
                                    "foglalas_pk": "777"
                                },
                                {
                                    "szallas_nev": "Fortuna panzió",
                                    "foglalas_pk": "821"
                                },
                                {
                                    "szallas_nev": "Fortuna panzió",
                                    "foglalas_pk": "870"
                                },
                                {
                                    "szallas_nev": "Fortuna panzió",
                                    "foglalas_pk": "904"
                                },
                                {
                                    "szallas_nev": "Fortuna panzió",
                                    "foglalas_pk": "686"
                                },
                                {
                                    "szallas_nev": "Fortuna panzió",
                                    "foglalas_pk": "707"
                                },
                                {
                                    "szallas_nev": "Fortuna panzió",
                                    "foglalas_pk": "829"
                                },
                                {
                                    "szallas_nev": "Fortuna panzió",
                                    "foglalas_pk": "971"
                                },
                                {
                                    "szallas_nev": "Fortuna panzió",
                                    "foglalas_pk": "979"
                                },
                                {
                                    "szallas_nev": "Fortuna panzió",
                                    "foglalas_pk": "1411"
                                },
                                {
                                    "szallas_nev": "Fortuna panzió",
                                    "foglalas_pk": "1436"
                                },
                                {
                                    "szallas_nev": "Fortuna panzió",
                                    "foglalas_pk": "1480"
                                },
                                {
                                    "szallas_nev": "Fortuna panzió",
                                    "foglalas_pk": "1529"
                                },
                                {
                                    "szallas_nev": "Fortuna panzió",
                                    "foglalas_pk": "748"
                                },
                                {
                                    "szallas_nev": "Fortuna panzió",
                                    "foglalas_pk": "750"
                                },
                                {
                                    "szallas_nev": "Fortuna panzió",
                                    "foglalas_pk": "895"
                                },
                                {
                                    "szallas_nev": "Fortuna panzió",
                                    "foglalas_pk": "919"
                                },
                                {
                                    "szallas_nev": "Fortuna panzió",
                                    "foglalas_pk": "985"
                                },
                                {
                                    "szallas_nev": "Fortuna panzió",
                                    "foglalas_pk": "1003"
                                },
                                {
                                    "szallas_nev": "Fortuna panzió",
                                    "foglalas_pk": "688"
                                },
                                {
                                    "szallas_nev": "Fortuna panzió",
                                    "foglalas_pk": "705"
                                },
                                {
                                    "szallas_nev": "Fortuna panzió",
                                    "foglalas_pk": "1335"
                                },
                                {
                                    "szallas_nev": "Fortuna panzió",
                                    "foglalas_pk": "627"
                                },
                                {
                                    "szallas_nev": "Fortuna panzió",
                                    "foglalas_pk": "1033"
                                },
                                {
                                    "szallas_nev": "Fortuna panzió",
                                    "foglalas_pk": "1060"
                                },
                                {
                                    "szallas_nev": "Fortuna panzió",
                                    "foglalas_pk": "1078"
                                },
                                {
                                    "szallas_nev": "Fortuna panzió",
                                    "foglalas_pk": "1556"
                                },
                                {
                                    "szallas_nev": "Fortuna panzió",
                                    "foglalas_pk": "1351"
                                },
                                {
                                    "szallas_nev": "Fortuna panzió",
                                    "foglalas_pk": "1416"
                                },
                                {
                                    "szallas_nev": "Fortuna panzió",
                                    "foglalas_pk": "1478"
                                },
                                {
                                    "szallas_nev": "Fortuna panzió",
                                    "foglalas_pk": "601"
                                },
                                {
                                    "szallas_nev": "Fortuna panzió",
                                    "foglalas_pk": "899"
                                },
                                {
                                    "szallas_nev": "Fortuna panzió",
                                    "foglalas_pk": "1214"
                                },
                                {
                                    "szallas_nev": "Fortuna panzió",
                                    "foglalas_pk": "1538"
                                },
                                {
                                    "szallas_nev": "Fortuna panzió",
                                    "foglalas_pk": "1380"
                                },
                                {
                                    "szallas_nev": "Fortuna panzió",
                                    "foglalas_pk": "1435"
                                },
                                {
                                    "szallas_nev": "Fortuna panzió",
                                    "foglalas_pk": "1454"
                                },
                                {
                                    "szallas_nev": "Fortuna Panzió",
                                    "foglalas_pk": "924"
                                },
                                {
                                    "szallas_nev": "Fortuna Panzió",
                                    "foglalas_pk": "932"
                                },
                                {
                                    "szallas_nev": "Fortuna Panzió",
                                    "foglalas_pk": "1018"
                                },
                                {
                                    "szallas_nev": "Fortuna Panzió",
                                    "foglalas_pk": "1118"
                                },
                                {
                                    "szallas_nev": "Fortuna Panzió",
                                    "foglalas_pk": "960"
                                },
                                {
                                    "szallas_nev": "Fortuna Panzió",
                                    "foglalas_pk": "1144"
                                },
                                {
                                    "szallas_nev": "Fortuna Panzió",
                                    "foglalas_pk": "561"
                                },
                                {
                                    "szallas_nev": "Fortuna Panzió",
                                    "foglalas_pk": "590"
                                },
                                {
                                    "szallas_nev": "Fortuna Panzió",
                                    "foglalas_pk": "770"
                                },
                                {
                                    "szallas_nev": "Fortuna Panzió",
                                    "foglalas_pk": "851"
                                },
                                {
                                    "szallas_nev": "Fortuna Panzió",
                                    "foglalas_pk": "1309"
                                },
                                {
                                    "szallas_nev": "Fortuna Panzió",
                                    "foglalas_pk": "1444"
                                },
                                {
                                    "szallas_nev": "Fortuna Panzió",
                                    "foglalas_pk": "670"
                                },
                                {
                                    "szallas_nev": "Fortuna Panzió",
                                    "foglalas_pk": "1019"
                                },
                                {
                                    "szallas_nev": "Fortuna Panzió",
                                    "foglalas_pk": "1088"
                                },
                                {
                                    "szallas_nev": "Fortuna Panzió",
                                    "foglalas_pk": "1524"
                                },
                                {
                                    "szallas_nev": "Fortuna Panzió",
                                    "foglalas_pk": "1553"
                                },
                                {
                                    "szallas_nev": "Fortuna Panzió",
                                    "foglalas_pk": "1207"
                                },
                                {
                                    "szallas_nev": "Fortuna Panzió",
                                    "foglalas_pk": "1227"
                                },
                                {
                                    "szallas_nev": "Fortuna Panzió",
                                    "foglalas_pk": "1270"
                                },
                                {
                                    "szallas_nev": "Fortuna Panzió",
                                    "foglalas_pk": "589"
                                },
                                {
                                    "szallas_nev": "Fortuna Panzió",
                                    "foglalas_pk": "658"
                                },
                                {
                                    "szallas_nev": "Fortuna Panzió",
                                    "foglalas_pk": "823"
                                },
                                {
                                    "szallas_nev": "Fortuna Panzió",
                                    "foglalas_pk": "1295"
                                },
                                {
                                    "szallas_nev": "Fortuna Panzió",
                                    "foglalas_pk": "1425"
                                },
                                {
                                    "szallas_nev": "Fortuna Panzió",
                                    "foglalas_pk": "1552"
                                },
                                {
                                    "szallas_nev": "Fortuna Panzió",
                                    "foglalas_pk": "800"
                                },
                                {
                                    "szallas_nev": "Fortuna Panzió",
                                    "foglalas_pk": "802"
                                },
                                {
                                    "szallas_nev": "Fortuna Panzió",
                                    "foglalas_pk": "846"
                                },
                                {
                                    "szallas_nev": "Fortuna Panzió",
                                    "foglalas_pk": "1135"
                                },
                                {
                                    "szallas_nev": "Fortuna Panzió",
                                    "foglalas_pk": "1303"
                                },
                                {
                                    "szallas_nev": "Fortuna Panzió",
                                    "foglalas_pk": "752"
                                },
                                {
                                    "szallas_nev": "Fortuna Panzió",
                                    "foglalas_pk": "1187"
                                },
                                {
                                    "szallas_nev": "Fortuna Panzió",
                                    "foglalas_pk": "1291"
                                },
                                {
                                    "szallas_nev": "Fortuna Panzió",
                                    "foglalas_pk": "1515"
                                },
                                {
                                    "szallas_nev": "Fortuna Panzió",
                                    "foglalas_pk": "955"
                                },
                                {
                                    "szallas_nev": "Fortuna Panzió",
                                    "foglalas_pk": "1056"
                                },
                                {
                                    "szallas_nev": "Fortuna Panzió",
                                    "foglalas_pk": "603"
                                },
                                {
                                    "szallas_nev": "Fortuna Panzió",
                                    "foglalas_pk": "628"
                                },
                                {
                                    "szallas_nev": "Fortuna Panzió",
                                    "foglalas_pk": "824"
                                },
                                {
                                    "szallas_nev": "Fortuna Panzió",
                                    "foglalas_pk": "914"
                                },
                                {
                                    "szallas_nev": "Fortuna Panzió",
                                    "foglalas_pk": "986"
                                },
                                {
                                    "szallas_nev": "Fortuna Panzió",
                                    "foglalas_pk": "1243"
                                },
                                {
                                    "szallas_nev": "Fortuna Panzió",
                                    "foglalas_pk": "1546"
                                },
                                {
                                    "szallas_nev": "Fortuna Panzió",
                                    "foglalas_pk": "1547"
                                },
                                {
                                    "szallas_nev": "Fortuna Panzió",
                                    "foglalas_pk": "1581"
                                },
                                {
                                    "szallas_nev": "Fortuna Panzió",
                                    "foglalas_pk": "793"
                                },
                                {
                                    "szallas_nev": "Fortuna Panzió",
                                    "foglalas_pk": "826"
                                },
                                {
                                    "szallas_nev": "Fortuna Panzió",
                                    "foglalas_pk": "888"
                                },
                                {
                                    "szallas_nev": "Fortuna Panzió",
                                    "foglalas_pk": "1066"
                                },
                                {
                                    "szallas_nev": "Fortuna Panzió",
                                    "foglalas_pk": "1200"
                                },
                                {
                                    "szallas_nev": "Fortuna Panzió",
                                    "foglalas_pk": "1221"
                                },
                                {
                                    "szallas_nev": "Fortuna Panzió",
                                    "foglalas_pk": "1536"
                                },
                                {
                                    "szallas_nev": "Kentaur Hotel",
                                    "foglalas_pk": "787"
                                },
                                {
                                    "szallas_nev": "Kentaur Hotel",
                                    "foglalas_pk": "1063"
                                },
                                {
                                    "szallas_nev": "Kentaur Hotel",
                                    "foglalas_pk": "1224"
                                },
                                {
                                    "szallas_nev": "Kentaur Hotel",
                                    "foglalas_pk": "1272"
                                },
                                {
                                    "szallas_nev": "Kentaur Hotel",
                                    "foglalas_pk": "811"
                                },
                                {
                                    "szallas_nev": "Kentaur Hotel",
                                    "foglalas_pk": "865"
                                },
                                {
                                    "szallas_nev": "Kentaur Hotel",
                                    "foglalas_pk": "1165"
                                },
                                {
                                    "szallas_nev": "Kentaur Hotel",
                                    "foglalas_pk": "1477"
                                },
                                {
                                    "szallas_nev": "Kentaur Hotel",
                                    "foglalas_pk": "1550"
                                },
                                {
                                    "szallas_nev": "Kentaur Hotel",
                                    "foglalas_pk": "822"
                                },
                                {
                                    "szallas_nev": "Kentaur Hotel",
                                    "foglalas_pk": "1202"
                                },
                                {
                                    "szallas_nev": "Kentaur Hotel",
                                    "foglalas_pk": "1258"
                                },
                                {
                                    "szallas_nev": "Kentaur Hotel",
                                    "foglalas_pk": "1431"
                                },
                                {
                                    "szallas_nev": "Kentaur Hotel",
                                    "foglalas_pk": "1534"
                                },
                                {
                                    "szallas_nev": "Kentaur Hotel",
                                    "foglalas_pk": "855"
                                },
                                {
                                    "szallas_nev": "Kentaur Hotel",
                                    "foglalas_pk": "987"
                                },
                                {
                                    "szallas_nev": "Kentaur Hotel",
                                    "foglalas_pk": "622"
                                },
                                {
                                    "szallas_nev": "Kentaur Hotel",
                                    "foglalas_pk": "642"
                                },
                                {
                                    "szallas_nev": "Kentaur Hotel",
                                    "foglalas_pk": "668"
                                },
                                {
                                    "szallas_nev": "Kentaur Hotel",
                                    "foglalas_pk": "889"
                                },
                                {
                                    "szallas_nev": "Kentaur Hotel",
                                    "foglalas_pk": "1096"
                                },
                                {
                                    "szallas_nev": "Kentaur Hotel",
                                    "foglalas_pk": "1328"
                                },
                                {
                                    "szallas_nev": "Kentaur Hotel",
                                    "foglalas_pk": "734"
                                },
                                {
                                    "szallas_nev": "Kentaur Hotel",
                                    "foglalas_pk": "1086"
                                },
                                {
                                    "szallas_nev": "Kentaur Hotel",
                                    "foglalas_pk": "1163"
                                },
                                {
                                    "szallas_nev": "Kentaur Hotel",
                                    "foglalas_pk": "1512"
                                },
                                {
                                    "szallas_nev": "Kentaur Hotel",
                                    "foglalas_pk": "1520"
                                },
                                {
                                    "szallas_nev": "Kentaur Hotel",
                                    "foglalas_pk": "1232"
                                },
                                {
                                    "szallas_nev": "Kentaur Hotel",
                                    "foglalas_pk": "1327"
                                },
                                {
                                    "szallas_nev": "Kentaur Hotel",
                                    "foglalas_pk": "1386"
                                },
                                {
                                    "szallas_nev": "Kentaur Hotel",
                                    "foglalas_pk": "838"
                                },
                                {
                                    "szallas_nev": "Kentaur Hotel",
                                    "foglalas_pk": "935"
                                },
                                {
                                    "szallas_nev": "Kentaur Hotel",
                                    "foglalas_pk": "1348"
                                },
                                {
                                    "szallas_nev": "Kentaur Hotel",
                                    "foglalas_pk": "1389"
                                },
                                {
                                    "szallas_nev": "Kentaur Hotel",
                                    "foglalas_pk": "1466"
                                },
                                {
                                    "szallas_nev": "Kentaur Hotel",
                                    "foglalas_pk": "1504"
                                },
                                {
                                    "szallas_nev": "Kentaur Hotel",
                                    "foglalas_pk": "719"
                                },
                                {
                                    "szallas_nev": "Kentaur Hotel",
                                    "foglalas_pk": "773"
                                },
                                {
                                    "szallas_nev": "Kentaur Hotel",
                                    "foglalas_pk": "883"
                                },
                                {
                                    "szallas_nev": "Kentaur Hotel",
                                    "foglalas_pk": "1285"
                                },
                                {
                                    "szallas_nev": "Kentaur Hotel",
                                    "foglalas_pk": "1293"
                                },
                                {
                                    "szallas_nev": "Kentaur Hotel",
                                    "foglalas_pk": "1307"
                                },
                                {
                                    "szallas_nev": "Kentaur Hotel",
                                    "foglalas_pk": "1322"
                                },
                                {
                                    "szallas_nev": "Kentaur Hotel",
                                    "foglalas_pk": "1451"
                                },
                                {
                                    "szallas_nev": "Kentaur Hotel",
                                    "foglalas_pk": "1113"
                                },
                                {
                                    "szallas_nev": "Kentaur Hotel",
                                    "foglalas_pk": "1186"
                                },
                                {
                                    "szallas_nev": "Kentaur Hotel",
                                    "foglalas_pk": "1208"
                                },
                                {
                                    "szallas_nev": "Kentaur Hotel",
                                    "foglalas_pk": "1255"
                                },
                                {
                                    "szallas_nev": "Kentaur Hotel",
                                    "foglalas_pk": "1261"
                                },
                                {
                                    "szallas_nev": "Kentaur Hotel",
                                    "foglalas_pk": "1080"
                                },
                                {
                                    "szallas_nev": "Kentaur Hotel",
                                    "foglalas_pk": "1084"
                                },
                                {
                                    "szallas_nev": "Kentaur Hotel",
                                    "foglalas_pk": "1170"
                                },
                                {
                                    "szallas_nev": "Kentaur Hotel",
                                    "foglalas_pk": "1191"
                                },
                                {
                                    "szallas_nev": "Kentaur Hotel",
                                    "foglalas_pk": "1239"
                                },
                                {
                                    "szallas_nev": "Kentaur Hotel",
                                    "foglalas_pk": "1288"
                                },
                                {
                                    "szallas_nev": "Kentaur Hotel",
                                    "foglalas_pk": "1573"
                                },
                                {
                                    "szallas_nev": "Kentaur Hotel",
                                    "foglalas_pk": "676"
                                },
                                {
                                    "szallas_nev": "Kentaur Hotel",
                                    "foglalas_pk": "701"
                                },
                                {
                                    "szallas_nev": "Kentaur Hotel",
                                    "foglalas_pk": "756"
                                },
                                {
                                    "szallas_nev": "Kentaur Hotel",
                                    "foglalas_pk": "1148"
                                },
                                {
                                    "szallas_nev": "Kentaur Hotel",
                                    "foglalas_pk": "1218"
                                },
                                {
                                    "szallas_nev": "Kentaur Hotel",
                                    "foglalas_pk": "1496"
                                },
                                {
                                    "szallas_nev": "Kentaur Hotel",
                                    "foglalas_pk": "702"
                                },
                                {
                                    "szallas_nev": "Kentaur Hotel",
                                    "foglalas_pk": "936"
                                },
                                {
                                    "szallas_nev": "Kentaur Hotel",
                                    "foglalas_pk": "938"
                                },
                                {
                                    "szallas_nev": "Kentaur Hotel",
                                    "foglalas_pk": "1081"
                                },
                                {
                                    "szallas_nev": "Kentaur Hotel",
                                    "foglalas_pk": "1426"
                                },
                                {
                                    "szallas_nev": "Kentaur Hotel",
                                    "foglalas_pk": "625"
                                },
                                {
                                    "szallas_nev": "Kentaur Hotel",
                                    "foglalas_pk": "769"
                                },
                                {
                                    "szallas_nev": "Kentaur Hotel",
                                    "foglalas_pk": "845"
                                },
                                {
                                    "szallas_nev": "Kentaur Hotel",
                                    "foglalas_pk": "891"
                                },
                                {
                                    "szallas_nev": "Kentaur Hotel",
                                    "foglalas_pk": "875"
                                },
                                {
                                    "szallas_nev": "Kentaur Hotel",
                                    "foglalas_pk": "1122"
                                },
                                {
                                    "szallas_nev": "Kentaur Hotel",
                                    "foglalas_pk": "1233"
                                },
                                {
                                    "szallas_nev": "Kentaur Hotel",
                                    "foglalas_pk": "1446"
                                },
                                {
                                    "szallas_nev": "Kentaur Hotel",
                                    "foglalas_pk": "1465"
                                },
                                {
                                    "szallas_nev": "Kentaur Hotel",
                                    "foglalas_pk": "1582"
                                },
                                {
                                    "szallas_nev": "Kentaur Hotel",
                                    "foglalas_pk": "650"
                                },
                                {
                                    "szallas_nev": "Kentaur Hotel",
                                    "foglalas_pk": "736"
                                },
                                {
                                    "szallas_nev": "Kentaur Hotel",
                                    "foglalas_pk": "950"
                                },
                                {
                                    "szallas_nev": "Kentaur Hotel",
                                    "foglalas_pk": "1234"
                                },
                                {
                                    "szallas_nev": "Kentaur Hotel",
                                    "foglalas_pk": "1264"
                                },
                                {
                                    "szallas_nev": "Kentaur Hotel",
                                    "foglalas_pk": "638"
                                },
                                {
                                    "szallas_nev": "Kentaur Hotel",
                                    "foglalas_pk": "645"
                                },
                                {
                                    "szallas_nev": "Kentaur Hotel",
                                    "foglalas_pk": "874"
                                },
                                {
                                    "szallas_nev": "Kentaur Hotel",
                                    "foglalas_pk": "1382"
                                },
                                {
                                    "szallas_nev": "Kentaur Hotel",
                                    "foglalas_pk": "1580"
                                },
                                {
                                    "szallas_nev": "Kentaur Hotel",
                                    "foglalas_pk": "1584"
                                },
                                {
                                    "szallas_nev": "Kentaur Hotel",
                                    "foglalas_pk": "563"
                                },
                                {
                                    "szallas_nev": "Kentaur Hotel",
                                    "foglalas_pk": "1027"
                                },
                                {
                                    "szallas_nev": "Kentaur Hotel",
                                    "foglalas_pk": "1324"
                                },
                                {
                                    "szallas_nev": "Kentaur Hotel",
                                    "foglalas_pk": "885"
                                },
                                {
                                    "szallas_nev": "Kentaur Hotel",
                                    "foglalas_pk": "1055"
                                },
                                {
                                    "szallas_nev": "Kentaur Hotel",
                                    "foglalas_pk": "1225"
                                },
                                {
                                    "szallas_nev": "Kentaur Hotel",
                                    "foglalas_pk": "1246"
                                },
                                {
                                    "szallas_nev": "Kentaur Hotel",
                                    "foglalas_pk": "585"
                                },
                                {
                                    "szallas_nev": "Kentaur Hotel",
                                    "foglalas_pk": "704"
                                },
                                {
                                    "szallas_nev": "Kentaur Hotel",
                                    "foglalas_pk": "814"
                                },
                                {
                                    "szallas_nev": "Kentaur Hotel",
                                    "foglalas_pk": "1325"
                                },
                                {
                                    "szallas_nev": "Kentaur Hotel",
                                    "foglalas_pk": "1333"
                                },
                                {
                                    "szallas_nev": "Kentaur Hotel",
                                    "foglalas_pk": "1365"
                                },
                                {
                                    "szallas_nev": "Kentaur Hotel",
                                    "foglalas_pk": "1457"
                                },
                                {
                                    "szallas_nev": "Kentaur Hotel",
                                    "foglalas_pk": "860"
                                },
                                {
                                    "szallas_nev": "Kentaur Hotel",
                                    "foglalas_pk": "1006"
                                },
                                {
                                    "szallas_nev": "Kentaur Hotel",
                                    "foglalas_pk": "1092"
                                },
                                {
                                    "szallas_nev": "Kentaur Hotel",
                                    "foglalas_pk": "1126"
                                },
                                {
                                    "szallas_nev": "Kentaur Hotel",
                                    "foglalas_pk": "681"
                                },
                                {
                                    "szallas_nev": "Kentaur Hotel",
                                    "foglalas_pk": "712"
                                },
                                {
                                    "szallas_nev": "Kentaur Hotel",
                                    "foglalas_pk": "1009"
                                },
                                {
                                    "szallas_nev": "Kentaur Hotel",
                                    "foglalas_pk": "902"
                                },
                                {
                                    "szallas_nev": "Kentaur Hotel",
                                    "foglalas_pk": "961"
                                },
                                {
                                    "szallas_nev": "Kentaur Hotel",
                                    "foglalas_pk": "1318"
                                },
                                {
                                    "szallas_nev": "Kentaur Hotel",
                                    "foglalas_pk": "1396"
                                },
                                {
                                    "szallas_nev": "Kentaur Hotel",
                                    "foglalas_pk": "714"
                                },
                                {
                                    "szallas_nev": "Kentaur Hotel",
                                    "foglalas_pk": "1000"
                                },
                                {
                                    "szallas_nev": "Kentaur Hotel",
                                    "foglalas_pk": "1159"
                                },
                                {
                                    "szallas_nev": "Kentaur Hotel",
                                    "foglalas_pk": "1331"
                                },
                                {
                                    "szallas_nev": "Kentaur Hotel",
                                    "foglalas_pk": "595"
                                },
                                {
                                    "szallas_nev": "Kentaur Hotel",
                                    "foglalas_pk": "797"
                                },
                                {
                                    "szallas_nev": "Kentaur Hotel",
                                    "foglalas_pk": "830"
                                },
                                {
                                    "szallas_nev": "Kentaur Hotel",
                                    "foglalas_pk": "847"
                                },
                                {
                                    "szallas_nev": "Kentaur Hotel",
                                    "foglalas_pk": "877"
                                },
                                {
                                    "szallas_nev": "Kentaur Hotel",
                                    "foglalas_pk": "940"
                                },
                                {
                                    "szallas_nev": "Kentaur Hotel",
                                    "foglalas_pk": "963"
                                },
                                {
                                    "szallas_nev": "Kentaur Hotel",
                                    "foglalas_pk": "1093"
                                },
                                {
                                    "szallas_nev": "Kentaur Hotel",
                                    "foglalas_pk": "1179"
                                },
                                {
                                    "szallas_nev": "Kentaur Hotel",
                                    "foglalas_pk": "1013"
                                },
                                {
                                    "szallas_nev": "Kentaur Hotel",
                                    "foglalas_pk": "1412"
                                },
                                {
                                    "szallas_nev": "Kentaur Hotel",
                                    "foglalas_pk": "1458"
                                },
                                {
                                    "szallas_nev": "Kentaur Hotel",
                                    "foglalas_pk": "683"
                                },
                                {
                                    "szallas_nev": "Kentaur Hotel",
                                    "foglalas_pk": "976"
                                },
                                {
                                    "szallas_nev": "Kentaur Hotel",
                                    "foglalas_pk": "1557"
                                },
                                {
                                    "szallas_nev": "Kentaur Hotel",
                                    "foglalas_pk": "593"
                                },
                                {
                                    "szallas_nev": "Kentaur Hotel",
                                    "foglalas_pk": "698"
                                },
                                {
                                    "szallas_nev": "Kentaur Hotel",
                                    "foglalas_pk": "982"
                                },
                                {
                                    "szallas_nev": "Kentaur Hotel",
                                    "foglalas_pk": "1104"
                                },
                                {
                                    "szallas_nev": "Kentaur Hotel",
                                    "foglalas_pk": "1439"
                                },
                                {
                                    "szallas_nev": "Kentaur Hotel",
                                    "foglalas_pk": "1461"
                                },
                                {
                                    "szallas_nev": "Kentaur Hotel",
                                    "foglalas_pk": "568"
                                },
                                {
                                    "szallas_nev": "Kentaur Hotel",
                                    "foglalas_pk": "646"
                                },
                                {
                                    "szallas_nev": "Kentaur Hotel",
                                    "foglalas_pk": "700"
                                },
                                {
                                    "szallas_nev": "Kentaur Hotel",
                                    "foglalas_pk": "1268"
                                },
                                {
                                    "szallas_nev": "Kentaur Hotel",
                                    "foglalas_pk": "1281"
                                },
                                {
                                    "szallas_nev": "Kentaur Hotel",
                                    "foglalas_pk": "1577"
                                },
                                {
                                    "szallas_nev": "Kentaur Hotel",
                                    "foglalas_pk": "583"
                                },
                                {
                                    "szallas_nev": "Kentaur Hotel",
                                    "foglalas_pk": "1054"
                                },
                                {
                                    "szallas_nev": "Kentaur Hotel",
                                    "foglalas_pk": "1229"
                                },
                                {
                                    "szallas_nev": "Kentaur Hotel",
                                    "foglalas_pk": "1345"
                                },
                                {
                                    "szallas_nev": "Kentaur Hotel",
                                    "foglalas_pk": "1447"
                                },
                                {
                                    "szallas_nev": "Kentaur Hotel",
                                    "foglalas_pk": "667"
                                },
                                {
                                    "szallas_nev": "Kentaur Hotel",
                                    "foglalas_pk": "887"
                                },
                                {
                                    "szallas_nev": "Kentaur Hotel",
                                    "foglalas_pk": "929"
                                },
                                {
                                    "szallas_nev": "Kentaur Hotel",
                                    "foglalas_pk": "983"
                                },
                                {
                                    "szallas_nev": "Kentaur Hotel",
                                    "foglalas_pk": "1071"
                                },
                                {
                                    "szallas_nev": "Kentaur Hotel",
                                    "foglalas_pk": "1279"
                                },
                                {
                                    "szallas_nev": "Kentaur Hotel",
                                    "foglalas_pk": "1367"
                                },
                                {
                                    "szallas_nev": "Kentaur Hotel",
                                    "foglalas_pk": "1366"
                                },
                                {
                                    "szallas_nev": "Kentaur Hotel",
                                    "foglalas_pk": "1443"
                                },
                                {
                                    "szallas_nev": "Kentaur Hotel",
                                    "foglalas_pk": "1464"
                                },
                                {
                                    "szallas_nev": "Kentaur Hotel",
                                    "foglalas_pk": "1506"
                                },
                                {
                                    "szallas_nev": "Kentaur Hotel",
                                    "foglalas_pk": "1562"
                                },
                                {
                                    "szallas_nev": "Kentaur Hotel",
                                    "foglalas_pk": "862"
                                },
                                {
                                    "szallas_nev": "Kentaur Hotel",
                                    "foglalas_pk": "871"
                                },
                                {
                                    "szallas_nev": "Kentaur Hotel",
                                    "foglalas_pk": "997"
                                },
                                {
                                    "szallas_nev": "Kentaur Hotel",
                                    "foglalas_pk": "1277"
                                },
                                {
                                    "szallas_nev": "Kentaur Hotel",
                                    "foglalas_pk": "1341"
                                },
                                {
                                    "szallas_nev": "Kentaur Hotel",
                                    "foglalas_pk": "1406"
                                },
                                {
                                    "szallas_nev": "Kentaur Hotel",
                                    "foglalas_pk": "572"
                                },
                                {
                                    "szallas_nev": "Kentaur Hotel",
                                    "foglalas_pk": "674"
                                },
                                {
                                    "szallas_nev": "Kentaur Hotel",
                                    "foglalas_pk": "798"
                                },
                                {
                                    "szallas_nev": "Kentaur Hotel",
                                    "foglalas_pk": "869"
                                },
                                {
                                    "szallas_nev": "Kentaur Hotel",
                                    "foglalas_pk": "878"
                                },
                                {
                                    "szallas_nev": "Kentaur Hotel",
                                    "foglalas_pk": "995"
                                },
                                {
                                    "szallas_nev": "Kentaur Hotel",
                                    "foglalas_pk": "1119"
                                },
                                {
                                    "szallas_nev": "Kentaur Hotel",
                                    "foglalas_pk": "1379"
                                },
                                {
                                    "szallas_nev": "Kentaur Hotel",
                                    "foglalas_pk": "819"
                                },
                                {
                                    "szallas_nev": "Kentaur Hotel",
                                    "foglalas_pk": "954"
                                },
                                {
                                    "szallas_nev": "Kentaur Hotel",
                                    "foglalas_pk": "1376"
                                },
                                {
                                    "szallas_nev": "Kentaur Hotel",
                                    "foglalas_pk": "1384"
                                },
                                {
                                    "szallas_nev": "Szieszta Apartmanház",
                                    "foglalas_pk": "647"
                                },
                                {
                                    "szallas_nev": "Szieszta Apartmanház",
                                    "foglalas_pk": "1059"
                                },
                                {
                                    "szallas_nev": "Szieszta Apartmanház",
                                    "foglalas_pk": "1320"
                                },
                                {
                                    "szallas_nev": "Szieszta Apartmanház",
                                    "foglalas_pk": "1513"
                                },
                                {
                                    "szallas_nev": "Szieszta Apartmanház",
                                    "foglalas_pk": "859"
                                },
                                {
                                    "szallas_nev": "Szieszta Apartmanház",
                                    "foglalas_pk": "1057"
                                },
                                {
                                    "szallas_nev": "Szieszta Apartmanház",
                                    "foglalas_pk": "1079"
                                },
                                {
                                    "szallas_nev": "Szieszta Apartmanház",
                                    "foglalas_pk": "1108"
                                },
                                {
                                    "szallas_nev": "Szieszta Apartmanház",
                                    "foglalas_pk": "1453"
                                },
                                {
                                    "szallas_nev": "Szieszta Apartmanház",
                                    "foglalas_pk": "558"
                                },
                                {
                                    "szallas_nev": "Szieszta Apartmanház",
                                    "foglalas_pk": "844"
                                },
                                {
                                    "szallas_nev": "Szieszta Apartmanház",
                                    "foglalas_pk": "1103"
                                },
                                {
                                    "szallas_nev": "Szieszta Apartmanház",
                                    "foglalas_pk": "1349"
                                },
                                {
                                    "szallas_nev": "Szieszta Apartmanház",
                                    "foglalas_pk": "1456"
                                },
                                {
                                    "szallas_nev": "Szieszta Apartmanház",
                                    "foglalas_pk": "757"
                                },
                                {
                                    "szallas_nev": "Szieszta Apartmanház",
                                    "foglalas_pk": "866"
                                },
                                {
                                    "szallas_nev": "Szieszta Apartmanház",
                                    "foglalas_pk": "1196"
                                },
                                {
                                    "szallas_nev": "Szieszta Apartmanház",
                                    "foglalas_pk": "1273"
                                },
                                {
                                    "szallas_nev": "Szieszta Apartmanház",
                                    "foglalas_pk": "1300"
                                },
                                {
                                    "szallas_nev": "Szieszta Apartmanház",
                                    "foglalas_pk": "1359"
                                },
                                {
                                    "szallas_nev": "Szieszta Apartmanház",
                                    "foglalas_pk": "1548"
                                },
                                {
                                    "szallas_nev": "Szieszta Apartmanház",
                                    "foglalas_pk": "1575"
                                },
                                {
                                    "szallas_nev": "Szieszta Apartmanház",
                                    "foglalas_pk": "817"
                                },
                                {
                                    "szallas_nev": "Szieszta Apartmanház",
                                    "foglalas_pk": "1037"
                                },
                                {
                                    "szallas_nev": "Szieszta Apartmanház",
                                    "foglalas_pk": "1101"
                                },
                                {
                                    "szallas_nev": "Szieszta Apartmanház",
                                    "foglalas_pk": "1189"
                                },
                                {
                                    "szallas_nev": "Szieszta Apartmanház",
                                    "foglalas_pk": "1253"
                                },
                                {
                                    "szallas_nev": "Szieszta Apartmanház",
                                    "foglalas_pk": "1269"
                                },
                                {
                                    "szallas_nev": "Szieszta Apartmanház",
                                    "foglalas_pk": "1399"
                                },
                                {
                                    "szallas_nev": "Szieszta Apartmanház",
                                    "foglalas_pk": "1521"
                                },
                                {
                                    "szallas_nev": "Szieszta Apartmanház",
                                    "foglalas_pk": "729"
                                },
                                {
                                    "szallas_nev": "Szieszta Apartmanház",
                                    "foglalas_pk": "1174"
                                },
                                {
                                    "szallas_nev": "Szieszta Apartmanház",
                                    "foglalas_pk": "1299"
                                },
                                {
                                    "szallas_nev": "Szieszta Apartmanház",
                                    "foglalas_pk": "1405"
                                },
                                {
                                    "szallas_nev": "Hotel Három Hattyú",
                                    "foglalas_pk": "636"
                                },
                                {
                                    "szallas_nev": "Hotel Három Hattyú",
                                    "foglalas_pk": "732"
                                },
                                {
                                    "szallas_nev": "Hotel Három Hattyú",
                                    "foglalas_pk": "1213"
                                },
                                {
                                    "szallas_nev": "Hotel Három Hattyú",
                                    "foglalas_pk": "1397"
                                },
                                {
                                    "szallas_nev": "Hotel Három Hattyú",
                                    "foglalas_pk": "809"
                                },
                                {
                                    "szallas_nev": "Hotel Három Hattyú",
                                    "foglalas_pk": "841"
                                },
                                {
                                    "szallas_nev": "Hotel Három Hattyú",
                                    "foglalas_pk": "942"
                                },
                                {
                                    "szallas_nev": "Hotel Három Hattyú",
                                    "foglalas_pk": "1016"
                                },
                                {
                                    "szallas_nev": "Hotel Három Hattyú",
                                    "foglalas_pk": "1527"
                                },
                                {
                                    "szallas_nev": "Hotel Három Hattyú",
                                    "foglalas_pk": "1555"
                                },
                                {
                                    "szallas_nev": "Hotel Három Hattyú",
                                    "foglalas_pk": "741"
                                },
                                {
                                    "szallas_nev": "Hotel Három Hattyú",
                                    "foglalas_pk": "1169"
                                },
                                {
                                    "szallas_nev": "Hotel Három Hattyú",
                                    "foglalas_pk": "1217"
                                },
                                {
                                    "szallas_nev": "Hotel Három Hattyú",
                                    "foglalas_pk": "1355"
                                },
                                {
                                    "szallas_nev": "Hotel Három Hattyú",
                                    "foglalas_pk": "1391"
                                },
                                {
                                    "szallas_nev": "Hotel Három Hattyú",
                                    "foglalas_pk": "616"
                                },
                                {
                                    "szallas_nev": "Hotel Három Hattyú",
                                    "foglalas_pk": "665"
                                },
                                {
                                    "szallas_nev": "Hotel Három Hattyú",
                                    "foglalas_pk": "727"
                                },
                                {
                                    "szallas_nev": "Hotel Három Hattyú",
                                    "foglalas_pk": "975"
                                },
                                {
                                    "szallas_nev": "Hotel Három Hattyú",
                                    "foglalas_pk": "1241"
                                },
                                {
                                    "szallas_nev": "Hotel Három Hattyú",
                                    "foglalas_pk": "1305"
                                },
                                {
                                    "szallas_nev": "Hotel Három Hattyú",
                                    "foglalas_pk": "1312"
                                },
                                {
                                    "szallas_nev": "Hotel Három Hattyú",
                                    "foglalas_pk": "1368"
                                },
                                {
                                    "szallas_nev": "Hotel Három Hattyú",
                                    "foglalas_pk": "1518"
                                },
                                {
                                    "szallas_nev": "Hotel Három Hattyú",
                                    "foglalas_pk": "1564"
                                },
                                {
                                    "szallas_nev": "Hotel Három Hattyú",
                                    "foglalas_pk": "656"
                                },
                                {
                                    "szallas_nev": "Hotel Három Hattyú",
                                    "foglalas_pk": "1048"
                                },
                                {
                                    "szallas_nev": "Hotel Három Hattyú",
                                    "foglalas_pk": "1097"
                                },
                                {
                                    "szallas_nev": "Hotel Három Hattyú",
                                    "foglalas_pk": "1543"
                                },
                                {
                                    "szallas_nev": "Hotel Három Hattyú",
                                    "foglalas_pk": "607"
                                },
                                {
                                    "szallas_nev": "Hotel Három Hattyú",
                                    "foglalas_pk": "623"
                                },
                                {
                                    "szallas_nev": "Hotel Három Hattyú",
                                    "foglalas_pk": "671"
                                },
                                {
                                    "szallas_nev": "Hotel Három Hattyú",
                                    "foglalas_pk": "780"
                                },
                                {
                                    "szallas_nev": "Hotel Három Hattyú",
                                    "foglalas_pk": "1378"
                                },
                                {
                                    "szallas_nev": "Hotel Három Hattyú",
                                    "foglalas_pk": "1438"
                                },
                                {
                                    "szallas_nev": "Hotel Három Hattyú",
                                    "foglalas_pk": "1569"
                                },
                                {
                                    "szallas_nev": "Hotel Három Hattyú",
                                    "foglalas_pk": "635"
                                },
                                {
                                    "szallas_nev": "Hotel Három Hattyú",
                                    "foglalas_pk": "718"
                                },
                                {
                                    "szallas_nev": "Hotel Három Hattyú",
                                    "foglalas_pk": "726"
                                },
                                {
                                    "szallas_nev": "Hotel Három Hattyú",
                                    "foglalas_pk": "836"
                                },
                                {
                                    "szallas_nev": "Hotel Három Hattyú",
                                    "foglalas_pk": "1395"
                                },
                                {
                                    "szallas_nev": "Hotel Három Hattyú",
                                    "foglalas_pk": "1417"
                                },
                                {
                                    "szallas_nev": "Hotel Három Hattyú",
                                    "foglalas_pk": "1528"
                                },
                                {
                                    "szallas_nev": "Hotel Három Hattyú",
                                    "foglalas_pk": "631"
                                },
                                {
                                    "szallas_nev": "Hotel Három Hattyú",
                                    "foglalas_pk": "884"
                                },
                                {
                                    "szallas_nev": "Hotel Három Hattyú",
                                    "foglalas_pk": "1050"
                                },
                                {
                                    "szallas_nev": "Hotel Három Hattyú",
                                    "foglalas_pk": "1402"
                                },
                                {
                                    "szallas_nev": "Hotel Három Hattyú",
                                    "foglalas_pk": "632"
                                },
                                {
                                    "szallas_nev": "Hotel Három Hattyú",
                                    "foglalas_pk": "691"
                                },
                                {
                                    "szallas_nev": "Hotel Három Hattyú",
                                    "foglalas_pk": "1072"
                                },
                                {
                                    "szallas_nev": "Hotel Három Hattyú",
                                    "foglalas_pk": "1408"
                                },
                                {
                                    "szallas_nev": "Hotel Három Hattyú",
                                    "foglalas_pk": "1486"
                                },
                                {
                                    "szallas_nev": "Hotel Három Hattyú",
                                    "foglalas_pk": "597"
                                },
                                {
                                    "szallas_nev": "Hotel Három Hattyú",
                                    "foglalas_pk": "637"
                                },
                                {
                                    "szallas_nev": "Hotel Három Hattyú",
                                    "foglalas_pk": "1315"
                                },
                                {
                                    "szallas_nev": "Hotel Három Hattyú",
                                    "foglalas_pk": "1482"
                                },
                                {
                                    "szallas_nev": "Hotel Három Hattyú",
                                    "foglalas_pk": "715"
                                },
                                {
                                    "szallas_nev": "Hotel Három Hattyú",
                                    "foglalas_pk": "1332"
                                },
                                {
                                    "szallas_nev": "Hotel Három Hattyú",
                                    "foglalas_pk": "1516"
                                },
                                {
                                    "szallas_nev": "Hotel Három Hattyú",
                                    "foglalas_pk": "689"
                                },
                                {
                                    "szallas_nev": "Hotel Három Hattyú",
                                    "foglalas_pk": "1343"
                                },
                                {
                                    "szallas_nev": "Hotel Három Hattyú",
                                    "foglalas_pk": "972"
                                },
                                {
                                    "szallas_nev": "Hotel Három Hattyú",
                                    "foglalas_pk": "992"
                                },
                                {
                                    "szallas_nev": "Hotel Három Hattyú",
                                    "foglalas_pk": "1398"
                                },
                                {
                                    "szallas_nev": "Hotel Három Hattyú",
                                    "foglalas_pk": "1485"
                                },
                                {
                                    "szallas_nev": "Hotel Három Hattyú",
                                    "foglalas_pk": "837"
                                },
                                {
                                    "szallas_nev": "Hotel Három Hattyú",
                                    "foglalas_pk": "1180"
                                },
                                {
                                    "szallas_nev": "Hotel Három Hattyú",
                                    "foglalas_pk": "1522"
                                },
                                {
                                    "szallas_nev": "Hotel Három Hattyú",
                                    "foglalas_pk": "1532"
                                },
                                {
                                    "szallas_nev": "Hotel Három Hattyú",
                                    "foglalas_pk": "618"
                                },
                                {
                                    "szallas_nev": "Hotel Három Hattyú",
                                    "foglalas_pk": "1525"
                                },
                                {
                                    "szallas_nev": "Hotel Három Hattyú",
                                    "foglalas_pk": "610"
                                },
                                {
                                    "szallas_nev": "Hotel Három Hattyú",
                                    "foglalas_pk": "708"
                                },
                                {
                                    "szallas_nev": "Hotel Három Hattyú",
                                    "foglalas_pk": "1228"
                                },
                                {
                                    "szallas_nev": "Hotel Három Hattyú",
                                    "foglalas_pk": "1271"
                                },
                                {
                                    "szallas_nev": "Hotel Három Hattyú",
                                    "foglalas_pk": "1372"
                                },
                                {
                                    "szallas_nev": "Hotel Három Hattyú",
                                    "foglalas_pk": "1510"
                                },
                                {
                                    "szallas_nev": "Hotel Három Hattyú",
                                    "foglalas_pk": "586"
                                },
                                {
                                    "szallas_nev": "Hotel Három Hattyú",
                                    "foglalas_pk": "1250"
                                },
                                {
                                    "szallas_nev": "Hotel Három Hattyú",
                                    "foglalas_pk": "1354"
                                },
                                {
                                    "szallas_nev": "Hotel Három Hattyú",
                                    "foglalas_pk": "1452"
                                },
                                {
                                    "szallas_nev": "Hotel Három Hattyú",
                                    "foglalas_pk": "1494"
                                },
                                {
                                    "szallas_nev": "Hotel Három Hattyú",
                                    "foglalas_pk": "1102"
                                },
                                {
                                    "szallas_nev": "Hotel Három Hattyú",
                                    "foglalas_pk": "1392"
                                },
                                {
                                    "szallas_nev": "Hotel Három Hattyú",
                                    "foglalas_pk": "614"
                                },
                                {
                                    "szallas_nev": "Hotel Három Hattyú",
                                    "foglalas_pk": "621"
                                },
                                {
                                    "szallas_nev": "Hotel Három Hattyú",
                                    "foglalas_pk": "654"
                                },
                                {
                                    "szallas_nev": "Hotel Három Hattyú",
                                    "foglalas_pk": "810"
                                },
                                {
                                    "szallas_nev": "Hotel Három Hattyú",
                                    "foglalas_pk": "1083"
                                },
                                {
                                    "szallas_nev": "Hotel Három Hattyú",
                                    "foglalas_pk": "1298"
                                },
                                {
                                    "szallas_nev": "Hotel Három Hattyú",
                                    "foglalas_pk": "1560"
                                },
                                {
                                    "szallas_nev": "Hotel Három Hattyú",
                                    "foglalas_pk": "685"
                                },
                                {
                                    "szallas_nev": "Hotel Három Hattyú",
                                    "foglalas_pk": "931"
                                },
                                {
                                    "szallas_nev": "Hotel Három Hattyú",
                                    "foglalas_pk": "964"
                                },
                                {
                                    "szallas_nev": "Hotel Három Hattyú",
                                    "foglalas_pk": "1041"
                                },
                                {
                                    "szallas_nev": "Hotel Három Hattyú",
                                    "foglalas_pk": "1109"
                                },
                                {
                                    "szallas_nev": "Hotel Három Hattyú",
                                    "foglalas_pk": "1162"
                                },
                                {
                                    "szallas_nev": "Hotel Három Hattyú",
                                    "foglalas_pk": "1424"
                                },
                                {
                                    "szallas_nev": "Hotel Három Hattyú",
                                    "foglalas_pk": "1489"
                                },
                                {
                                    "szallas_nev": "Hotel Három Hattyú",
                                    "foglalas_pk": "605"
                                },
                                {
                                    "szallas_nev": "Hotel Három Hattyú",
                                    "foglalas_pk": "786"
                                },
                                {
                                    "szallas_nev": "Hotel Három Hattyú",
                                    "foglalas_pk": "959"
                                },
                                {
                                    "szallas_nev": "Hotel Három Hattyú",
                                    "foglalas_pk": "1296"
                                },
                                {
                                    "szallas_nev": "Hotel Három Hattyú",
                                    "foglalas_pk": "1353"
                                },
                                {
                                    "szallas_nev": "Hotel Három Hattyú",
                                    "foglalas_pk": "776"
                                },
                                {
                                    "szallas_nev": "Hotel Három Hattyú",
                                    "foglalas_pk": "801"
                                },
                                {
                                    "szallas_nev": "Hotel Három Hattyú",
                                    "foglalas_pk": "921"
                                },
                                {
                                    "szallas_nev": "Hotel Három Hattyú",
                                    "foglalas_pk": "1124"
                                },
                                {
                                    "szallas_nev": "Hotel Három Hattyú",
                                    "foglalas_pk": "1530"
                                },
                                {
                                    "szallas_nev": "Hotel Három Hattyú",
                                    "foglalas_pk": "1029"
                                },
                                {
                                    "szallas_nev": "Hotel Három Hattyú",
                                    "foglalas_pk": "1085"
                                },
                                {
                                    "szallas_nev": "Hotel Három Hattyú",
                                    "foglalas_pk": "1263"
                                },
                                {
                                    "szallas_nev": "Hotel Három Hattyú",
                                    "foglalas_pk": "1495"
                                },
                                {
                                    "szallas_nev": "Hotel Három Hattyú",
                                    "foglalas_pk": "1499"
                                },
                                {
                                    "szallas_nev": "Hotel Három Hattyú",
                                    "foglalas_pk": "737"
                                },
                                {
                                    "szallas_nev": "Hotel Három Hattyú",
                                    "foglalas_pk": "827"
                                },
                                {
                                    "szallas_nev": "Hotel Három Hattyú",
                                    "foglalas_pk": "966"
                                },
                                {
                                    "szallas_nev": "Hotel Három Hattyú",
                                    "foglalas_pk": "1540"
                                },
                                {
                                    "szallas_nev": "Hotel Három Hattyú",
                                    "foglalas_pk": "596"
                                },
                                {
                                    "szallas_nev": "Hotel Három Hattyú",
                                    "foglalas_pk": "943"
                                },
                                {
                                    "szallas_nev": "Hotel Három Hattyú",
                                    "foglalas_pk": "1121"
                                },
                                {
                                    "szallas_nev": "Hotel Három Hattyú",
                                    "foglalas_pk": "1154"
                                },
                                {
                                    "szallas_nev": "Hotel Három Hattyú",
                                    "foglalas_pk": "1352"
                                },
                                {
                                    "szallas_nev": "Hotel Három Hattyú",
                                    "foglalas_pk": "1554"
                                },
                                {
                                    "szallas_nev": "Hotel Három Hattyú",
                                    "foglalas_pk": "1566"
                                },
                                {
                                    "szallas_nev": "Hotel Három Hattyú",
                                    "foglalas_pk": "1455"
                                },
                                {
                                    "szallas_nev": "Hotel Három Hattyú",
                                    "foglalas_pk": "1501"
                                },
                                {
                                    "szallas_nev": "Hotel Három Hattyú",
                                    "foglalas_pk": "612"
                                },
                                {
                                    "szallas_nev": "Hotel Három Hattyú",
                                    "foglalas_pk": "617"
                                },
                                {
                                    "szallas_nev": "Hotel Három Hattyú",
                                    "foglalas_pk": "953"
                                },
                                {
                                    "szallas_nev": "Hotel Három Hattyú",
                                    "foglalas_pk": "962"
                                },
                                {
                                    "szallas_nev": "Hotel Három Hattyú",
                                    "foglalas_pk": "1002"
                                },
                                {
                                    "szallas_nev": "Hotel Három Hattyú",
                                    "foglalas_pk": "1192"
                                },
                                {
                                    "szallas_nev": "Hotel Három Hattyú",
                                    "foglalas_pk": "1247"
                                },
                                {
                                    "szallas_nev": "Hotel Három Hattyú",
                                    "foglalas_pk": "1468"
                                },
                                {
                                    "szallas_nev": "Hotel Három Hattyú",
                                    "foglalas_pk": "716"
                                },
                                {
                                    "szallas_nev": "Hotel Három Hattyú",
                                    "foglalas_pk": "864"
                                },
                                {
                                    "szallas_nev": "Hotel Három Hattyú",
                                    "foglalas_pk": "994"
                                },
                                {
                                    "szallas_nev": "Hotel Három Hattyú",
                                    "foglalas_pk": "996"
                                },
                                {
                                    "szallas_nev": "Hotel Három Hattyú",
                                    "foglalas_pk": "1374"
                                },
                                {
                                    "szallas_nev": "Hotel Három Hattyú",
                                    "foglalas_pk": "1472"
                                },
                                {
                                    "szallas_nev": "Hotel Három Hattyú",
                                    "foglalas_pk": "1481"
                                },
                                {
                                    "szallas_nev": "Hotel Három Hattyú",
                                    "foglalas_pk": "706"
                                },
                                {
                                    "szallas_nev": "Hotel Három Hattyú",
                                    "foglalas_pk": "722"
                                },
                                {
                                    "szallas_nev": "Hotel Három Hattyú",
                                    "foglalas_pk": "1026"
                                },
                                {
                                    "szallas_nev": "Hotel Három Hattyú",
                                    "foglalas_pk": "1413"
                                },
                                {
                                    "szallas_nev": "Hotel Három Hattyú",
                                    "foglalas_pk": "1488"
                                },
                                {
                                    "szallas_nev": "Hotel Három Hattyú",
                                    "foglalas_pk": "762"
                                },
                                {
                                    "szallas_nev": "Hotel Három Hattyú",
                                    "foglalas_pk": "998"
                                },
                                {
                                    "szallas_nev": "Hotel Három Hattyú",
                                    "foglalas_pk": "1089"
                                },
                                {
                                    "szallas_nev": "Hotel Három Hattyú",
                                    "foglalas_pk": "1339"
                                },
                                {
                                    "szallas_nev": "Hotel Három Hattyú",
                                    "foglalas_pk": "1483"
                                },
                                {
                                    "szallas_nev": "Hotel Három Hattyú",
                                    "foglalas_pk": "1493"
                                },
                                {
                                    "szallas_nev": "Hotel Három Hattyú",
                                    "foglalas_pk": "735"
                                },
                                {
                                    "szallas_nev": "Hotel Három Hattyú",
                                    "foglalas_pk": "739"
                                },
                                {
                                    "szallas_nev": "Hotel Három Hattyú",
                                    "foglalas_pk": "858"
                                },
                                {
                                    "szallas_nev": "Hotel Három Hattyú",
                                    "foglalas_pk": "1373"
                                },
                                {
                                    "szallas_nev": "Hotel Három Hattyú",
                                    "foglalas_pk": "1393"
                                },
                                {
                                    "szallas_nev": "Hotel Három Hattyú",
                                    "foglalas_pk": "1049"
                                },
                                {
                                    "szallas_nev": "Hotel Három Hattyú",
                                    "foglalas_pk": "1128"
                                },
                                {
                                    "szallas_nev": "Hotel Három Hattyú",
                                    "foglalas_pk": "1215"
                                },
                                {
                                    "szallas_nev": "Hotel Három Hattyú",
                                    "foglalas_pk": "1007"
                                },
                                {
                                    "szallas_nev": "Hotel Három Hattyú",
                                    "foglalas_pk": "1036"
                                },
                                {
                                    "szallas_nev": "Hotel Három Hattyú",
                                    "foglalas_pk": "1062"
                                },
                                {
                                    "szallas_nev": "Hotel Három Hattyú",
                                    "foglalas_pk": "1166"
                                },
                                {
                                    "szallas_nev": "Hotel Három Hattyú",
                                    "foglalas_pk": "1209"
                                },
                                {
                                    "szallas_nev": "Hotel Három Hattyú",
                                    "foglalas_pk": "1245"
                                },
                                {
                                    "szallas_nev": "Hotel Három Hattyú",
                                    "foglalas_pk": "1337"
                                },
                                {
                                    "szallas_nev": "Hotel Három Hattyú",
                                    "foglalas_pk": "1385"
                                },
                                {
                                    "szallas_nev": "Hotel Három Hattyú",
                                    "foglalas_pk": "1440"
                                },
                                {
                                    "szallas_nev": "Hotel Három Hattyú",
                                    "foglalas_pk": "587"
                                },
                                {
                                    "szallas_nev": "Hotel Három Hattyú",
                                    "foglalas_pk": "923"
                                },
                                {
                                    "szallas_nev": "Hotel Három Hattyú",
                                    "foglalas_pk": "967"
                                },
                                {
                                    "szallas_nev": "Hotel Három Hattyú",
                                    "foglalas_pk": "1223"
                                },
                                {
                                    "szallas_nev": "Hotel Három Hattyú",
                                    "foglalas_pk": "1282"
                                },
                                {
                                    "szallas_nev": "Hotel Három Hattyú",
                                    "foglalas_pk": "861"
                                },
                                {
                                    "szallas_nev": "Hotel Három Hattyú",
                                    "foglalas_pk": "1210"
                                },
                                {
                                    "szallas_nev": "Hotel Három Hattyú",
                                    "foglalas_pk": "1330"
                                },
                                {
                                    "szallas_nev": "Hotel Három Hattyú",
                                    "foglalas_pk": "1403"
                                },
                                {
                                    "szallas_nev": "Hotel Három Hattyú",
                                    "foglalas_pk": "1419"
                                },
                                {
                                    "szallas_nev": "Hotel Három Hattyú",
                                    "foglalas_pk": "1531"
                                },
                                {
                                    "szallas_nev": "Hotel Három Hattyú",
                                    "foglalas_pk": "576"
                                },
                                {
                                    "szallas_nev": "Hotel Három Hattyú",
                                    "foglalas_pk": "754"
                                },
                                {
                                    "szallas_nev": "Hotel Három Hattyú",
                                    "foglalas_pk": "806"
                                },
                                {
                                    "szallas_nev": "Hotel Három Hattyú",
                                    "foglalas_pk": "1134"
                                },
                                {
                                    "szallas_nev": "Hotel Három Hattyú",
                                    "foglalas_pk": "1364"
                                },
                                {
                                    "szallas_nev": "Hotel Három Hattyú",
                                    "foglalas_pk": "1428"
                                },
                                {
                                    "szallas_nev": "Hotel Három Hattyú",
                                    "foglalas_pk": "1500"
                                },
                                {
                                    "szallas_nev": "Hotel Három Hattyú",
                                    "foglalas_pk": "643"
                                },
                                {
                                    "szallas_nev": "Hotel Három Hattyú",
                                    "foglalas_pk": "853"
                                },
                                {
                                    "szallas_nev": "Hotel Három Hattyú",
                                    "foglalas_pk": "879"
                                },
                                {
                                    "szallas_nev": "Hotel Három Hattyú",
                                    "foglalas_pk": "1579"
                                },
                                {
                                    "szallas_nev": "Hotel Három Hattyú",
                                    "foglalas_pk": "1034"
                                },
                                {
                                    "szallas_nev": "Hotel Három Hattyú",
                                    "foglalas_pk": "1226"
                                },
                                {
                                    "szallas_nev": "Hotel Három Hattyú",
                                    "foglalas_pk": "1286"
                                },
                                {
                                    "szallas_nev": "Hotel Három Hattyú",
                                    "foglalas_pk": "717"
                                },
                                {
                                    "szallas_nev": "Hotel Három Hattyú",
                                    "foglalas_pk": "815"
                                },
                                {
                                    "szallas_nev": "Hotel Három Hattyú",
                                    "foglalas_pk": "1574"
                                },
                                {
                                    "szallas_nev": "Hotel Három Hattyú",
                                    "foglalas_pk": "1583"
                                },
                                {
                                    "szallas_nev": "Hotel Három Hattyú",
                                    "foglalas_pk": "1290"
                                },
                                {
                                    "szallas_nev": "Hotel Három Hattyú",
                                    "foglalas_pk": "723"
                                },
                                {
                                    "szallas_nev": "Hotel Három Hattyú",
                                    "foglalas_pk": "1360"
                                },
                                {
                                    "szallas_nev": "Hotel Három Hattyú",
                                    "foglalas_pk": "1445"
                                },
                                {
                                    "szallas_nev": "Hotel Három Hattyú",
                                    "foglalas_pk": "1509"
                                },
                                {
                                    "szallas_nev": "Jáde panzió",
                                    "foglalas_pk": "580"
                                },
                                {
                                    "szallas_nev": "Jáde panzió",
                                    "foglalas_pk": "613"
                                },
                                {
                                    "szallas_nev": "Jáde panzió",
                                    "foglalas_pk": "779"
                                },
                                {
                                    "szallas_nev": "Jáde panzió",
                                    "foglalas_pk": "910"
                                },
                                {
                                    "szallas_nev": "Jáde panzió",
                                    "foglalas_pk": "1040"
                                },
                                {
                                    "szallas_nev": "Jáde panzió",
                                    "foglalas_pk": "1475"
                                },
                                {
                                    "szallas_nev": "Jáde panzió",
                                    "foglalas_pk": "559"
                                },
                                {
                                    "szallas_nev": "Jáde panzió",
                                    "foglalas_pk": "655"
                                },
                                {
                                    "szallas_nev": "Jáde panzió",
                                    "foglalas_pk": "760"
                                },
                                {
                                    "szallas_nev": "Jáde panzió",
                                    "foglalas_pk": "881"
                                },
                                {
                                    "szallas_nev": "Jáde panzió",
                                    "foglalas_pk": "1474"
                                },
                                {
                                    "szallas_nev": "Jáde panzió",
                                    "foglalas_pk": "619"
                                },
                                {
                                    "szallas_nev": "Jáde panzió",
                                    "foglalas_pk": "999"
                                },
                                {
                                    "szallas_nev": "Jáde panzió",
                                    "foglalas_pk": "1090"
                                },
                                {
                                    "szallas_nev": "Jáde panzió",
                                    "foglalas_pk": "1111"
                                },
                                {
                                    "szallas_nev": "Jáde panzió",
                                    "foglalas_pk": "1301"
                                },
                                {
                                    "szallas_nev": "Jáde panzió",
                                    "foglalas_pk": "1519"
                                },
                                {
                                    "szallas_nev": "Jáde panzió",
                                    "foglalas_pk": "909"
                                },
                                {
                                    "szallas_nev": "Jáde panzió",
                                    "foglalas_pk": "988"
                                },
                                {
                                    "szallas_nev": "Jáde panzió",
                                    "foglalas_pk": "1149"
                                },
                                {
                                    "szallas_nev": "Jáde panzió",
                                    "foglalas_pk": "1306"
                                },
                                {
                                    "szallas_nev": "Jáde panzió",
                                    "foglalas_pk": "1363"
                                },
                                {
                                    "szallas_nev": "Jáde panzió",
                                    "foglalas_pk": "1409"
                                },
                                {
                                    "szallas_nev": "Jáde panzió",
                                    "foglalas_pk": "1004"
                                },
                                {
                                    "szallas_nev": "Jáde panzió",
                                    "foglalas_pk": "1024"
                                },
                                {
                                    "szallas_nev": "Jáde panzió",
                                    "foglalas_pk": "1045"
                                },
                                {
                                    "szallas_nev": "Jáde panzió",
                                    "foglalas_pk": "1178"
                                },
                                {
                                    "szallas_nev": "Jáde panzió",
                                    "foglalas_pk": "1219"
                                },
                                {
                                    "szallas_nev": "Jáde panzió",
                                    "foglalas_pk": "1535"
                                },
                                {
                                    "szallas_nev": "Lagúna Hotel",
                                    "foglalas_pk": "724"
                                },
                                {
                                    "szallas_nev": "Lagúna Hotel",
                                    "foglalas_pk": "849"
                                },
                                {
                                    "szallas_nev": "Lagúna Hotel",
                                    "foglalas_pk": "1289"
                                },
                                {
                                    "szallas_nev": "Lagúna Hotel",
                                    "foglalas_pk": "584"
                                },
                                {
                                    "szallas_nev": "Lagúna Hotel",
                                    "foglalas_pk": "661"
                                },
                                {
                                    "szallas_nev": "Lagúna Hotel",
                                    "foglalas_pk": "1046"
                                },
                                {
                                    "szallas_nev": "Lagúna Hotel",
                                    "foglalas_pk": "582"
                                },
                                {
                                    "szallas_nev": "Lagúna Hotel",
                                    "foglalas_pk": "649"
                                },
                                {
                                    "szallas_nev": "Lagúna Hotel",
                                    "foglalas_pk": "657"
                                },
                                {
                                    "szallas_nev": "Lagúna Hotel",
                                    "foglalas_pk": "1014"
                                },
                                {
                                    "szallas_nev": "Lagúna Hotel",
                                    "foglalas_pk": "1201"
                                },
                                {
                                    "szallas_nev": "Lagúna Hotel",
                                    "foglalas_pk": "1280"
                                },
                                {
                                    "szallas_nev": "Lagúna Hotel",
                                    "foglalas_pk": "768"
                                },
                                {
                                    "szallas_nev": "Lagúna Hotel",
                                    "foglalas_pk": "796"
                                },
                                {
                                    "szallas_nev": "Lagúna Hotel",
                                    "foglalas_pk": "1256"
                                },
                                {
                                    "szallas_nev": "Lagúna Hotel",
                                    "foglalas_pk": "1283"
                                },
                                {
                                    "szallas_nev": "Lagúna Hotel",
                                    "foglalas_pk": "1294"
                                },
                                {
                                    "szallas_nev": "Lagúna Hotel",
                                    "foglalas_pk": "1358"
                                },
                                {
                                    "szallas_nev": "Lagúna Hotel",
                                    "foglalas_pk": "1370"
                                },
                                {
                                    "szallas_nev": "Lagúna Hotel",
                                    "foglalas_pk": "579"
                                },
                                {
                                    "szallas_nev": "Lagúna Hotel",
                                    "foglalas_pk": "745"
                                },
                                {
                                    "szallas_nev": "Lagúna Hotel",
                                    "foglalas_pk": "751"
                                },
                                {
                                    "szallas_nev": "Lagúna Hotel",
                                    "foglalas_pk": "1042"
                                },
                                {
                                    "szallas_nev": "Lagúna Hotel",
                                    "foglalas_pk": "1064"
                                },
                                {
                                    "szallas_nev": "Lagúna Hotel",
                                    "foglalas_pk": "1433"
                                },
                                {
                                    "szallas_nev": "Lagúna Hotel",
                                    "foglalas_pk": "1450"
                                },
                                {
                                    "szallas_nev": "Lagúna Hotel",
                                    "foglalas_pk": "733"
                                },
                                {
                                    "szallas_nev": "Lagúna Hotel",
                                    "foglalas_pk": "915"
                                },
                                {
                                    "szallas_nev": "Lagúna Hotel",
                                    "foglalas_pk": "1098"
                                },
                                {
                                    "szallas_nev": "Lagúna Hotel",
                                    "foglalas_pk": "1156"
                                },
                                {
                                    "szallas_nev": "Lagúna Hotel",
                                    "foglalas_pk": "1259"
                                },
                                {
                                    "szallas_nev": "Lagúna Hotel",
                                    "foglalas_pk": "1357"
                                },
                                {
                                    "szallas_nev": "Lagúna Hotel",
                                    "foglalas_pk": "1361"
                                },
                                {
                                    "szallas_nev": "Lagúna Hotel",
                                    "foglalas_pk": "1371"
                                },
                                {
                                    "szallas_nev": "Lagúna Hotel",
                                    "foglalas_pk": "565"
                                },
                                {
                                    "szallas_nev": "Lagúna Hotel",
                                    "foglalas_pk": "761"
                                },
                                {
                                    "szallas_nev": "Lagúna Hotel",
                                    "foglalas_pk": "784"
                                },
                                {
                                    "szallas_nev": "Lagúna Hotel",
                                    "foglalas_pk": "1401"
                                },
                                {
                                    "szallas_nev": "Lagúna Hotel",
                                    "foglalas_pk": "908"
                                },
                                {
                                    "szallas_nev": "Lagúna Hotel",
                                    "foglalas_pk": "1254"
                                },
                                {
                                    "szallas_nev": "Lagúna Hotel",
                                    "foglalas_pk": "1369"
                                },
                                {
                                    "szallas_nev": "Lagúna Hotel",
                                    "foglalas_pk": "1545"
                                },
                                {
                                    "szallas_nev": "Lagúna Hotel",
                                    "foglalas_pk": "980"
                                },
                                {
                                    "szallas_nev": "Lagúna Hotel",
                                    "foglalas_pk": "1155"
                                },
                                {
                                    "szallas_nev": "Lagúna Hotel",
                                    "foglalas_pk": "1193"
                                },
                                {
                                    "szallas_nev": "Lagúna Hotel",
                                    "foglalas_pk": "1222"
                                },
                                {
                                    "szallas_nev": "Lagúna Hotel",
                                    "foglalas_pk": "1313"
                                },
                                {
                                    "szallas_nev": "Lagúna Hotel",
                                    "foglalas_pk": "1394"
                                },
                                {
                                    "szallas_nev": "Lagúna Hotel",
                                    "foglalas_pk": "1448"
                                },
                                {
                                    "szallas_nev": "Lagúna Hotel",
                                    "foglalas_pk": "581"
                                },
                                {
                                    "szallas_nev": "Lagúna Hotel",
                                    "foglalas_pk": "1087"
                                },
                                {
                                    "szallas_nev": "Lagúna Hotel",
                                    "foglalas_pk": "1199"
                                },
                                {
                                    "szallas_nev": "Lagúna Hotel",
                                    "foglalas_pk": "1297"
                                },
                                {
                                    "szallas_nev": "Lagúna Hotel",
                                    "foglalas_pk": "1572"
                                },
                                {
                                    "szallas_nev": "Lagúna Hotel",
                                    "foglalas_pk": "703"
                                },
                                {
                                    "szallas_nev": "Lagúna Hotel",
                                    "foglalas_pk": "1077"
                                },
                                {
                                    "szallas_nev": "Lagúna Hotel",
                                    "foglalas_pk": "1120"
                                },
                                {
                                    "szallas_nev": "Lagúna Hotel",
                                    "foglalas_pk": "1145"
                                },
                                {
                                    "szallas_nev": "Lagúna Hotel",
                                    "foglalas_pk": "1338"
                                },
                                {
                                    "szallas_nev": "Lagúna Hotel",
                                    "foglalas_pk": "1471"
                                },
                                {
                                    "szallas_nev": "Lagúna Hotel",
                                    "foglalas_pk": "664"
                                },
                                {
                                    "szallas_nev": "Lagúna Hotel",
                                    "foglalas_pk": "789"
                                },
                                {
                                    "szallas_nev": "Lagúna Hotel",
                                    "foglalas_pk": "804"
                                },
                                {
                                    "szallas_nev": "Lagúna Hotel",
                                    "foglalas_pk": "890"
                                },
                                {
                                    "szallas_nev": "Lagúna Hotel",
                                    "foglalas_pk": "1032"
                                },
                                {
                                    "szallas_nev": "Lagúna Hotel",
                                    "foglalas_pk": "1479"
                                },
                                {
                                    "szallas_nev": "Lagúna Hotel",
                                    "foglalas_pk": "771"
                                },
                                {
                                    "szallas_nev": "Lagúna Hotel",
                                    "foglalas_pk": "678"
                                },
                                {
                                    "szallas_nev": "Lagúna Hotel",
                                    "foglalas_pk": "765"
                                },
                                {
                                    "szallas_nev": "Lagúna Hotel",
                                    "foglalas_pk": "783"
                                },
                                {
                                    "szallas_nev": "Lagúna Hotel",
                                    "foglalas_pk": "808"
                                },
                                {
                                    "szallas_nev": "Lagúna Hotel",
                                    "foglalas_pk": "812"
                                },
                                {
                                    "szallas_nev": "Lagúna Hotel",
                                    "foglalas_pk": "1578"
                                },
                                {
                                    "szallas_nev": "Lagúna Hotel",
                                    "foglalas_pk": "591"
                                },
                                {
                                    "szallas_nev": "Lagúna Hotel",
                                    "foglalas_pk": "652"
                                },
                                {
                                    "szallas_nev": "Lagúna Hotel",
                                    "foglalas_pk": "833"
                                },
                                {
                                    "szallas_nev": "Lagúna Hotel",
                                    "foglalas_pk": "834"
                                },
                                {
                                    "szallas_nev": "Lagúna Hotel",
                                    "foglalas_pk": "843"
                                },
                                {
                                    "szallas_nev": "Lagúna Hotel",
                                    "foglalas_pk": "1514"
                                },
                                {
                                    "szallas_nev": "Lagúna Hotel",
                                    "foglalas_pk": "1146"
                                },
                                {
                                    "szallas_nev": "Lagúna Hotel",
                                    "foglalas_pk": "641"
                                },
                                {
                                    "szallas_nev": "Lagúna Hotel",
                                    "foglalas_pk": "1100"
                                },
                                {
                                    "szallas_nev": "Lagúna Hotel",
                                    "foglalas_pk": "1105"
                                },
                                {
                                    "szallas_nev": "Lagúna Hotel",
                                    "foglalas_pk": "1177"
                                },
                                {
                                    "szallas_nev": "Lagúna Hotel",
                                    "foglalas_pk": "1203"
                                },
                                {
                                    "szallas_nev": "Lagúna Hotel",
                                    "foglalas_pk": "1432"
                                },
                                {
                                    "szallas_nev": "Lagúna Hotel",
                                    "foglalas_pk": "893"
                                },
                                {
                                    "szallas_nev": "Lagúna Hotel",
                                    "foglalas_pk": "1058"
                                },
                                {
                                    "szallas_nev": "Lagúna Hotel",
                                    "foglalas_pk": "1115"
                                },
                                {
                                    "szallas_nev": "Lagúna Hotel",
                                    "foglalas_pk": "730"
                                },
                                {
                                    "szallas_nev": "Lagúna Hotel",
                                    "foglalas_pk": "1160"
                                },
                                {
                                    "szallas_nev": "Lagúna Hotel",
                                    "foglalas_pk": "1197"
                                },
                                {
                                    "szallas_nev": "Lagúna Hotel",
                                    "foglalas_pk": "1558"
                                },
                                {
                                    "szallas_nev": "Lagúna Hotel",
                                    "foglalas_pk": "594"
                                },
                                {
                                    "szallas_nev": "Lagúna Hotel",
                                    "foglalas_pk": "969"
                                },
                                {
                                    "szallas_nev": "Lagúna Hotel",
                                    "foglalas_pk": "1460"
                                },
                                {
                                    "szallas_nev": "Lagúna Hotel",
                                    "foglalas_pk": "1470"
                                },
                                {
                                    "szallas_nev": "Lagúna Hotel",
                                    "foglalas_pk": "1507"
                                },
                                {
                                    "szallas_nev": "Lagúna Hotel",
                                    "foglalas_pk": "968"
                                },
                                {
                                    "szallas_nev": "Lagúna Hotel",
                                    "foglalas_pk": "1061"
                                },
                                {
                                    "szallas_nev": "Lagúna Hotel",
                                    "foglalas_pk": "1168"
                                },
                                {
                                    "szallas_nev": "Lagúna Hotel",
                                    "foglalas_pk": "1262"
                                },
                                {
                                    "szallas_nev": "Lagúna Hotel",
                                    "foglalas_pk": "1539"
                                },
                                {
                                    "szallas_nev": "Lagúna Hotel",
                                    "foglalas_pk": "575"
                                },
                                {
                                    "szallas_nev": "Lagúna Hotel",
                                    "foglalas_pk": "577"
                                },
                                {
                                    "szallas_nev": "Lagúna Hotel",
                                    "foglalas_pk": "1112"
                                },
                                {
                                    "szallas_nev": "Lagúna Hotel",
                                    "foglalas_pk": "1310"
                                },
                                {
                                    "szallas_nev": "Lagúna Hotel",
                                    "foglalas_pk": "1541"
                                },
                                {
                                    "szallas_nev": "Lagúna Hotel",
                                    "foglalas_pk": "588"
                                },
                                {
                                    "szallas_nev": "Lagúna Hotel",
                                    "foglalas_pk": "692"
                                },
                                {
                                    "szallas_nev": "Lagúna Hotel",
                                    "foglalas_pk": "907"
                                },
                                {
                                    "szallas_nev": "Lagúna Hotel",
                                    "foglalas_pk": "1490"
                                },
                                {
                                    "szallas_nev": "Lagúna Hotel",
                                    "foglalas_pk": "1561"
                                },
                                {
                                    "szallas_nev": "Lagúna Hotel",
                                    "foglalas_pk": "1462"
                                },
                                {
                                    "szallas_nev": "Lagúna Hotel",
                                    "foglalas_pk": "956"
                                },
                                {
                                    "szallas_nev": "Lagúna Hotel",
                                    "foglalas_pk": "648"
                                },
                                {
                                    "szallas_nev": "Lagúna Hotel",
                                    "foglalas_pk": "1025"
                                },
                                {
                                    "szallas_nev": "Lagúna Hotel",
                                    "foglalas_pk": "1047"
                                },
                                {
                                    "szallas_nev": "Lagúna Hotel",
                                    "foglalas_pk": "1240"
                                },
                                {
                                    "szallas_nev": "Lagúna Hotel",
                                    "foglalas_pk": "1551"
                                },
                                {
                                    "szallas_nev": "Lagúna Hotel",
                                    "foglalas_pk": "825"
                                },
                                {
                                    "szallas_nev": "Lagúna Hotel",
                                    "foglalas_pk": "840"
                                },
                                {
                                    "szallas_nev": "Lagúna Hotel",
                                    "foglalas_pk": "1117"
                                },
                                {
                                    "szallas_nev": "Lagúna Hotel",
                                    "foglalas_pk": "NULL"
                                },
                                {
                                    "szallas_nev": "Partiszél Vendégház",
                                    "foglalas_pk": "720"
                                },
                                {
                                    "szallas_nev": "Partiszél Vendégház",
                                    "foglalas_pk": "922"
                                },
                                {
                                    "szallas_nev": "Partiszél Vendégház",
                                    "foglalas_pk": "927"
                                },
                                {
                                    "szallas_nev": "Partiszél Vendégház",
                                    "foglalas_pk": "933"
                                },
                                {
                                    "szallas_nev": "Partiszél Vendégház",
                                    "foglalas_pk": "1565"
                                },
                                {
                                    "szallas_nev": "Partiszél Vendégház",
                                    "foglalas_pk": "639"
                                },
                                {
                                    "szallas_nev": "Partiszél Vendégház",
                                    "foglalas_pk": "653"
                                },
                                {
                                    "szallas_nev": "Partiszél Vendégház",
                                    "foglalas_pk": "911"
                                },
                                {
                                    "szallas_nev": "Partiszél Vendégház",
                                    "foglalas_pk": "1068"
                                },
                                {
                                    "szallas_nev": "Partiszél Vendégház",
                                    "foglalas_pk": "1190"
                                },
                                {
                                    "szallas_nev": "Partiszél Vendégház",
                                    "foglalas_pk": "1571"
                                },
                                {
                                    "szallas_nev": "Partiszél Vendégház",
                                    "foglalas_pk": "599"
                                },
                                {
                                    "szallas_nev": "Partiszél Vendégház",
                                    "foglalas_pk": "1205"
                                },
                                {
                                    "szallas_nev": "Partiszél Vendégház",
                                    "foglalas_pk": "1400"
                                },
                                {
                                    "szallas_nev": "Partiszél Vendégház",
                                    "foglalas_pk": "630"
                                },
                                {
                                    "szallas_nev": "Partiszél Vendégház",
                                    "foglalas_pk": "782"
                                },
                                {
                                    "szallas_nev": "Partiszél Vendégház",
                                    "foglalas_pk": "941"
                                },
                                {
                                    "szallas_nev": "Partiszél Vendégház",
                                    "foglalas_pk": "1075"
                                },
                                {
                                    "szallas_nev": "Partiszél Vendégház",
                                    "foglalas_pk": "1107"
                                },
                                {
                                    "szallas_nev": "Partiszél Vendégház",
                                    "foglalas_pk": "1265"
                                },
                                {
                                    "szallas_nev": "Partiszél Vendégház",
                                    "foglalas_pk": "1487"
                                },
                                {
                                    "szallas_nev": "Partiszél Vendégház",
                                    "foglalas_pk": "570"
                                },
                                {
                                    "szallas_nev": "Partiszél Vendégház",
                                    "foglalas_pk": "742"
                                },
                                {
                                    "szallas_nev": "Partiszél Vendégház",
                                    "foglalas_pk": "1010"
                                },
                                {
                                    "szallas_nev": "Partiszél Vendégház",
                                    "foglalas_pk": "1284"
                                },
                                {
                                    "szallas_nev": "Partiszél Vendégház",
                                    "foglalas_pk": "1292"
                                },
                                {
                                    "szallas_nev": "Gold Hotel",
                                    "foglalas_pk": "640"
                                },
                                {
                                    "szallas_nev": "Gold Hotel",
                                    "foglalas_pk": "857"
                                },
                                {
                                    "szallas_nev": "Gold Hotel",
                                    "foglalas_pk": "892"
                                },
                                {
                                    "szallas_nev": "Gold Hotel",
                                    "foglalas_pk": "897"
                                },
                                {
                                    "szallas_nev": "Gold Hotel",
                                    "foglalas_pk": "900"
                                },
                                {
                                    "szallas_nev": "Gold Hotel",
                                    "foglalas_pk": "1141"
                                },
                                {
                                    "szallas_nev": "Gold Hotel",
                                    "foglalas_pk": "1375"
                                },
                                {
                                    "szallas_nev": "Gold Hotel",
                                    "foglalas_pk": "644"
                                },
                                {
                                    "szallas_nev": "Gold Hotel",
                                    "foglalas_pk": "781"
                                },
                                {
                                    "szallas_nev": "Gold Hotel",
                                    "foglalas_pk": "1526"
                                },
                                {
                                    "szallas_nev": "Gold Hotel",
                                    "foglalas_pk": "854"
                                },
                                {
                                    "szallas_nev": "Gold Hotel",
                                    "foglalas_pk": "1414"
                                },
                                {
                                    "szallas_nev": "Gold Hotel",
                                    "foglalas_pk": "792"
                                },
                                {
                                    "szallas_nev": "Gold Hotel",
                                    "foglalas_pk": "794"
                                },
                                {
                                    "szallas_nev": "Gold Hotel",
                                    "foglalas_pk": "930"
                                },
                                {
                                    "szallas_nev": "Gold Hotel",
                                    "foglalas_pk": "1249"
                                },
                                {
                                    "szallas_nev": "Gold Hotel",
                                    "foglalas_pk": "1266"
                                },
                                {
                                    "szallas_nev": "Gold Hotel",
                                    "foglalas_pk": "573"
                                },
                                {
                                    "szallas_nev": "Gold Hotel",
                                    "foglalas_pk": "659"
                                },
                                {
                                    "szallas_nev": "Gold Hotel",
                                    "foglalas_pk": "746"
                                },
                                {
                                    "szallas_nev": "Gold Hotel",
                                    "foglalas_pk": "974"
                                },
                                {
                                    "szallas_nev": "Gold Hotel",
                                    "foglalas_pk": "1356"
                                },
                                {
                                    "szallas_nev": "Gold Hotel",
                                    "foglalas_pk": "1427"
                                },
                                {
                                    "szallas_nev": "Gold Hotel",
                                    "foglalas_pk": "567"
                                },
                                {
                                    "szallas_nev": "Gold Hotel",
                                    "foglalas_pk": "944"
                                },
                                {
                                    "szallas_nev": "Gold Hotel",
                                    "foglalas_pk": "1194"
                                },
                                {
                                    "szallas_nev": "Gold Hotel",
                                    "foglalas_pk": "1267"
                                },
                                {
                                    "szallas_nev": "Gold Hotel",
                                    "foglalas_pk": "1342"
                                },
                                {
                                    "szallas_nev": "Gold Hotel",
                                    "foglalas_pk": "574"
                                },
                                {
                                    "szallas_nev": "Gold Hotel",
                                    "foglalas_pk": "981"
                                },
                                {
                                    "szallas_nev": "Gold Hotel",
                                    "foglalas_pk": "1181"
                                },
                                {
                                    "szallas_nev": "Gold Hotel",
                                    "foglalas_pk": "1329"
                                },
                                {
                                    "szallas_nev": "Gold Hotel",
                                    "foglalas_pk": "1567"
                                },
                                {
                                    "szallas_nev": "Gold Hotel",
                                    "foglalas_pk": "709"
                                },
                                {
                                    "szallas_nev": "Gold Hotel",
                                    "foglalas_pk": "749"
                                },
                                {
                                    "szallas_nev": "Gold Hotel",
                                    "foglalas_pk": "839"
                                },
                                {
                                    "szallas_nev": "Gold Hotel",
                                    "foglalas_pk": "984"
                                },
                                {
                                    "szallas_nev": "Gold Hotel",
                                    "foglalas_pk": "1142"
                                },
                                {
                                    "szallas_nev": "Gold Hotel",
                                    "foglalas_pk": "1171"
                                },
                                {
                                    "szallas_nev": "Gold Hotel",
                                    "foglalas_pk": "1336"
                                },
                                {
                                    "szallas_nev": "Gold Hotel",
                                    "foglalas_pk": "1421"
                                },
                                {
                                    "szallas_nev": "Gold Hotel",
                                    "foglalas_pk": "1491"
                                },
                                {
                                    "szallas_nev": "Gold Hotel",
                                    "foglalas_pk": "669"
                                },
                                {
                                    "szallas_nev": "Gold Hotel",
                                    "foglalas_pk": "913"
                                },
                                {
                                    "szallas_nev": "Gold Hotel",
                                    "foglalas_pk": "1350"
                                },
                                {
                                    "szallas_nev": "Gold Hotel",
                                    "foglalas_pk": "1429"
                                },
                                {
                                    "szallas_nev": "Gold Hotel",
                                    "foglalas_pk": "682"
                                },
                                {
                                    "szallas_nev": "Gold Hotel",
                                    "foglalas_pk": "917"
                                },
                                {
                                    "szallas_nev": "Gold Hotel",
                                    "foglalas_pk": "1015"
                                },
                                {
                                    "szallas_nev": "Gold Hotel",
                                    "foglalas_pk": "1276"
                                },
                                {
                                    "szallas_nev": "Gold Hotel",
                                    "foglalas_pk": "799"
                                },
                                {
                                    "szallas_nev": "Gold Hotel",
                                    "foglalas_pk": "867"
                                },
                                {
                                    "szallas_nev": "Gold Hotel",
                                    "foglalas_pk": "1094"
                                },
                                {
                                    "szallas_nev": "Gold Hotel",
                                    "foglalas_pk": "1133"
                                },
                                {
                                    "szallas_nev": "Gold Hotel",
                                    "foglalas_pk": "1407"
                                },
                                {
                                    "szallas_nev": "Gold Hotel",
                                    "foglalas_pk": "592"
                                },
                                {
                                    "szallas_nev": "Gold Hotel",
                                    "foglalas_pk": "1143"
                                },
                                {
                                    "szallas_nev": "Gold Hotel",
                                    "foglalas_pk": "1278"
                                },
                                {
                                    "szallas_nev": "Gold Hotel",
                                    "foglalas_pk": "1383"
                                },
                                {
                                    "szallas_nev": "Gold Hotel",
                                    "foglalas_pk": "1511"
                                },
                                {
                                    "szallas_nev": "Gold Hotel",
                                    "foglalas_pk": "1570"
                                },
                                {
                                    "szallas_nev": "Gold Hotel",
                                    "foglalas_pk": "785"
                                },
                                {
                                    "szallas_nev": "Gold Hotel",
                                    "foglalas_pk": "831"
                                },
                                {
                                    "szallas_nev": "Gold Hotel",
                                    "foglalas_pk": "1176"
                                },
                                {
                                    "szallas_nev": "Gold Hotel",
                                    "foglalas_pk": "1503"
                                },
                                {
                                    "szallas_nev": "Gold Hotel",
                                    "foglalas_pk": "816"
                                },
                                {
                                    "szallas_nev": "Gold Hotel",
                                    "foglalas_pk": "991"
                                },
                                {
                                    "szallas_nev": "Gold Hotel",
                                    "foglalas_pk": "1211"
                                },
                                {
                                    "szallas_nev": "Gold Hotel",
                                    "foglalas_pk": "1242"
                                },
                                {
                                    "szallas_nev": "Gold Hotel",
                                    "foglalas_pk": "662"
                                },
                                {
                                    "szallas_nev": "Gold Hotel",
                                    "foglalas_pk": "1021"
                                },
                                {
                                    "szallas_nev": "Gold Hotel",
                                    "foglalas_pk": "1497"
                                },
                                {
                                    "szallas_nev": "Gold Hotel",
                                    "foglalas_pk": "905"
                                },
                                {
                                    "szallas_nev": "Gold Hotel",
                                    "foglalas_pk": "1559"
                                },
                                {
                                    "szallas_nev": "Gold Hotel",
                                    "foglalas_pk": "1563"
                                },
                                {
                                    "szallas_nev": "Gold Hotel",
                                    "foglalas_pk": "677"
                                },
                                {
                                    "szallas_nev": "Gold Hotel",
                                    "foglalas_pk": "731"
                                },
                                {
                                    "szallas_nev": "Gold Hotel",
                                    "foglalas_pk": "937"
                                },
                                {
                                    "szallas_nev": "Gold Hotel",
                                    "foglalas_pk": "958"
                                },
                                {
                                    "szallas_nev": "Gold Hotel",
                                    "foglalas_pk": "1346"
                                },
                                {
                                    "szallas_nev": "Gold Hotel",
                                    "foglalas_pk": "1022"
                                },
                                {
                                    "szallas_nev": "Gold Hotel",
                                    "foglalas_pk": "571"
                                },
                                {
                                    "szallas_nev": "Gold Hotel",
                                    "foglalas_pk": "740"
                                },
                                {
                                    "szallas_nev": "Gold Hotel",
                                    "foglalas_pk": "928"
                                },
                                {
                                    "szallas_nev": "Gold Hotel",
                                    "foglalas_pk": "1317"
                                },
                                {
                                    "szallas_nev": "Gold Hotel",
                                    "foglalas_pk": "1326"
                                },
                                {
                                    "szallas_nev": "Gold Hotel",
                                    "foglalas_pk": "1410"
                                },
                                {
                                    "szallas_nev": "Gold Hotel",
                                    "foglalas_pk": "1422"
                                },
                                {
                                    "szallas_nev": "Gold Hotel",
                                    "foglalas_pk": "1008"
                                },
                                {
                                    "szallas_nev": "Gold Hotel",
                                    "foglalas_pk": "1188"
                                },
                                {
                                    "szallas_nev": "Gold Hotel",
                                    "foglalas_pk": "1230"
                                },
                                {
                                    "szallas_nev": "Gold Hotel",
                                    "foglalas_pk": "1231"
                                },
                                {
                                    "szallas_nev": "Gold Hotel",
                                    "foglalas_pk": "1308"
                                },
                                {
                                    "szallas_nev": "Gold Hotel",
                                    "foglalas_pk": "939"
                                },
                                {
                                    "szallas_nev": "Gold Hotel",
                                    "foglalas_pk": "1067"
                                },
                                {
                                    "szallas_nev": "Gold Hotel",
                                    "foglalas_pk": "1147"
                                },
                                {
                                    "szallas_nev": "Gold Hotel",
                                    "foglalas_pk": "1437"
                                },
                                {
                                    "szallas_nev": "Gold Hotel",
                                    "foglalas_pk": "608"
                                },
                                {
                                    "szallas_nev": "Gold Hotel",
                                    "foglalas_pk": "684"
                                },
                                {
                                    "szallas_nev": "Gold Hotel",
                                    "foglalas_pk": "880"
                                },
                                {
                                    "szallas_nev": "Gold Hotel",
                                    "foglalas_pk": "1251"
                                },
                                {
                                    "szallas_nev": "Gold Hotel",
                                    "foglalas_pk": "578"
                                },
                                {
                                    "szallas_nev": "Gold Hotel",
                                    "foglalas_pk": "672"
                                },
                                {
                                    "szallas_nev": "Gold Hotel",
                                    "foglalas_pk": "679"
                                },
                                {
                                    "szallas_nev": "Gold Hotel",
                                    "foglalas_pk": "693"
                                },
                                {
                                    "szallas_nev": "Gold Hotel",
                                    "foglalas_pk": "711"
                                },
                                {
                                    "szallas_nev": "Gold Hotel",
                                    "foglalas_pk": "863"
                                },
                                {
                                    "szallas_nev": "Gold Hotel",
                                    "foglalas_pk": "898"
                                },
                                {
                                    "szallas_nev": "Gold Hotel",
                                    "foglalas_pk": "925"
                                },
                                {
                                    "szallas_nev": "Gold Hotel",
                                    "foglalas_pk": "1125"
                                },
                                {
                                    "szallas_nev": "Gold Hotel",
                                    "foglalas_pk": "1183"
                                },
                                {
                                    "szallas_nev": "Gold Hotel",
                                    "foglalas_pk": "1441"
                                },
                                {
                                    "szallas_nev": "Gold Hotel",
                                    "foglalas_pk": "1463"
                                },
                                {
                                    "szallas_nev": "Gold Hotel",
                                    "foglalas_pk": "615"
                                },
                                {
                                    "szallas_nev": "Gold Hotel",
                                    "foglalas_pk": "1153"
                                },
                                {
                                    "szallas_nev": "Gold Hotel",
                                    "foglalas_pk": "1248"
                                },
                                {
                                    "szallas_nev": "Gold Hotel",
                                    "foglalas_pk": "1467"
                                },
                                {
                                    "szallas_nev": "Gold Hotel",
                                    "foglalas_pk": "633"
                                },
                                {
                                    "szallas_nev": "Gold Hotel",
                                    "foglalas_pk": "695"
                                },
                                {
                                    "szallas_nev": "Gold Hotel",
                                    "foglalas_pk": "743"
                                },
                                {
                                    "szallas_nev": "Gold Hotel",
                                    "foglalas_pk": "766"
                                },
                                {
                                    "szallas_nev": "Gold Hotel",
                                    "foglalas_pk": "868"
                                },
                                {
                                    "szallas_nev": "Gold Hotel",
                                    "foglalas_pk": "957"
                                },
                                {
                                    "szallas_nev": "Gold Hotel",
                                    "foglalas_pk": "1404"
                                },
                                {
                                    "szallas_nev": "Gold Hotel",
                                    "foglalas_pk": "690"
                                },
                                {
                                    "szallas_nev": "Gold Hotel",
                                    "foglalas_pk": "710"
                                },
                                {
                                    "szallas_nev": "Gold Hotel",
                                    "foglalas_pk": "747"
                                },
                                {
                                    "szallas_nev": "Gold Hotel",
                                    "foglalas_pk": "912"
                                },
                                {
                                    "szallas_nev": "Gold Hotel",
                                    "foglalas_pk": "1030"
                                },
                                {
                                    "szallas_nev": "Gold Hotel",
                                    "foglalas_pk": "1390"
                                },
                                {
                                    "szallas_nev": "Gold Hotel",
                                    "foglalas_pk": "699"
                                },
                                {
                                    "szallas_nev": "Gold Hotel",
                                    "foglalas_pk": "753"
                                },
                                {
                                    "szallas_nev": "Gold Hotel",
                                    "foglalas_pk": "1204"
                                },
                                {
                                    "szallas_nev": "Gold Hotel",
                                    "foglalas_pk": "1449"
                                },
                                {
                                    "szallas_nev": "Gold Hotel",
                                    "foglalas_pk": "1576"
                                },
                                {
                                    "szallas_nev": "Gold Hotel",
                                    "foglalas_pk": "600"
                                },
                                {
                                    "szallas_nev": "Gold Hotel",
                                    "foglalas_pk": "774"
                                },
                                {
                                    "szallas_nev": "Gold Hotel",
                                    "foglalas_pk": "989"
                                },
                                {
                                    "szallas_nev": "Gold Hotel",
                                    "foglalas_pk": "1017"
                                },
                                {
                                    "szallas_nev": "Gold Hotel",
                                    "foglalas_pk": "1517"
                                },
                                {
                                    "szallas_nev": "Gold Hotel",
                                    "foglalas_pk": "1039"
                                },
                                {
                                    "szallas_nev": "Gold Hotel",
                                    "foglalas_pk": "1302"
                                },
                                {
                                    "szallas_nev": "Gold Hotel",
                                    "foglalas_pk": "1323"
                                },
                                {
                                    "szallas_nev": "Gold Hotel",
                                    "foglalas_pk": "1502"
                                },
                                {
                                    "szallas_nev": "Gold Hotel",
                                    "foglalas_pk": "1508"
                                },
                                {
                                    "szallas_nev": "Gold Hotel",
                                    "foglalas_pk": "680"
                                },
                                {
                                    "szallas_nev": "Gold Hotel",
                                    "foglalas_pk": "903"
                                },
                                {
                                    "szallas_nev": "Gold Hotel",
                                    "foglalas_pk": "634"
                                },
                                {
                                    "szallas_nev": "Gold Hotel",
                                    "foglalas_pk": "675"
                                },
                                {
                                    "szallas_nev": "Gold Hotel",
                                    "foglalas_pk": "835"
                                },
                                {
                                    "szallas_nev": "Gold Hotel",
                                    "foglalas_pk": "926"
                                },
                                {
                                    "szallas_nev": "Gold Hotel",
                                    "foglalas_pk": "977"
                                },
                                {
                                    "szallas_nev": "Gold Hotel",
                                    "foglalas_pk": "1043"
                                },
                                {
                                    "szallas_nev": "Gold Hotel",
                                    "foglalas_pk": "1238"
                                },
                                {
                                    "szallas_nev": "Gold Hotel",
                                    "foglalas_pk": "1095"
                                },
                                {
                                    "szallas_nev": "Gold Hotel",
                                    "foglalas_pk": "721"
                                },
                                {
                                    "szallas_nev": "Gold Hotel",
                                    "foglalas_pk": "842"
                                },
                                {
                                    "szallas_nev": "Gold Hotel",
                                    "foglalas_pk": "1074"
                                },
                                {
                                    "szallas_nev": "Gold Hotel",
                                    "foglalas_pk": "1184"
                                },
                                {
                                    "szallas_nev": "Gold Hotel",
                                    "foglalas_pk": "1473"
                                },
                                {
                                    "szallas_nev": "Gold Hotel",
                                    "foglalas_pk": "1484"
                                },
                                {
                                    "szallas_nev": "Gold Hotel",
                                    "foglalas_pk": "673"
                                },
                                {
                                    "szallas_nev": "Gold Hotel",
                                    "foglalas_pk": "952"
                                },
                                {
                                    "szallas_nev": "Gold Hotel",
                                    "foglalas_pk": "1314"
                                },
                                {
                                    "szallas_nev": "Gold Hotel",
                                    "foglalas_pk": "1340"
                                },
                                {
                                    "szallas_nev": "Gold Hotel",
                                    "foglalas_pk": "764"
                                },
                                {
                                    "szallas_nev": "Gold Hotel",
                                    "foglalas_pk": "993"
                                },
                                {
                                    "szallas_nev": "Gold Hotel",
                                    "foglalas_pk": "1091"
                                },
                                {
                                    "szallas_nev": "Gold Hotel",
                                    "foglalas_pk": "1172"
                                },
                                {
                                    "szallas_nev": "Gold Hotel",
                                    "foglalas_pk": "1304"
                                },
                                {
                                    "szallas_nev": "Gold Hotel",
                                    "foglalas_pk": "1387"
                                },
                                {
                                    "szallas_nev": "Gold Hotel",
                                    "foglalas_pk": "978"
                                },
                                {
                                    "szallas_nev": "Gold Hotel",
                                    "foglalas_pk": "1216"
                                },
                                {
                                    "szallas_nev": "Gold Hotel",
                                    "foglalas_pk": "1420"
                                },
                                {
                                    "szallas_nev": "Gold Hotel",
                                    "foglalas_pk": "1011"
                                },
                                {
                                    "szallas_nev": "Gold Hotel",
                                    "foglalas_pk": "1065"
                                },
                                {
                                    "szallas_nev": "Gold Hotel",
                                    "foglalas_pk": "1116"
                                },
                                {
                                    "szallas_nev": "Gold Hotel",
                                    "foglalas_pk": "1138"
                                },
                                {
                                    "szallas_nev": "Gold Hotel",
                                    "foglalas_pk": "1161"
                                },
                                {
                                    "szallas_nev": "Gold Hotel",
                                    "foglalas_pk": "NULL"
                                },
                                {
                                    "szallas_nev": "Gold Hotel",
                                    "foglalas_pk": "NULL"
                                },
                                {
                                    "szallas_nev": "Gold Hotel",
                                    "foglalas_pk": "NULL"
                                },
                                {
                                    "szallas_nev": "Gold Hotel",
                                    "foglalas_pk": "NULL"
                                },
                                {
                                    "szallas_nev": "Gold Hotel",
                                    "foglalas_pk": "NULL"
                                },
                                {
                                    "szallas_nev": "Gold Hotel",
                                    "foglalas_pk": "NULL"
                                },
                                {
                                    "szallas_nev": "Gold Hotel",
                                    "foglalas_pk": "NULL"
                                },
                                {
                                    "szallas_nev": "Gold Hotel",
                                    "foglalas_pk": "NULL"
                                },
                                {
                                    "szallas_nev": "Gold Hotel",
                                    "foglalas_pk": "NULL"
                                },
                                {
                                    "szallas_nev": "Gold Hotel",
                                    "foglalas_pk": "NULL"
                                },
                                {
                                    "szallas_nev": "Gold Hotel",
                                    "foglalas_pk": "NULL"
                                },
                                {
                                    "szallas_nev": "Gold Hotel",
                                    "foglalas_pk": "NULL"
                                },
                                {
                                    "szallas_nev": "Gold Hotel",
                                    "foglalas_pk": "NULL"
                                },
                                {
                                    "szallas_nev": "Gold Hotel",
                                    "foglalas_pk": "NULL"
                                },
                                {
                                    "szallas_nev": "Gold Hotel",
                                    "foglalas_pk": "NULL"
                                },
                                {
                                    "szallas_nev": "Gold Hotel",
                                    "foglalas_pk": "NULL"
                                },
                                {
                                    "szallas_nev": "Riviéra Panzió",
                                    "foglalas_pk": "NULL"
                                },
                                {
                                    "szallas_nev": "Riviéra Panzió",
                                    "foglalas_pk": "NULL"
                                },
                                {
                                    "szallas_nev": "Riviéra Panzió",
                                    "foglalas_pk": "NULL"
                                },
                                {
                                    "szallas_nev": "Riviéra Panzió",
                                    "foglalas_pk": "NULL"
                                },
                                {
                                    "szallas_nev": "Riviéra Panzió",
                                    "foglalas_pk": "NULL"
                                },
                                {
                                    "szallas_nev": "Riviéra Panzió",
                                    "foglalas_pk": "NULL"
                                },
                                {
                                    "szallas_nev": "Riviéra Panzió",
                                    "foglalas_pk": "NULL"
                                },
                                {
                                    "szallas_nev": "Riviéra Panzió",
                                    "foglalas_pk": "NULL"
                                },
                                {
                                    "szallas_nev": "Riviéra Panzió",
                                    "foglalas_pk": "NULL"
                                },
                                {
                                    "szallas_nev": "Riviéra Panzió",
                                    "foglalas_pk": "NULL"
                                },
                                {
                                    "szallas_nev": "Riviéra Panzió",
                                    "foglalas_pk": "NULL"
                                },
                                {
                                    "szallas_nev": "Riviéra Panzió",
                                    "foglalas_pk": "NULL"
                                },
                                {
                                    "szallas_nev": "Nyárfás Vendégház",
                                    "foglalas_pk": "NULL"
                                },
                                {
                                    "szallas_nev": "Nyárfás Vendégház",
                                    "foglalas_pk": "NULL"
                                },
                                {
                                    "szallas_nev": "Nyárfás Vendégház",
                                    "foglalas_pk": "NULL"
                                },
                                {
                                    "szallas_nev": "Nyárfás Vendégház",
                                    "foglalas_pk": "NULL"
                                },
                                {
                                    "szallas_nev": "Tímárház Panzió",
                                    "foglalas_pk": "NULL"
                                },
                                {
                                    "szallas_nev": "Tímárház Panzió",
                                    "foglalas_pk": "NULL"
                                },
                                {
                                    "szallas_nev": "Tímárház Panzió",
                                    "foglalas_pk": "NULL"
                                },
                                {
                                    "szallas_nev": "Tímárház Panzió",
                                    "foglalas_pk": "NULL"
                                },
                                {
                                    "szallas_nev": "Tímárház Panzió",
                                    "foglalas_pk": "NULL"
                                },
                                {
                                    "szallas_nev": "Tímárház Panzió",
                                    "foglalas_pk": "NULL"
                                },
                                {
                                    "szallas_nev": "Tímárház Panzió",
                                    "foglalas_pk": "NULL"
                                },
                                {
                                    "szallas_nev": "Tímárház Panzió",
                                    "foglalas_pk": "NULL"
                                },
                                {
                                    "szallas_nev": "Tímárház Panzió",
                                    "foglalas_pk": "NULL"
                                },
                                {
                                    "szallas_nev": "Tímárház Panzió",
                                    "foglalas_pk": "NULL"
                                },
                                {
                                    "szallas_nev": "Tímárház Panzió",
                                    "foglalas_pk": "NULL"
                                },
                                {
                                    "szallas_nev": "Tímárház Panzió",
                                    "foglalas_pk": "NULL"
                                },
                                {
                                    "szallas_nev": "Bagoly Hotel",
                                    "foglalas_pk": "NULL"
                                },
                                {
                                    "szallas_nev": "Bagoly Hotel",
                                    "foglalas_pk": "NULL"
                                },
                                {
                                    "szallas_nev": "Bagoly Hotel",
                                    "foglalas_pk": "NULL"
                                },
                                {
                                    "szallas_nev": "Bagoly Hotel",
                                    "foglalas_pk": "NULL"
                                },
                                {
                                    "szallas_nev": "Bagoly Hotel",
                                    "foglalas_pk": "NULL"
                                },
                                {
                                    "szallas_nev": "Bagoly Hotel",
                                    "foglalas_pk": "NULL"
                                },
                                {
                                    "szallas_nev": "Bagoly Hotel",
                                    "foglalas_pk": "NULL"
                                },
                                {
                                    "szallas_nev": "Bagoly Hotel",
                                    "foglalas_pk": "NULL"
                                },
                                {
                                    "szallas_nev": "Bagoly Hotel",
                                    "foglalas_pk": "NULL"
                                },
                                {
                                    "szallas_nev": "Bagoly Hotel",
                                    "foglalas_pk": "NULL"
                                },
                                {
                                    "szallas_nev": "Bagoly Hotel",
                                    "foglalas_pk": "NULL"
                                },
                                {
                                    "szallas_nev": "Bagoly Hotel",
                                    "foglalas_pk": "NULL"
                                },
                                {
                                    "szallas_nev": "Bagoly Hotel",
                                    "foglalas_pk": "NULL"
                                },
                                {
                                    "szallas_nev": "Bagoly Hotel",
                                    "foglalas_pk": "NULL"
                                },
                                {
                                    "szallas_nev": "Bagoly Hotel",
                                    "foglalas_pk": "NULL"
                                },
                                {
                                    "szallas_nev": "Bagoly Hotel",
                                    "foglalas_pk": "NULL"
                                },
                                {
                                    "szallas_nev": "Bagoly Hotel",
                                    "foglalas_pk": "NULL"
                                },
                                {
                                    "szallas_nev": "Bagoly Hotel",
                                    "foglalas_pk": "NULL"
                                },
                                {
                                    "szallas_nev": "Bagoly Hotel",
                                    "foglalas_pk": "NULL"
                                },
                                {
                                    "szallas_nev": "Bagoly Hotel",
                                    "foglalas_pk": "NULL"
                                },
                                {
                                    "szallas_nev": "Szarvas Hotel",
                                    "foglalas_pk": "NULL"
                                },
                                {
                                    "szallas_nev": "Szarvas Hotel",
                                    "foglalas_pk": "NULL"
                                },
                                {
                                    "szallas_nev": "Szarvas Hotel",
                                    "foglalas_pk": "NULL"
                                },
                                {
                                    "szallas_nev": "Szarvas Hotel",
                                    "foglalas_pk": "NULL"
                                },
                                {
                                    "szallas_nev": "Szarvas Hotel",
                                    "foglalas_pk": "NULL"
                                },
                                {
                                    "szallas_nev": "Szarvas Hotel",
                                    "foglalas_pk": "NULL"
                                },
                                {
                                    "szallas_nev": "Szarvas Hotel",
                                    "foglalas_pk": "NULL"
                                },
                                {
                                    "szallas_nev": "Szarvas Hotel",
                                    "foglalas_pk": "NULL"
                                },
                                {
                                    "szallas_nev": "Szarvas Hotel",
                                    "foglalas_pk": "NULL"
                                },
                                {
                                    "szallas_nev": "Szarvas Hotel",
                                    "foglalas_pk": "NULL"
                                },
                                {
                                    "szallas_nev": "Szarvas Hotel",
                                    "foglalas_pk": "NULL"
                                },
                                {
                                    "szallas_nev": "Szarvas Hotel",
                                    "foglalas_pk": "NULL"
                                },
                                {
                                    "szallas_nev": "Szarvas Hotel",
                                    "foglalas_pk": "NULL"
                                },
                                {
                                    "szallas_nev": "Szarvas Hotel",
                                    "foglalas_pk": "NULL"
                                },
                                {
                                    "szallas_nev": "Szarvas Hotel",
                                    "foglalas_pk": "NULL"
                                },
                                {
                                    "szallas_nev": "Fortuna Apartman",
                                    "foglalas_pk": "NULL"
                                },
                                {
                                    "szallas_nev": "Fortuna Apartman",
                                    "foglalas_pk": "NULL"
                                },
                                {
                                    "szallas_nev": "Fortuna Apartman",
                                    "foglalas_pk": "NULL"
                                },
                                {
                                    "szallas_nev": "Nyárfás Vendégház",
                                    "foglalas_pk": "NULL"
                                },
                                {
                                    "szallas_nev": "Nyárfás Vendégház",
                                    "foglalas_pk": "NULL"
                                },
                                {
                                    "szallas_nev": "Nyárfás Vendégház",
                                    "foglalas_pk": "NULL"
                                },
                                {
                                    "szallas_nev": "Nyárfás Vendégház",
                                    "foglalas_pk": "NULL"
                                },
                                {
                                    "szallas_nev": "Kollégium",
                                    "foglalas_pk": "NULL"
                                },
                                {
                                    "szallas_nev": "Kollégium",
                                    "foglalas_pk": "NULL"
                                },
                                {
                                    "szallas_nev": "Kollégium",
                                    "foglalas_pk": "NULL"
                                },
                                {
                                    "szallas_nev": "Kollégium",
                                    "foglalas_pk": "NULL"
                                },
                                {
                                    "szallas_nev": "Kollégium",
                                    "foglalas_pk": "NULL"
                                },
                                {
                                    "szallas_nev": "Kollégium",
                                    "foglalas_pk": "NULL"
                                },
                                {
                                    "szallas_nev": "Kollégium",
                                    "foglalas_pk": "NULL"
                                },
                                {
                                    "szallas_nev": "Kollégium",
                                    "foglalas_pk": "NULL"
                                },
                                {
                                    "szallas_nev": "Kollégium",
                                    "foglalas_pk": "NULL"
                                },
                                {
                                    "szallas_nev": "Kollégium",
                                    "foglalas_pk": "NULL"
                                }
                            ]
                        },
                        "text/html": [
                            "<table>",
                            "<tr><th>szallas_nev</th><th>foglalas_pk</th></tr>",
                            "<tr><td>Sába-Ház</td><td>620</td></tr>",
                            "<tr><td>Sába-Ház</td><td>738</td></tr>",
                            "<tr><td>Sába-Ház</td><td>803</td></tr>",
                            "<tr><td>Sába-Ház</td><td>949</td></tr>",
                            "<tr><td>Sába-Ház</td><td>1137</td></tr>",
                            "<tr><td>Sába-Ház</td><td>1152</td></tr>",
                            "<tr><td>Sába-Ház</td><td>1274</td></tr>",
                            "<tr><td>Sába-Ház</td><td>1334</td></tr>",
                            "<tr><td>Sába-Ház</td><td>828</td></tr>",
                            "<tr><td>Sába-Ház</td><td>1051</td></tr>",
                            "<tr><td>Sába-Ház</td><td>1069</td></tr>",
                            "<tr><td>Sába-Ház</td><td>1311</td></tr>",
                            "<tr><td>Sába-Ház</td><td>629</td></tr>",
                            "<tr><td>Sába-Ház</td><td>666</td></tr>",
                            "<tr><td>Sába-Ház</td><td>788</td></tr>",
                            "<tr><td>Sába-Ház</td><td>1038</td></tr>",
                            "<tr><td>Sába-Ház</td><td>1110</td></tr>",
                            "<tr><td>Sába-Ház</td><td>1151</td></tr>",
                            "<tr><td>Sába-Ház</td><td>1434</td></tr>",
                            "<tr><td>Sába-Ház</td><td>1544</td></tr>",
                            "<tr><td>Sába-Ház</td><td>651</td></tr>",
                            "<tr><td>Sába-Ház</td><td>946</td></tr>",
                            "<tr><td>Sába-Ház</td><td>1001</td></tr>",
                            "<tr><td>Sába-Ház</td><td>1127</td></tr>",
                            "<tr><td>Sába-Ház</td><td>1132</td></tr>",
                            "<tr><td>Sába-Ház</td><td>1492</td></tr>",
                            "<tr><td>Sába-Ház</td><td>564</td></tr>",
                            "<tr><td>Sába-Ház</td><td>965</td></tr>",
                            "<tr><td>Sába-Ház</td><td>1073</td></tr>",
                            "<tr><td>Sába-Ház</td><td>1257</td></tr>",
                            "<tr><td>Sába-Ház</td><td>560</td></tr>",
                            "<tr><td>Sába-Ház</td><td>772</td></tr>",
                            "<tr><td>Sába-Ház</td><td>850</td></tr>",
                            "<tr><td>Sába-Ház</td><td>873</td></tr>",
                            "<tr><td>Sába-Ház</td><td>990</td></tr>",
                            "<tr><td>Sába-Ház</td><td>1099</td></tr>",
                            "<tr><td>Sába-Ház</td><td>562</td></tr>",
                            "<tr><td>Sába-Ház</td><td>759</td></tr>",
                            "<tr><td>Sába-Ház</td><td>1131</td></tr>",
                            "<tr><td>Sába-Ház</td><td>1175</td></tr>",
                            "<tr><td>Sába-Ház</td><td>1182</td></tr>",
                            "<tr><td>Sába-Ház</td><td>1252</td></tr>",
                            "<tr><td>Sába-Ház</td><td>694</td></tr>",
                            "<tr><td>Sába-Ház</td><td>818</td></tr>",
                            "<tr><td>Sába-Ház</td><td>832</td></tr>",
                            "<tr><td>Sába-Ház</td><td>882</td></tr>",
                            "<tr><td>Sába-Ház</td><td>947</td></tr>",
                            "<tr><td>Sába-Ház</td><td>609</td></tr>",
                            "<tr><td>Sába-Ház</td><td>1260</td></tr>",
                            "<tr><td>Sába-Ház</td><td>1423</td></tr>",
                            "<tr><td>Sába-Ház</td><td>1537</td></tr>",
                            "<tr><td>Sába-Ház</td><td>1157</td></tr>",
                            "<tr><td>Sába-Ház</td><td>1220</td></tr>",
                            "<tr><td>Sába-Ház</td><td>569</td></tr>",
                            "<tr><td>Sába-Ház</td><td>790</td></tr>",
                            "<tr><td>Sába-Ház</td><td>795</td></tr>",
                            "<tr><td>Sába-Ház</td><td>1319</td></tr>",
                            "<tr><td>Sába-Ház</td><td>918</td></tr>",
                            "<tr><td>Sába-Ház</td><td>1123</td></tr>",
                            "<tr><td>Sába-Ház</td><td>1236</td></tr>",
                            "<tr><td>Sába-Ház</td><td>1523</td></tr>",
                            "<tr><td>Sába-Ház</td><td>697</td></tr>",
                            "<tr><td>Sába-Ház</td><td>775</td></tr>",
                            "<tr><td>Sába-Ház</td><td>876</td></tr>",
                            "<tr><td>Sába-Ház</td><td>951</td></tr>",
                            "<tr><td>Sába-Ház</td><td>970</td></tr>",
                            "<tr><td>Sába-Ház</td><td>1430</td></tr>",
                            "<tr><td>Sába-Ház</td><td>1020</td></tr>",
                            "<tr><td>Sába-Ház</td><td>1140</td></tr>",
                            "<tr><td>Sába-Ház</td><td>1164</td></tr>",
                            "<tr><td>Családi Ház</td><td>763</td></tr>",
                            "<tr><td>Családi Ház</td><td>1044</td></tr>",
                            "<tr><td>Családi Ház</td><td>1347</td></tr>",
                            "<tr><td>Családi Ház</td><td>1469</td></tr>",
                            "<tr><td>Családi Ház</td><td>663</td></tr>",
                            "<tr><td>Családi Ház</td><td>813</td></tr>",
                            "<tr><td>Családi Ház</td><td>1542</td></tr>",
                            "<tr><td>Családi Ház</td><td>791</td></tr>",
                            "<tr><td>Családi Ház</td><td>1418</td></tr>",
                            "<tr><td>Családi Ház</td><td>1442</td></tr>",
                            "<tr><td>Családi Ház</td><td>1028</td></tr>",
                            "<tr><td>Családi Ház</td><td>1129</td></tr>",
                            "<tr><td>Családi Ház</td><td>1244</td></tr>",
                            "<tr><td>Családi Ház</td><td>687</td></tr>",
                            "<tr><td>Családi Ház</td><td>856</td></tr>",
                            "<tr><td>Családi Ház</td><td>896</td></tr>",
                            "<tr><td>Családi Ház</td><td>1498</td></tr>",
                            "<tr><td>Családi Ház</td><td>973</td></tr>",
                            "<tr><td>Fortuna Apartman</td><td>602</td></tr>",
                            "<tr><td>Fortuna Apartman</td><td>713</td></tr>",
                            "<tr><td>Fortuna Apartman</td><td>744</td></tr>",
                            "<tr><td>Fortuna Apartman</td><td>916</td></tr>",
                            "<tr><td>Fortuna Apartman</td><td>1316</td></tr>",
                            "<tr><td>Fortuna Apartman</td><td>1549</td></tr>",
                            "<tr><td>Fortuna Apartman</td><td>626</td></tr>",
                            "<tr><td>Fortuna Apartman</td><td>767</td></tr>",
                            "<tr><td>Fortuna Apartman</td><td>1035</td></tr>",
                            "<tr><td>Fortuna Apartman</td><td>1173</td></tr>",
                            "<tr><td>Fortuna Apartman</td><td>1198</td></tr>",
                            "<tr><td>Fortuna Apartman</td><td>1505</td></tr>",
                            "<tr><td>Fortuna Apartman</td><td>696</td></tr>",
                            "<tr><td>Fortuna Apartman</td><td>778</td></tr>",
                            "<tr><td>Fortuna Apartman</td><td>948</td></tr>",
                            "<tr><td>Fortuna Apartman</td><td>1139</td></tr>",
                            "<tr><td>Fortuna Apartman</td><td>1237</td></tr>",
                            "<tr><td>Fortuna Apartman</td><td>1533</td></tr>",
                            "<tr><td>Fortuna Apartman</td><td>755</td></tr>",
                            "<tr><td>Fortuna Apartman</td><td>820</td></tr>",
                            "<tr><td>Fortuna Apartman</td><td>1070</td></tr>",
                            "<tr><td>Fortuna Apartman</td><td>1106</td></tr>",
                            "<tr><td>Fortuna Apartman</td><td>1114</td></tr>",
                            "<tr><td>Fortuna Apartman</td><td>566</td></tr>",
                            "<tr><td>Fortuna Apartman</td><td>660</td></tr>",
                            "<tr><td>Fortuna Apartman</td><td>805</td></tr>",
                            "<tr><td>Fortuna Apartman</td><td>1212</td></tr>",
                            "<tr><td>Fortuna Apartman</td><td>906</td></tr>",
                            "<tr><td>Fortuna Apartman</td><td>1005</td></tr>",
                            "<tr><td>Fortuna Apartman</td><td>1130</td></tr>",
                            "<tr><td>Fortuna Apartman</td><td>1195</td></tr>",
                            "<tr><td>Fortuna Apartman</td><td>1206</td></tr>",
                            "<tr><td>Fortuna Apartman</td><td>1287</td></tr>",
                            "<tr><td>Fortuna Apartman</td><td>848</td></tr>",
                            "<tr><td>Fortuna Apartman</td><td>934</td></tr>",
                            "<tr><td>Fortuna Apartman</td><td>945</td></tr>",
                            "<tr><td>Fortuna Apartman</td><td>852</td></tr>",
                            "<tr><td>Fortuna Apartman</td><td>1167</td></tr>",
                            "<tr><td>Fortuna Apartman</td><td>1415</td></tr>",
                            "<tr><td>Fortuna panzió</td><td>1052</td></tr>",
                            "<tr><td>Fortuna panzió</td><td>1362</td></tr>",
                            "<tr><td>Fortuna panzió</td><td>1158</td></tr>",
                            "<tr><td>Fortuna panzió</td><td>1388</td></tr>",
                            "<tr><td>Fortuna panzió</td><td>758</td></tr>",
                            "<tr><td>Fortuna panzió</td><td>807</td></tr>",
                            "<tr><td>Fortuna panzió</td><td>1031</td></tr>",
                            "<tr><td>Fortuna panzió</td><td>1082</td></tr>",
                            "<tr><td>Fortuna panzió</td><td>1275</td></tr>",
                            "<tr><td>Fortuna panzió</td><td>1377</td></tr>",
                            "<tr><td>Fortuna panzió</td><td>1476</td></tr>",
                            "<tr><td>Fortuna panzió</td><td>725</td></tr>",
                            "<tr><td>Fortuna panzió</td><td>872</td></tr>",
                            "<tr><td>Fortuna panzió</td><td>886</td></tr>",
                            "<tr><td>Fortuna panzió</td><td>901</td></tr>",
                            "<tr><td>Fortuna panzió</td><td>1150</td></tr>",
                            "<tr><td>Fortuna panzió</td><td>1459</td></tr>",
                            "<tr><td>Fortuna panzió</td><td>611</td></tr>",
                            "<tr><td>Fortuna panzió</td><td>894</td></tr>",
                            "<tr><td>Fortuna panzió</td><td>1076</td></tr>",
                            "<tr><td>Fortuna panzió</td><td>1185</td></tr>",
                            "<tr><td>Fortuna panzió</td><td>1235</td></tr>",
                            "<tr><td>Fortuna panzió</td><td>1568</td></tr>",
                            "<tr><td>Fortuna panzió</td><td>604</td></tr>",
                            "<tr><td>Fortuna panzió</td><td>1023</td></tr>",
                            "<tr><td>Fortuna panzió</td><td>1136</td></tr>",
                            "<tr><td>Fortuna panzió</td><td>598</td></tr>",
                            "<tr><td>Fortuna panzió</td><td>606</td></tr>",
                            "<tr><td>Fortuna panzió</td><td>728</td></tr>",
                            "<tr><td>Fortuna panzió</td><td>920</td></tr>",
                            "<tr><td>Fortuna panzió</td><td>624</td></tr>",
                            "<tr><td>Fortuna panzió</td><td>1012</td></tr>",
                            "<tr><td>Fortuna panzió</td><td>1053</td></tr>",
                            "<tr><td>Fortuna panzió</td><td>1321</td></tr>",
                            "<tr><td>Fortuna panzió</td><td>1344</td></tr>",
                            "<tr><td>Fortuna panzió</td><td>1381</td></tr>",
                            "<tr><td>Fortuna panzió</td><td>777</td></tr>",
                            "<tr><td>Fortuna panzió</td><td>821</td></tr>",
                            "<tr><td>Fortuna panzió</td><td>870</td></tr>",
                            "<tr><td>Fortuna panzió</td><td>904</td></tr>",
                            "<tr><td>Fortuna panzió</td><td>686</td></tr>",
                            "<tr><td>Fortuna panzió</td><td>707</td></tr>",
                            "<tr><td>Fortuna panzió</td><td>829</td></tr>",
                            "<tr><td>Fortuna panzió</td><td>971</td></tr>",
                            "<tr><td>Fortuna panzió</td><td>979</td></tr>",
                            "<tr><td>Fortuna panzió</td><td>1411</td></tr>",
                            "<tr><td>Fortuna panzió</td><td>1436</td></tr>",
                            "<tr><td>Fortuna panzió</td><td>1480</td></tr>",
                            "<tr><td>Fortuna panzió</td><td>1529</td></tr>",
                            "<tr><td>Fortuna panzió</td><td>748</td></tr>",
                            "<tr><td>Fortuna panzió</td><td>750</td></tr>",
                            "<tr><td>Fortuna panzió</td><td>895</td></tr>",
                            "<tr><td>Fortuna panzió</td><td>919</td></tr>",
                            "<tr><td>Fortuna panzió</td><td>985</td></tr>",
                            "<tr><td>Fortuna panzió</td><td>1003</td></tr>",
                            "<tr><td>Fortuna panzió</td><td>688</td></tr>",
                            "<tr><td>Fortuna panzió</td><td>705</td></tr>",
                            "<tr><td>Fortuna panzió</td><td>1335</td></tr>",
                            "<tr><td>Fortuna panzió</td><td>627</td></tr>",
                            "<tr><td>Fortuna panzió</td><td>1033</td></tr>",
                            "<tr><td>Fortuna panzió</td><td>1060</td></tr>",
                            "<tr><td>Fortuna panzió</td><td>1078</td></tr>",
                            "<tr><td>Fortuna panzió</td><td>1556</td></tr>",
                            "<tr><td>Fortuna panzió</td><td>1351</td></tr>",
                            "<tr><td>Fortuna panzió</td><td>1416</td></tr>",
                            "<tr><td>Fortuna panzió</td><td>1478</td></tr>",
                            "<tr><td>Fortuna panzió</td><td>601</td></tr>",
                            "<tr><td>Fortuna panzió</td><td>899</td></tr>",
                            "<tr><td>Fortuna panzió</td><td>1214</td></tr>",
                            "<tr><td>Fortuna panzió</td><td>1538</td></tr>",
                            "<tr><td>Fortuna panzió</td><td>1380</td></tr>",
                            "<tr><td>Fortuna panzió</td><td>1435</td></tr>",
                            "<tr><td>Fortuna panzió</td><td>1454</td></tr>",
                            "<tr><td>Fortuna Panzió</td><td>924</td></tr>",
                            "<tr><td>Fortuna Panzió</td><td>932</td></tr>",
                            "<tr><td>Fortuna Panzió</td><td>1018</td></tr>",
                            "<tr><td>Fortuna Panzió</td><td>1118</td></tr>",
                            "<tr><td>Fortuna Panzió</td><td>960</td></tr>",
                            "<tr><td>Fortuna Panzió</td><td>1144</td></tr>",
                            "<tr><td>Fortuna Panzió</td><td>561</td></tr>",
                            "<tr><td>Fortuna Panzió</td><td>590</td></tr>",
                            "<tr><td>Fortuna Panzió</td><td>770</td></tr>",
                            "<tr><td>Fortuna Panzió</td><td>851</td></tr>",
                            "<tr><td>Fortuna Panzió</td><td>1309</td></tr>",
                            "<tr><td>Fortuna Panzió</td><td>1444</td></tr>",
                            "<tr><td>Fortuna Panzió</td><td>670</td></tr>",
                            "<tr><td>Fortuna Panzió</td><td>1019</td></tr>",
                            "<tr><td>Fortuna Panzió</td><td>1088</td></tr>",
                            "<tr><td>Fortuna Panzió</td><td>1524</td></tr>",
                            "<tr><td>Fortuna Panzió</td><td>1553</td></tr>",
                            "<tr><td>Fortuna Panzió</td><td>1207</td></tr>",
                            "<tr><td>Fortuna Panzió</td><td>1227</td></tr>",
                            "<tr><td>Fortuna Panzió</td><td>1270</td></tr>",
                            "<tr><td>Fortuna Panzió</td><td>589</td></tr>",
                            "<tr><td>Fortuna Panzió</td><td>658</td></tr>",
                            "<tr><td>Fortuna Panzió</td><td>823</td></tr>",
                            "<tr><td>Fortuna Panzió</td><td>1295</td></tr>",
                            "<tr><td>Fortuna Panzió</td><td>1425</td></tr>",
                            "<tr><td>Fortuna Panzió</td><td>1552</td></tr>",
                            "<tr><td>Fortuna Panzió</td><td>800</td></tr>",
                            "<tr><td>Fortuna Panzió</td><td>802</td></tr>",
                            "<tr><td>Fortuna Panzió</td><td>846</td></tr>",
                            "<tr><td>Fortuna Panzió</td><td>1135</td></tr>",
                            "<tr><td>Fortuna Panzió</td><td>1303</td></tr>",
                            "<tr><td>Fortuna Panzió</td><td>752</td></tr>",
                            "<tr><td>Fortuna Panzió</td><td>1187</td></tr>",
                            "<tr><td>Fortuna Panzió</td><td>1291</td></tr>",
                            "<tr><td>Fortuna Panzió</td><td>1515</td></tr>",
                            "<tr><td>Fortuna Panzió</td><td>955</td></tr>",
                            "<tr><td>Fortuna Panzió</td><td>1056</td></tr>",
                            "<tr><td>Fortuna Panzió</td><td>603</td></tr>",
                            "<tr><td>Fortuna Panzió</td><td>628</td></tr>",
                            "<tr><td>Fortuna Panzió</td><td>824</td></tr>",
                            "<tr><td>Fortuna Panzió</td><td>914</td></tr>",
                            "<tr><td>Fortuna Panzió</td><td>986</td></tr>",
                            "<tr><td>Fortuna Panzió</td><td>1243</td></tr>",
                            "<tr><td>Fortuna Panzió</td><td>1546</td></tr>",
                            "<tr><td>Fortuna Panzió</td><td>1547</td></tr>",
                            "<tr><td>Fortuna Panzió</td><td>1581</td></tr>",
                            "<tr><td>Fortuna Panzió</td><td>793</td></tr>",
                            "<tr><td>Fortuna Panzió</td><td>826</td></tr>",
                            "<tr><td>Fortuna Panzió</td><td>888</td></tr>",
                            "<tr><td>Fortuna Panzió</td><td>1066</td></tr>",
                            "<tr><td>Fortuna Panzió</td><td>1200</td></tr>",
                            "<tr><td>Fortuna Panzió</td><td>1221</td></tr>",
                            "<tr><td>Fortuna Panzió</td><td>1536</td></tr>",
                            "<tr><td>Kentaur Hotel</td><td>787</td></tr>",
                            "<tr><td>Kentaur Hotel</td><td>1063</td></tr>",
                            "<tr><td>Kentaur Hotel</td><td>1224</td></tr>",
                            "<tr><td>Kentaur Hotel</td><td>1272</td></tr>",
                            "<tr><td>Kentaur Hotel</td><td>811</td></tr>",
                            "<tr><td>Kentaur Hotel</td><td>865</td></tr>",
                            "<tr><td>Kentaur Hotel</td><td>1165</td></tr>",
                            "<tr><td>Kentaur Hotel</td><td>1477</td></tr>",
                            "<tr><td>Kentaur Hotel</td><td>1550</td></tr>",
                            "<tr><td>Kentaur Hotel</td><td>822</td></tr>",
                            "<tr><td>Kentaur Hotel</td><td>1202</td></tr>",
                            "<tr><td>Kentaur Hotel</td><td>1258</td></tr>",
                            "<tr><td>Kentaur Hotel</td><td>1431</td></tr>",
                            "<tr><td>Kentaur Hotel</td><td>1534</td></tr>",
                            "<tr><td>Kentaur Hotel</td><td>855</td></tr>",
                            "<tr><td>Kentaur Hotel</td><td>987</td></tr>",
                            "<tr><td>Kentaur Hotel</td><td>622</td></tr>",
                            "<tr><td>Kentaur Hotel</td><td>642</td></tr>",
                            "<tr><td>Kentaur Hotel</td><td>668</td></tr>",
                            "<tr><td>Kentaur Hotel</td><td>889</td></tr>",
                            "<tr><td>Kentaur Hotel</td><td>1096</td></tr>",
                            "<tr><td>Kentaur Hotel</td><td>1328</td></tr>",
                            "<tr><td>Kentaur Hotel</td><td>734</td></tr>",
                            "<tr><td>Kentaur Hotel</td><td>1086</td></tr>",
                            "<tr><td>Kentaur Hotel</td><td>1163</td></tr>",
                            "<tr><td>Kentaur Hotel</td><td>1512</td></tr>",
                            "<tr><td>Kentaur Hotel</td><td>1520</td></tr>",
                            "<tr><td>Kentaur Hotel</td><td>1232</td></tr>",
                            "<tr><td>Kentaur Hotel</td><td>1327</td></tr>",
                            "<tr><td>Kentaur Hotel</td><td>1386</td></tr>",
                            "<tr><td>Kentaur Hotel</td><td>838</td></tr>",
                            "<tr><td>Kentaur Hotel</td><td>935</td></tr>",
                            "<tr><td>Kentaur Hotel</td><td>1348</td></tr>",
                            "<tr><td>Kentaur Hotel</td><td>1389</td></tr>",
                            "<tr><td>Kentaur Hotel</td><td>1466</td></tr>",
                            "<tr><td>Kentaur Hotel</td><td>1504</td></tr>",
                            "<tr><td>Kentaur Hotel</td><td>719</td></tr>",
                            "<tr><td>Kentaur Hotel</td><td>773</td></tr>",
                            "<tr><td>Kentaur Hotel</td><td>883</td></tr>",
                            "<tr><td>Kentaur Hotel</td><td>1285</td></tr>",
                            "<tr><td>Kentaur Hotel</td><td>1293</td></tr>",
                            "<tr><td>Kentaur Hotel</td><td>1307</td></tr>",
                            "<tr><td>Kentaur Hotel</td><td>1322</td></tr>",
                            "<tr><td>Kentaur Hotel</td><td>1451</td></tr>",
                            "<tr><td>Kentaur Hotel</td><td>1113</td></tr>",
                            "<tr><td>Kentaur Hotel</td><td>1186</td></tr>",
                            "<tr><td>Kentaur Hotel</td><td>1208</td></tr>",
                            "<tr><td>Kentaur Hotel</td><td>1255</td></tr>",
                            "<tr><td>Kentaur Hotel</td><td>1261</td></tr>",
                            "<tr><td>Kentaur Hotel</td><td>1080</td></tr>",
                            "<tr><td>Kentaur Hotel</td><td>1084</td></tr>",
                            "<tr><td>Kentaur Hotel</td><td>1170</td></tr>",
                            "<tr><td>Kentaur Hotel</td><td>1191</td></tr>",
                            "<tr><td>Kentaur Hotel</td><td>1239</td></tr>",
                            "<tr><td>Kentaur Hotel</td><td>1288</td></tr>",
                            "<tr><td>Kentaur Hotel</td><td>1573</td></tr>",
                            "<tr><td>Kentaur Hotel</td><td>676</td></tr>",
                            "<tr><td>Kentaur Hotel</td><td>701</td></tr>",
                            "<tr><td>Kentaur Hotel</td><td>756</td></tr>",
                            "<tr><td>Kentaur Hotel</td><td>1148</td></tr>",
                            "<tr><td>Kentaur Hotel</td><td>1218</td></tr>",
                            "<tr><td>Kentaur Hotel</td><td>1496</td></tr>",
                            "<tr><td>Kentaur Hotel</td><td>702</td></tr>",
                            "<tr><td>Kentaur Hotel</td><td>936</td></tr>",
                            "<tr><td>Kentaur Hotel</td><td>938</td></tr>",
                            "<tr><td>Kentaur Hotel</td><td>1081</td></tr>",
                            "<tr><td>Kentaur Hotel</td><td>1426</td></tr>",
                            "<tr><td>Kentaur Hotel</td><td>625</td></tr>",
                            "<tr><td>Kentaur Hotel</td><td>769</td></tr>",
                            "<tr><td>Kentaur Hotel</td><td>845</td></tr>",
                            "<tr><td>Kentaur Hotel</td><td>891</td></tr>",
                            "<tr><td>Kentaur Hotel</td><td>875</td></tr>",
                            "<tr><td>Kentaur Hotel</td><td>1122</td></tr>",
                            "<tr><td>Kentaur Hotel</td><td>1233</td></tr>",
                            "<tr><td>Kentaur Hotel</td><td>1446</td></tr>",
                            "<tr><td>Kentaur Hotel</td><td>1465</td></tr>",
                            "<tr><td>Kentaur Hotel</td><td>1582</td></tr>",
                            "<tr><td>Kentaur Hotel</td><td>650</td></tr>",
                            "<tr><td>Kentaur Hotel</td><td>736</td></tr>",
                            "<tr><td>Kentaur Hotel</td><td>950</td></tr>",
                            "<tr><td>Kentaur Hotel</td><td>1234</td></tr>",
                            "<tr><td>Kentaur Hotel</td><td>1264</td></tr>",
                            "<tr><td>Kentaur Hotel</td><td>638</td></tr>",
                            "<tr><td>Kentaur Hotel</td><td>645</td></tr>",
                            "<tr><td>Kentaur Hotel</td><td>874</td></tr>",
                            "<tr><td>Kentaur Hotel</td><td>1382</td></tr>",
                            "<tr><td>Kentaur Hotel</td><td>1580</td></tr>",
                            "<tr><td>Kentaur Hotel</td><td>1584</td></tr>",
                            "<tr><td>Kentaur Hotel</td><td>563</td></tr>",
                            "<tr><td>Kentaur Hotel</td><td>1027</td></tr>",
                            "<tr><td>Kentaur Hotel</td><td>1324</td></tr>",
                            "<tr><td>Kentaur Hotel</td><td>885</td></tr>",
                            "<tr><td>Kentaur Hotel</td><td>1055</td></tr>",
                            "<tr><td>Kentaur Hotel</td><td>1225</td></tr>",
                            "<tr><td>Kentaur Hotel</td><td>1246</td></tr>",
                            "<tr><td>Kentaur Hotel</td><td>585</td></tr>",
                            "<tr><td>Kentaur Hotel</td><td>704</td></tr>",
                            "<tr><td>Kentaur Hotel</td><td>814</td></tr>",
                            "<tr><td>Kentaur Hotel</td><td>1325</td></tr>",
                            "<tr><td>Kentaur Hotel</td><td>1333</td></tr>",
                            "<tr><td>Kentaur Hotel</td><td>1365</td></tr>",
                            "<tr><td>Kentaur Hotel</td><td>1457</td></tr>",
                            "<tr><td>Kentaur Hotel</td><td>860</td></tr>",
                            "<tr><td>Kentaur Hotel</td><td>1006</td></tr>",
                            "<tr><td>Kentaur Hotel</td><td>1092</td></tr>",
                            "<tr><td>Kentaur Hotel</td><td>1126</td></tr>",
                            "<tr><td>Kentaur Hotel</td><td>681</td></tr>",
                            "<tr><td>Kentaur Hotel</td><td>712</td></tr>",
                            "<tr><td>Kentaur Hotel</td><td>1009</td></tr>",
                            "<tr><td>Kentaur Hotel</td><td>902</td></tr>",
                            "<tr><td>Kentaur Hotel</td><td>961</td></tr>",
                            "<tr><td>Kentaur Hotel</td><td>1318</td></tr>",
                            "<tr><td>Kentaur Hotel</td><td>1396</td></tr>",
                            "<tr><td>Kentaur Hotel</td><td>714</td></tr>",
                            "<tr><td>Kentaur Hotel</td><td>1000</td></tr>",
                            "<tr><td>Kentaur Hotel</td><td>1159</td></tr>",
                            "<tr><td>Kentaur Hotel</td><td>1331</td></tr>",
                            "<tr><td>Kentaur Hotel</td><td>595</td></tr>",
                            "<tr><td>Kentaur Hotel</td><td>797</td></tr>",
                            "<tr><td>Kentaur Hotel</td><td>830</td></tr>",
                            "<tr><td>Kentaur Hotel</td><td>847</td></tr>",
                            "<tr><td>Kentaur Hotel</td><td>877</td></tr>",
                            "<tr><td>Kentaur Hotel</td><td>940</td></tr>",
                            "<tr><td>Kentaur Hotel</td><td>963</td></tr>",
                            "<tr><td>Kentaur Hotel</td><td>1093</td></tr>",
                            "<tr><td>Kentaur Hotel</td><td>1179</td></tr>",
                            "<tr><td>Kentaur Hotel</td><td>1013</td></tr>",
                            "<tr><td>Kentaur Hotel</td><td>1412</td></tr>",
                            "<tr><td>Kentaur Hotel</td><td>1458</td></tr>",
                            "<tr><td>Kentaur Hotel</td><td>683</td></tr>",
                            "<tr><td>Kentaur Hotel</td><td>976</td></tr>",
                            "<tr><td>Kentaur Hotel</td><td>1557</td></tr>",
                            "<tr><td>Kentaur Hotel</td><td>593</td></tr>",
                            "<tr><td>Kentaur Hotel</td><td>698</td></tr>",
                            "<tr><td>Kentaur Hotel</td><td>982</td></tr>",
                            "<tr><td>Kentaur Hotel</td><td>1104</td></tr>",
                            "<tr><td>Kentaur Hotel</td><td>1439</td></tr>",
                            "<tr><td>Kentaur Hotel</td><td>1461</td></tr>",
                            "<tr><td>Kentaur Hotel</td><td>568</td></tr>",
                            "<tr><td>Kentaur Hotel</td><td>646</td></tr>",
                            "<tr><td>Kentaur Hotel</td><td>700</td></tr>",
                            "<tr><td>Kentaur Hotel</td><td>1268</td></tr>",
                            "<tr><td>Kentaur Hotel</td><td>1281</td></tr>",
                            "<tr><td>Kentaur Hotel</td><td>1577</td></tr>",
                            "<tr><td>Kentaur Hotel</td><td>583</td></tr>",
                            "<tr><td>Kentaur Hotel</td><td>1054</td></tr>",
                            "<tr><td>Kentaur Hotel</td><td>1229</td></tr>",
                            "<tr><td>Kentaur Hotel</td><td>1345</td></tr>",
                            "<tr><td>Kentaur Hotel</td><td>1447</td></tr>",
                            "<tr><td>Kentaur Hotel</td><td>667</td></tr>",
                            "<tr><td>Kentaur Hotel</td><td>887</td></tr>",
                            "<tr><td>Kentaur Hotel</td><td>929</td></tr>",
                            "<tr><td>Kentaur Hotel</td><td>983</td></tr>",
                            "<tr><td>Kentaur Hotel</td><td>1071</td></tr>",
                            "<tr><td>Kentaur Hotel</td><td>1279</td></tr>",
                            "<tr><td>Kentaur Hotel</td><td>1367</td></tr>",
                            "<tr><td>Kentaur Hotel</td><td>1366</td></tr>",
                            "<tr><td>Kentaur Hotel</td><td>1443</td></tr>",
                            "<tr><td>Kentaur Hotel</td><td>1464</td></tr>",
                            "<tr><td>Kentaur Hotel</td><td>1506</td></tr>",
                            "<tr><td>Kentaur Hotel</td><td>1562</td></tr>",
                            "<tr><td>Kentaur Hotel</td><td>862</td></tr>",
                            "<tr><td>Kentaur Hotel</td><td>871</td></tr>",
                            "<tr><td>Kentaur Hotel</td><td>997</td></tr>",
                            "<tr><td>Kentaur Hotel</td><td>1277</td></tr>",
                            "<tr><td>Kentaur Hotel</td><td>1341</td></tr>",
                            "<tr><td>Kentaur Hotel</td><td>1406</td></tr>",
                            "<tr><td>Kentaur Hotel</td><td>572</td></tr>",
                            "<tr><td>Kentaur Hotel</td><td>674</td></tr>",
                            "<tr><td>Kentaur Hotel</td><td>798</td></tr>",
                            "<tr><td>Kentaur Hotel</td><td>869</td></tr>",
                            "<tr><td>Kentaur Hotel</td><td>878</td></tr>",
                            "<tr><td>Kentaur Hotel</td><td>995</td></tr>",
                            "<tr><td>Kentaur Hotel</td><td>1119</td></tr>",
                            "<tr><td>Kentaur Hotel</td><td>1379</td></tr>",
                            "<tr><td>Kentaur Hotel</td><td>819</td></tr>",
                            "<tr><td>Kentaur Hotel</td><td>954</td></tr>",
                            "<tr><td>Kentaur Hotel</td><td>1376</td></tr>",
                            "<tr><td>Kentaur Hotel</td><td>1384</td></tr>",
                            "<tr><td>Szieszta Apartmanház</td><td>647</td></tr>",
                            "<tr><td>Szieszta Apartmanház</td><td>1059</td></tr>",
                            "<tr><td>Szieszta Apartmanház</td><td>1320</td></tr>",
                            "<tr><td>Szieszta Apartmanház</td><td>1513</td></tr>",
                            "<tr><td>Szieszta Apartmanház</td><td>859</td></tr>",
                            "<tr><td>Szieszta Apartmanház</td><td>1057</td></tr>",
                            "<tr><td>Szieszta Apartmanház</td><td>1079</td></tr>",
                            "<tr><td>Szieszta Apartmanház</td><td>1108</td></tr>",
                            "<tr><td>Szieszta Apartmanház</td><td>1453</td></tr>",
                            "<tr><td>Szieszta Apartmanház</td><td>558</td></tr>",
                            "<tr><td>Szieszta Apartmanház</td><td>844</td></tr>",
                            "<tr><td>Szieszta Apartmanház</td><td>1103</td></tr>",
                            "<tr><td>Szieszta Apartmanház</td><td>1349</td></tr>",
                            "<tr><td>Szieszta Apartmanház</td><td>1456</td></tr>",
                            "<tr><td>Szieszta Apartmanház</td><td>757</td></tr>",
                            "<tr><td>Szieszta Apartmanház</td><td>866</td></tr>",
                            "<tr><td>Szieszta Apartmanház</td><td>1196</td></tr>",
                            "<tr><td>Szieszta Apartmanház</td><td>1273</td></tr>",
                            "<tr><td>Szieszta Apartmanház</td><td>1300</td></tr>",
                            "<tr><td>Szieszta Apartmanház</td><td>1359</td></tr>",
                            "<tr><td>Szieszta Apartmanház</td><td>1548</td></tr>",
                            "<tr><td>Szieszta Apartmanház</td><td>1575</td></tr>",
                            "<tr><td>Szieszta Apartmanház</td><td>817</td></tr>",
                            "<tr><td>Szieszta Apartmanház</td><td>1037</td></tr>",
                            "<tr><td>Szieszta Apartmanház</td><td>1101</td></tr>",
                            "<tr><td>Szieszta Apartmanház</td><td>1189</td></tr>",
                            "<tr><td>Szieszta Apartmanház</td><td>1253</td></tr>",
                            "<tr><td>Szieszta Apartmanház</td><td>1269</td></tr>",
                            "<tr><td>Szieszta Apartmanház</td><td>1399</td></tr>",
                            "<tr><td>Szieszta Apartmanház</td><td>1521</td></tr>",
                            "<tr><td>Szieszta Apartmanház</td><td>729</td></tr>",
                            "<tr><td>Szieszta Apartmanház</td><td>1174</td></tr>",
                            "<tr><td>Szieszta Apartmanház</td><td>1299</td></tr>",
                            "<tr><td>Szieszta Apartmanház</td><td>1405</td></tr>",
                            "<tr><td>Hotel Három Hattyú</td><td>636</td></tr>",
                            "<tr><td>Hotel Három Hattyú</td><td>732</td></tr>",
                            "<tr><td>Hotel Három Hattyú</td><td>1213</td></tr>",
                            "<tr><td>Hotel Három Hattyú</td><td>1397</td></tr>",
                            "<tr><td>Hotel Három Hattyú</td><td>809</td></tr>",
                            "<tr><td>Hotel Három Hattyú</td><td>841</td></tr>",
                            "<tr><td>Hotel Három Hattyú</td><td>942</td></tr>",
                            "<tr><td>Hotel Három Hattyú</td><td>1016</td></tr>",
                            "<tr><td>Hotel Három Hattyú</td><td>1527</td></tr>",
                            "<tr><td>Hotel Három Hattyú</td><td>1555</td></tr>",
                            "<tr><td>Hotel Három Hattyú</td><td>741</td></tr>",
                            "<tr><td>Hotel Három Hattyú</td><td>1169</td></tr>",
                            "<tr><td>Hotel Három Hattyú</td><td>1217</td></tr>",
                            "<tr><td>Hotel Három Hattyú</td><td>1355</td></tr>",
                            "<tr><td>Hotel Három Hattyú</td><td>1391</td></tr>",
                            "<tr><td>Hotel Három Hattyú</td><td>616</td></tr>",
                            "<tr><td>Hotel Három Hattyú</td><td>665</td></tr>",
                            "<tr><td>Hotel Három Hattyú</td><td>727</td></tr>",
                            "<tr><td>Hotel Három Hattyú</td><td>975</td></tr>",
                            "<tr><td>Hotel Három Hattyú</td><td>1241</td></tr>",
                            "<tr><td>Hotel Három Hattyú</td><td>1305</td></tr>",
                            "<tr><td>Hotel Három Hattyú</td><td>1312</td></tr>",
                            "<tr><td>Hotel Három Hattyú</td><td>1368</td></tr>",
                            "<tr><td>Hotel Három Hattyú</td><td>1518</td></tr>",
                            "<tr><td>Hotel Három Hattyú</td><td>1564</td></tr>",
                            "<tr><td>Hotel Három Hattyú</td><td>656</td></tr>",
                            "<tr><td>Hotel Három Hattyú</td><td>1048</td></tr>",
                            "<tr><td>Hotel Három Hattyú</td><td>1097</td></tr>",
                            "<tr><td>Hotel Három Hattyú</td><td>1543</td></tr>",
                            "<tr><td>Hotel Három Hattyú</td><td>607</td></tr>",
                            "<tr><td>Hotel Három Hattyú</td><td>623</td></tr>",
                            "<tr><td>Hotel Három Hattyú</td><td>671</td></tr>",
                            "<tr><td>Hotel Három Hattyú</td><td>780</td></tr>",
                            "<tr><td>Hotel Három Hattyú</td><td>1378</td></tr>",
                            "<tr><td>Hotel Három Hattyú</td><td>1438</td></tr>",
                            "<tr><td>Hotel Három Hattyú</td><td>1569</td></tr>",
                            "<tr><td>Hotel Három Hattyú</td><td>635</td></tr>",
                            "<tr><td>Hotel Három Hattyú</td><td>718</td></tr>",
                            "<tr><td>Hotel Három Hattyú</td><td>726</td></tr>",
                            "<tr><td>Hotel Három Hattyú</td><td>836</td></tr>",
                            "<tr><td>Hotel Három Hattyú</td><td>1395</td></tr>",
                            "<tr><td>Hotel Három Hattyú</td><td>1417</td></tr>",
                            "<tr><td>Hotel Három Hattyú</td><td>1528</td></tr>",
                            "<tr><td>Hotel Három Hattyú</td><td>631</td></tr>",
                            "<tr><td>Hotel Három Hattyú</td><td>884</td></tr>",
                            "<tr><td>Hotel Három Hattyú</td><td>1050</td></tr>",
                            "<tr><td>Hotel Három Hattyú</td><td>1402</td></tr>",
                            "<tr><td>Hotel Három Hattyú</td><td>632</td></tr>",
                            "<tr><td>Hotel Három Hattyú</td><td>691</td></tr>",
                            "<tr><td>Hotel Három Hattyú</td><td>1072</td></tr>",
                            "<tr><td>Hotel Három Hattyú</td><td>1408</td></tr>",
                            "<tr><td>Hotel Három Hattyú</td><td>1486</td></tr>",
                            "<tr><td>Hotel Három Hattyú</td><td>597</td></tr>",
                            "<tr><td>Hotel Három Hattyú</td><td>637</td></tr>",
                            "<tr><td>Hotel Három Hattyú</td><td>1315</td></tr>",
                            "<tr><td>Hotel Három Hattyú</td><td>1482</td></tr>",
                            "<tr><td>Hotel Három Hattyú</td><td>715</td></tr>",
                            "<tr><td>Hotel Három Hattyú</td><td>1332</td></tr>",
                            "<tr><td>Hotel Három Hattyú</td><td>1516</td></tr>",
                            "<tr><td>Hotel Három Hattyú</td><td>689</td></tr>",
                            "<tr><td>Hotel Három Hattyú</td><td>1343</td></tr>",
                            "<tr><td>Hotel Három Hattyú</td><td>972</td></tr>",
                            "<tr><td>Hotel Három Hattyú</td><td>992</td></tr>",
                            "<tr><td>Hotel Három Hattyú</td><td>1398</td></tr>",
                            "<tr><td>Hotel Három Hattyú</td><td>1485</td></tr>",
                            "<tr><td>Hotel Három Hattyú</td><td>837</td></tr>",
                            "<tr><td>Hotel Három Hattyú</td><td>1180</td></tr>",
                            "<tr><td>Hotel Három Hattyú</td><td>1522</td></tr>",
                            "<tr><td>Hotel Három Hattyú</td><td>1532</td></tr>",
                            "<tr><td>Hotel Három Hattyú</td><td>618</td></tr>",
                            "<tr><td>Hotel Három Hattyú</td><td>1525</td></tr>",
                            "<tr><td>Hotel Három Hattyú</td><td>610</td></tr>",
                            "<tr><td>Hotel Három Hattyú</td><td>708</td></tr>",
                            "<tr><td>Hotel Három Hattyú</td><td>1228</td></tr>",
                            "<tr><td>Hotel Három Hattyú</td><td>1271</td></tr>",
                            "<tr><td>Hotel Három Hattyú</td><td>1372</td></tr>",
                            "<tr><td>Hotel Három Hattyú</td><td>1510</td></tr>",
                            "<tr><td>Hotel Három Hattyú</td><td>586</td></tr>",
                            "<tr><td>Hotel Három Hattyú</td><td>1250</td></tr>",
                            "<tr><td>Hotel Három Hattyú</td><td>1354</td></tr>",
                            "<tr><td>Hotel Három Hattyú</td><td>1452</td></tr>",
                            "<tr><td>Hotel Három Hattyú</td><td>1494</td></tr>",
                            "<tr><td>Hotel Három Hattyú</td><td>1102</td></tr>",
                            "<tr><td>Hotel Három Hattyú</td><td>1392</td></tr>",
                            "<tr><td>Hotel Három Hattyú</td><td>614</td></tr>",
                            "<tr><td>Hotel Három Hattyú</td><td>621</td></tr>",
                            "<tr><td>Hotel Három Hattyú</td><td>654</td></tr>",
                            "<tr><td>Hotel Három Hattyú</td><td>810</td></tr>",
                            "<tr><td>Hotel Három Hattyú</td><td>1083</td></tr>",
                            "<tr><td>Hotel Három Hattyú</td><td>1298</td></tr>",
                            "<tr><td>Hotel Három Hattyú</td><td>1560</td></tr>",
                            "<tr><td>Hotel Három Hattyú</td><td>685</td></tr>",
                            "<tr><td>Hotel Három Hattyú</td><td>931</td></tr>",
                            "<tr><td>Hotel Három Hattyú</td><td>964</td></tr>",
                            "<tr><td>Hotel Három Hattyú</td><td>1041</td></tr>",
                            "<tr><td>Hotel Három Hattyú</td><td>1109</td></tr>",
                            "<tr><td>Hotel Három Hattyú</td><td>1162</td></tr>",
                            "<tr><td>Hotel Három Hattyú</td><td>1424</td></tr>",
                            "<tr><td>Hotel Három Hattyú</td><td>1489</td></tr>",
                            "<tr><td>Hotel Három Hattyú</td><td>605</td></tr>",
                            "<tr><td>Hotel Három Hattyú</td><td>786</td></tr>",
                            "<tr><td>Hotel Három Hattyú</td><td>959</td></tr>",
                            "<tr><td>Hotel Három Hattyú</td><td>1296</td></tr>",
                            "<tr><td>Hotel Három Hattyú</td><td>1353</td></tr>",
                            "<tr><td>Hotel Három Hattyú</td><td>776</td></tr>",
                            "<tr><td>Hotel Három Hattyú</td><td>801</td></tr>",
                            "<tr><td>Hotel Három Hattyú</td><td>921</td></tr>",
                            "<tr><td>Hotel Három Hattyú</td><td>1124</td></tr>",
                            "<tr><td>Hotel Három Hattyú</td><td>1530</td></tr>",
                            "<tr><td>Hotel Három Hattyú</td><td>1029</td></tr>",
                            "<tr><td>Hotel Három Hattyú</td><td>1085</td></tr>",
                            "<tr><td>Hotel Három Hattyú</td><td>1263</td></tr>",
                            "<tr><td>Hotel Három Hattyú</td><td>1495</td></tr>",
                            "<tr><td>Hotel Három Hattyú</td><td>1499</td></tr>",
                            "<tr><td>Hotel Három Hattyú</td><td>737</td></tr>",
                            "<tr><td>Hotel Három Hattyú</td><td>827</td></tr>",
                            "<tr><td>Hotel Három Hattyú</td><td>966</td></tr>",
                            "<tr><td>Hotel Három Hattyú</td><td>1540</td></tr>",
                            "<tr><td>Hotel Három Hattyú</td><td>596</td></tr>",
                            "<tr><td>Hotel Három Hattyú</td><td>943</td></tr>",
                            "<tr><td>Hotel Három Hattyú</td><td>1121</td></tr>",
                            "<tr><td>Hotel Három Hattyú</td><td>1154</td></tr>",
                            "<tr><td>Hotel Három Hattyú</td><td>1352</td></tr>",
                            "<tr><td>Hotel Három Hattyú</td><td>1554</td></tr>",
                            "<tr><td>Hotel Három Hattyú</td><td>1566</td></tr>",
                            "<tr><td>Hotel Három Hattyú</td><td>1455</td></tr>",
                            "<tr><td>Hotel Három Hattyú</td><td>1501</td></tr>",
                            "<tr><td>Hotel Három Hattyú</td><td>612</td></tr>",
                            "<tr><td>Hotel Három Hattyú</td><td>617</td></tr>",
                            "<tr><td>Hotel Három Hattyú</td><td>953</td></tr>",
                            "<tr><td>Hotel Három Hattyú</td><td>962</td></tr>",
                            "<tr><td>Hotel Három Hattyú</td><td>1002</td></tr>",
                            "<tr><td>Hotel Három Hattyú</td><td>1192</td></tr>",
                            "<tr><td>Hotel Három Hattyú</td><td>1247</td></tr>",
                            "<tr><td>Hotel Három Hattyú</td><td>1468</td></tr>",
                            "<tr><td>Hotel Három Hattyú</td><td>716</td></tr>",
                            "<tr><td>Hotel Három Hattyú</td><td>864</td></tr>",
                            "<tr><td>Hotel Három Hattyú</td><td>994</td></tr>",
                            "<tr><td>Hotel Három Hattyú</td><td>996</td></tr>",
                            "<tr><td>Hotel Három Hattyú</td><td>1374</td></tr>",
                            "<tr><td>Hotel Három Hattyú</td><td>1472</td></tr>",
                            "<tr><td>Hotel Három Hattyú</td><td>1481</td></tr>",
                            "<tr><td>Hotel Három Hattyú</td><td>706</td></tr>",
                            "<tr><td>Hotel Három Hattyú</td><td>722</td></tr>",
                            "<tr><td>Hotel Három Hattyú</td><td>1026</td></tr>",
                            "<tr><td>Hotel Három Hattyú</td><td>1413</td></tr>",
                            "<tr><td>Hotel Három Hattyú</td><td>1488</td></tr>",
                            "<tr><td>Hotel Három Hattyú</td><td>762</td></tr>",
                            "<tr><td>Hotel Három Hattyú</td><td>998</td></tr>",
                            "<tr><td>Hotel Három Hattyú</td><td>1089</td></tr>",
                            "<tr><td>Hotel Három Hattyú</td><td>1339</td></tr>",
                            "<tr><td>Hotel Három Hattyú</td><td>1483</td></tr>",
                            "<tr><td>Hotel Három Hattyú</td><td>1493</td></tr>",
                            "<tr><td>Hotel Három Hattyú</td><td>735</td></tr>",
                            "<tr><td>Hotel Három Hattyú</td><td>739</td></tr>",
                            "<tr><td>Hotel Három Hattyú</td><td>858</td></tr>",
                            "<tr><td>Hotel Három Hattyú</td><td>1373</td></tr>",
                            "<tr><td>Hotel Három Hattyú</td><td>1393</td></tr>",
                            "<tr><td>Hotel Három Hattyú</td><td>1049</td></tr>",
                            "<tr><td>Hotel Három Hattyú</td><td>1128</td></tr>",
                            "<tr><td>Hotel Három Hattyú</td><td>1215</td></tr>",
                            "<tr><td>Hotel Három Hattyú</td><td>1007</td></tr>",
                            "<tr><td>Hotel Három Hattyú</td><td>1036</td></tr>",
                            "<tr><td>Hotel Három Hattyú</td><td>1062</td></tr>",
                            "<tr><td>Hotel Három Hattyú</td><td>1166</td></tr>",
                            "<tr><td>Hotel Három Hattyú</td><td>1209</td></tr>",
                            "<tr><td>Hotel Három Hattyú</td><td>1245</td></tr>",
                            "<tr><td>Hotel Három Hattyú</td><td>1337</td></tr>",
                            "<tr><td>Hotel Három Hattyú</td><td>1385</td></tr>",
                            "<tr><td>Hotel Három Hattyú</td><td>1440</td></tr>",
                            "<tr><td>Hotel Három Hattyú</td><td>587</td></tr>",
                            "<tr><td>Hotel Három Hattyú</td><td>923</td></tr>",
                            "<tr><td>Hotel Három Hattyú</td><td>967</td></tr>",
                            "<tr><td>Hotel Három Hattyú</td><td>1223</td></tr>",
                            "<tr><td>Hotel Három Hattyú</td><td>1282</td></tr>",
                            "<tr><td>Hotel Három Hattyú</td><td>861</td></tr>",
                            "<tr><td>Hotel Három Hattyú</td><td>1210</td></tr>",
                            "<tr><td>Hotel Három Hattyú</td><td>1330</td></tr>",
                            "<tr><td>Hotel Három Hattyú</td><td>1403</td></tr>",
                            "<tr><td>Hotel Három Hattyú</td><td>1419</td></tr>",
                            "<tr><td>Hotel Három Hattyú</td><td>1531</td></tr>",
                            "<tr><td>Hotel Három Hattyú</td><td>576</td></tr>",
                            "<tr><td>Hotel Három Hattyú</td><td>754</td></tr>",
                            "<tr><td>Hotel Három Hattyú</td><td>806</td></tr>",
                            "<tr><td>Hotel Három Hattyú</td><td>1134</td></tr>",
                            "<tr><td>Hotel Három Hattyú</td><td>1364</td></tr>",
                            "<tr><td>Hotel Három Hattyú</td><td>1428</td></tr>",
                            "<tr><td>Hotel Három Hattyú</td><td>1500</td></tr>",
                            "<tr><td>Hotel Három Hattyú</td><td>643</td></tr>",
                            "<tr><td>Hotel Három Hattyú</td><td>853</td></tr>",
                            "<tr><td>Hotel Három Hattyú</td><td>879</td></tr>",
                            "<tr><td>Hotel Három Hattyú</td><td>1579</td></tr>",
                            "<tr><td>Hotel Három Hattyú</td><td>1034</td></tr>",
                            "<tr><td>Hotel Három Hattyú</td><td>1226</td></tr>",
                            "<tr><td>Hotel Három Hattyú</td><td>1286</td></tr>",
                            "<tr><td>Hotel Három Hattyú</td><td>717</td></tr>",
                            "<tr><td>Hotel Három Hattyú</td><td>815</td></tr>",
                            "<tr><td>Hotel Három Hattyú</td><td>1574</td></tr>",
                            "<tr><td>Hotel Három Hattyú</td><td>1583</td></tr>",
                            "<tr><td>Hotel Három Hattyú</td><td>1290</td></tr>",
                            "<tr><td>Hotel Három Hattyú</td><td>723</td></tr>",
                            "<tr><td>Hotel Három Hattyú</td><td>1360</td></tr>",
                            "<tr><td>Hotel Három Hattyú</td><td>1445</td></tr>",
                            "<tr><td>Hotel Három Hattyú</td><td>1509</td></tr>",
                            "<tr><td>Jáde panzió</td><td>580</td></tr>",
                            "<tr><td>Jáde panzió</td><td>613</td></tr>",
                            "<tr><td>Jáde panzió</td><td>779</td></tr>",
                            "<tr><td>Jáde panzió</td><td>910</td></tr>",
                            "<tr><td>Jáde panzió</td><td>1040</td></tr>",
                            "<tr><td>Jáde panzió</td><td>1475</td></tr>",
                            "<tr><td>Jáde panzió</td><td>559</td></tr>",
                            "<tr><td>Jáde panzió</td><td>655</td></tr>",
                            "<tr><td>Jáde panzió</td><td>760</td></tr>",
                            "<tr><td>Jáde panzió</td><td>881</td></tr>",
                            "<tr><td>Jáde panzió</td><td>1474</td></tr>",
                            "<tr><td>Jáde panzió</td><td>619</td></tr>",
                            "<tr><td>Jáde panzió</td><td>999</td></tr>",
                            "<tr><td>Jáde panzió</td><td>1090</td></tr>",
                            "<tr><td>Jáde panzió</td><td>1111</td></tr>",
                            "<tr><td>Jáde panzió</td><td>1301</td></tr>",
                            "<tr><td>Jáde panzió</td><td>1519</td></tr>",
                            "<tr><td>Jáde panzió</td><td>909</td></tr>",
                            "<tr><td>Jáde panzió</td><td>988</td></tr>",
                            "<tr><td>Jáde panzió</td><td>1149</td></tr>",
                            "<tr><td>Jáde panzió</td><td>1306</td></tr>",
                            "<tr><td>Jáde panzió</td><td>1363</td></tr>",
                            "<tr><td>Jáde panzió</td><td>1409</td></tr>",
                            "<tr><td>Jáde panzió</td><td>1004</td></tr>",
                            "<tr><td>Jáde panzió</td><td>1024</td></tr>",
                            "<tr><td>Jáde panzió</td><td>1045</td></tr>",
                            "<tr><td>Jáde panzió</td><td>1178</td></tr>",
                            "<tr><td>Jáde panzió</td><td>1219</td></tr>",
                            "<tr><td>Jáde panzió</td><td>1535</td></tr>",
                            "<tr><td>Lagúna Hotel</td><td>724</td></tr>",
                            "<tr><td>Lagúna Hotel</td><td>849</td></tr>",
                            "<tr><td>Lagúna Hotel</td><td>1289</td></tr>",
                            "<tr><td>Lagúna Hotel</td><td>584</td></tr>",
                            "<tr><td>Lagúna Hotel</td><td>661</td></tr>",
                            "<tr><td>Lagúna Hotel</td><td>1046</td></tr>",
                            "<tr><td>Lagúna Hotel</td><td>582</td></tr>",
                            "<tr><td>Lagúna Hotel</td><td>649</td></tr>",
                            "<tr><td>Lagúna Hotel</td><td>657</td></tr>",
                            "<tr><td>Lagúna Hotel</td><td>1014</td></tr>",
                            "<tr><td>Lagúna Hotel</td><td>1201</td></tr>",
                            "<tr><td>Lagúna Hotel</td><td>1280</td></tr>",
                            "<tr><td>Lagúna Hotel</td><td>768</td></tr>",
                            "<tr><td>Lagúna Hotel</td><td>796</td></tr>",
                            "<tr><td>Lagúna Hotel</td><td>1256</td></tr>",
                            "<tr><td>Lagúna Hotel</td><td>1283</td></tr>",
                            "<tr><td>Lagúna Hotel</td><td>1294</td></tr>",
                            "<tr><td>Lagúna Hotel</td><td>1358</td></tr>",
                            "<tr><td>Lagúna Hotel</td><td>1370</td></tr>",
                            "<tr><td>Lagúna Hotel</td><td>579</td></tr>",
                            "<tr><td>Lagúna Hotel</td><td>745</td></tr>",
                            "<tr><td>Lagúna Hotel</td><td>751</td></tr>",
                            "<tr><td>Lagúna Hotel</td><td>1042</td></tr>",
                            "<tr><td>Lagúna Hotel</td><td>1064</td></tr>",
                            "<tr><td>Lagúna Hotel</td><td>1433</td></tr>",
                            "<tr><td>Lagúna Hotel</td><td>1450</td></tr>",
                            "<tr><td>Lagúna Hotel</td><td>733</td></tr>",
                            "<tr><td>Lagúna Hotel</td><td>915</td></tr>",
                            "<tr><td>Lagúna Hotel</td><td>1098</td></tr>",
                            "<tr><td>Lagúna Hotel</td><td>1156</td></tr>",
                            "<tr><td>Lagúna Hotel</td><td>1259</td></tr>",
                            "<tr><td>Lagúna Hotel</td><td>1357</td></tr>",
                            "<tr><td>Lagúna Hotel</td><td>1361</td></tr>",
                            "<tr><td>Lagúna Hotel</td><td>1371</td></tr>",
                            "<tr><td>Lagúna Hotel</td><td>565</td></tr>",
                            "<tr><td>Lagúna Hotel</td><td>761</td></tr>",
                            "<tr><td>Lagúna Hotel</td><td>784</td></tr>",
                            "<tr><td>Lagúna Hotel</td><td>1401</td></tr>",
                            "<tr><td>Lagúna Hotel</td><td>908</td></tr>",
                            "<tr><td>Lagúna Hotel</td><td>1254</td></tr>",
                            "<tr><td>Lagúna Hotel</td><td>1369</td></tr>",
                            "<tr><td>Lagúna Hotel</td><td>1545</td></tr>",
                            "<tr><td>Lagúna Hotel</td><td>980</td></tr>",
                            "<tr><td>Lagúna Hotel</td><td>1155</td></tr>",
                            "<tr><td>Lagúna Hotel</td><td>1193</td></tr>",
                            "<tr><td>Lagúna Hotel</td><td>1222</td></tr>",
                            "<tr><td>Lagúna Hotel</td><td>1313</td></tr>",
                            "<tr><td>Lagúna Hotel</td><td>1394</td></tr>",
                            "<tr><td>Lagúna Hotel</td><td>1448</td></tr>",
                            "<tr><td>Lagúna Hotel</td><td>581</td></tr>",
                            "<tr><td>Lagúna Hotel</td><td>1087</td></tr>",
                            "<tr><td>Lagúna Hotel</td><td>1199</td></tr>",
                            "<tr><td>Lagúna Hotel</td><td>1297</td></tr>",
                            "<tr><td>Lagúna Hotel</td><td>1572</td></tr>",
                            "<tr><td>Lagúna Hotel</td><td>703</td></tr>",
                            "<tr><td>Lagúna Hotel</td><td>1077</td></tr>",
                            "<tr><td>Lagúna Hotel</td><td>1120</td></tr>",
                            "<tr><td>Lagúna Hotel</td><td>1145</td></tr>",
                            "<tr><td>Lagúna Hotel</td><td>1338</td></tr>",
                            "<tr><td>Lagúna Hotel</td><td>1471</td></tr>",
                            "<tr><td>Lagúna Hotel</td><td>664</td></tr>",
                            "<tr><td>Lagúna Hotel</td><td>789</td></tr>",
                            "<tr><td>Lagúna Hotel</td><td>804</td></tr>",
                            "<tr><td>Lagúna Hotel</td><td>890</td></tr>",
                            "<tr><td>Lagúna Hotel</td><td>1032</td></tr>",
                            "<tr><td>Lagúna Hotel</td><td>1479</td></tr>",
                            "<tr><td>Lagúna Hotel</td><td>771</td></tr>",
                            "<tr><td>Lagúna Hotel</td><td>678</td></tr>",
                            "<tr><td>Lagúna Hotel</td><td>765</td></tr>",
                            "<tr><td>Lagúna Hotel</td><td>783</td></tr>",
                            "<tr><td>Lagúna Hotel</td><td>808</td></tr>",
                            "<tr><td>Lagúna Hotel</td><td>812</td></tr>",
                            "<tr><td>Lagúna Hotel</td><td>1578</td></tr>",
                            "<tr><td>Lagúna Hotel</td><td>591</td></tr>",
                            "<tr><td>Lagúna Hotel</td><td>652</td></tr>",
                            "<tr><td>Lagúna Hotel</td><td>833</td></tr>",
                            "<tr><td>Lagúna Hotel</td><td>834</td></tr>",
                            "<tr><td>Lagúna Hotel</td><td>843</td></tr>",
                            "<tr><td>Lagúna Hotel</td><td>1514</td></tr>",
                            "<tr><td>Lagúna Hotel</td><td>1146</td></tr>",
                            "<tr><td>Lagúna Hotel</td><td>641</td></tr>",
                            "<tr><td>Lagúna Hotel</td><td>1100</td></tr>",
                            "<tr><td>Lagúna Hotel</td><td>1105</td></tr>",
                            "<tr><td>Lagúna Hotel</td><td>1177</td></tr>",
                            "<tr><td>Lagúna Hotel</td><td>1203</td></tr>",
                            "<tr><td>Lagúna Hotel</td><td>1432</td></tr>",
                            "<tr><td>Lagúna Hotel</td><td>893</td></tr>",
                            "<tr><td>Lagúna Hotel</td><td>1058</td></tr>",
                            "<tr><td>Lagúna Hotel</td><td>1115</td></tr>",
                            "<tr><td>Lagúna Hotel</td><td>730</td></tr>",
                            "<tr><td>Lagúna Hotel</td><td>1160</td></tr>",
                            "<tr><td>Lagúna Hotel</td><td>1197</td></tr>",
                            "<tr><td>Lagúna Hotel</td><td>1558</td></tr>",
                            "<tr><td>Lagúna Hotel</td><td>594</td></tr>",
                            "<tr><td>Lagúna Hotel</td><td>969</td></tr>",
                            "<tr><td>Lagúna Hotel</td><td>1460</td></tr>",
                            "<tr><td>Lagúna Hotel</td><td>1470</td></tr>",
                            "<tr><td>Lagúna Hotel</td><td>1507</td></tr>",
                            "<tr><td>Lagúna Hotel</td><td>968</td></tr>",
                            "<tr><td>Lagúna Hotel</td><td>1061</td></tr>",
                            "<tr><td>Lagúna Hotel</td><td>1168</td></tr>",
                            "<tr><td>Lagúna Hotel</td><td>1262</td></tr>",
                            "<tr><td>Lagúna Hotel</td><td>1539</td></tr>",
                            "<tr><td>Lagúna Hotel</td><td>575</td></tr>",
                            "<tr><td>Lagúna Hotel</td><td>577</td></tr>",
                            "<tr><td>Lagúna Hotel</td><td>1112</td></tr>",
                            "<tr><td>Lagúna Hotel</td><td>1310</td></tr>",
                            "<tr><td>Lagúna Hotel</td><td>1541</td></tr>",
                            "<tr><td>Lagúna Hotel</td><td>588</td></tr>",
                            "<tr><td>Lagúna Hotel</td><td>692</td></tr>",
                            "<tr><td>Lagúna Hotel</td><td>907</td></tr>",
                            "<tr><td>Lagúna Hotel</td><td>1490</td></tr>",
                            "<tr><td>Lagúna Hotel</td><td>1561</td></tr>",
                            "<tr><td>Lagúna Hotel</td><td>1462</td></tr>",
                            "<tr><td>Lagúna Hotel</td><td>956</td></tr>",
                            "<tr><td>Lagúna Hotel</td><td>648</td></tr>",
                            "<tr><td>Lagúna Hotel</td><td>1025</td></tr>",
                            "<tr><td>Lagúna Hotel</td><td>1047</td></tr>",
                            "<tr><td>Lagúna Hotel</td><td>1240</td></tr>",
                            "<tr><td>Lagúna Hotel</td><td>1551</td></tr>",
                            "<tr><td>Lagúna Hotel</td><td>825</td></tr>",
                            "<tr><td>Lagúna Hotel</td><td>840</td></tr>",
                            "<tr><td>Lagúna Hotel</td><td>1117</td></tr>",
                            "<tr><td>Lagúna Hotel</td><td>NULL</td></tr>",
                            "<tr><td>Partiszél Vendégház</td><td>720</td></tr>",
                            "<tr><td>Partiszél Vendégház</td><td>922</td></tr>",
                            "<tr><td>Partiszél Vendégház</td><td>927</td></tr>",
                            "<tr><td>Partiszél Vendégház</td><td>933</td></tr>",
                            "<tr><td>Partiszél Vendégház</td><td>1565</td></tr>",
                            "<tr><td>Partiszél Vendégház</td><td>639</td></tr>",
                            "<tr><td>Partiszél Vendégház</td><td>653</td></tr>",
                            "<tr><td>Partiszél Vendégház</td><td>911</td></tr>",
                            "<tr><td>Partiszél Vendégház</td><td>1068</td></tr>",
                            "<tr><td>Partiszél Vendégház</td><td>1190</td></tr>",
                            "<tr><td>Partiszél Vendégház</td><td>1571</td></tr>",
                            "<tr><td>Partiszél Vendégház</td><td>599</td></tr>",
                            "<tr><td>Partiszél Vendégház</td><td>1205</td></tr>",
                            "<tr><td>Partiszél Vendégház</td><td>1400</td></tr>",
                            "<tr><td>Partiszél Vendégház</td><td>630</td></tr>",
                            "<tr><td>Partiszél Vendégház</td><td>782</td></tr>",
                            "<tr><td>Partiszél Vendégház</td><td>941</td></tr>",
                            "<tr><td>Partiszél Vendégház</td><td>1075</td></tr>",
                            "<tr><td>Partiszél Vendégház</td><td>1107</td></tr>",
                            "<tr><td>Partiszél Vendégház</td><td>1265</td></tr>",
                            "<tr><td>Partiszél Vendégház</td><td>1487</td></tr>",
                            "<tr><td>Partiszél Vendégház</td><td>570</td></tr>",
                            "<tr><td>Partiszél Vendégház</td><td>742</td></tr>",
                            "<tr><td>Partiszél Vendégház</td><td>1010</td></tr>",
                            "<tr><td>Partiszél Vendégház</td><td>1284</td></tr>",
                            "<tr><td>Partiszél Vendégház</td><td>1292</td></tr>",
                            "<tr><td>Gold Hotel</td><td>640</td></tr>",
                            "<tr><td>Gold Hotel</td><td>857</td></tr>",
                            "<tr><td>Gold Hotel</td><td>892</td></tr>",
                            "<tr><td>Gold Hotel</td><td>897</td></tr>",
                            "<tr><td>Gold Hotel</td><td>900</td></tr>",
                            "<tr><td>Gold Hotel</td><td>1141</td></tr>",
                            "<tr><td>Gold Hotel</td><td>1375</td></tr>",
                            "<tr><td>Gold Hotel</td><td>644</td></tr>",
                            "<tr><td>Gold Hotel</td><td>781</td></tr>",
                            "<tr><td>Gold Hotel</td><td>1526</td></tr>",
                            "<tr><td>Gold Hotel</td><td>854</td></tr>",
                            "<tr><td>Gold Hotel</td><td>1414</td></tr>",
                            "<tr><td>Gold Hotel</td><td>792</td></tr>",
                            "<tr><td>Gold Hotel</td><td>794</td></tr>",
                            "<tr><td>Gold Hotel</td><td>930</td></tr>",
                            "<tr><td>Gold Hotel</td><td>1249</td></tr>",
                            "<tr><td>Gold Hotel</td><td>1266</td></tr>",
                            "<tr><td>Gold Hotel</td><td>573</td></tr>",
                            "<tr><td>Gold Hotel</td><td>659</td></tr>",
                            "<tr><td>Gold Hotel</td><td>746</td></tr>",
                            "<tr><td>Gold Hotel</td><td>974</td></tr>",
                            "<tr><td>Gold Hotel</td><td>1356</td></tr>",
                            "<tr><td>Gold Hotel</td><td>1427</td></tr>",
                            "<tr><td>Gold Hotel</td><td>567</td></tr>",
                            "<tr><td>Gold Hotel</td><td>944</td></tr>",
                            "<tr><td>Gold Hotel</td><td>1194</td></tr>",
                            "<tr><td>Gold Hotel</td><td>1267</td></tr>",
                            "<tr><td>Gold Hotel</td><td>1342</td></tr>",
                            "<tr><td>Gold Hotel</td><td>574</td></tr>",
                            "<tr><td>Gold Hotel</td><td>981</td></tr>",
                            "<tr><td>Gold Hotel</td><td>1181</td></tr>",
                            "<tr><td>Gold Hotel</td><td>1329</td></tr>",
                            "<tr><td>Gold Hotel</td><td>1567</td></tr>",
                            "<tr><td>Gold Hotel</td><td>709</td></tr>",
                            "<tr><td>Gold Hotel</td><td>749</td></tr>",
                            "<tr><td>Gold Hotel</td><td>839</td></tr>",
                            "<tr><td>Gold Hotel</td><td>984</td></tr>",
                            "<tr><td>Gold Hotel</td><td>1142</td></tr>",
                            "<tr><td>Gold Hotel</td><td>1171</td></tr>",
                            "<tr><td>Gold Hotel</td><td>1336</td></tr>",
                            "<tr><td>Gold Hotel</td><td>1421</td></tr>",
                            "<tr><td>Gold Hotel</td><td>1491</td></tr>",
                            "<tr><td>Gold Hotel</td><td>669</td></tr>",
                            "<tr><td>Gold Hotel</td><td>913</td></tr>",
                            "<tr><td>Gold Hotel</td><td>1350</td></tr>",
                            "<tr><td>Gold Hotel</td><td>1429</td></tr>",
                            "<tr><td>Gold Hotel</td><td>682</td></tr>",
                            "<tr><td>Gold Hotel</td><td>917</td></tr>",
                            "<tr><td>Gold Hotel</td><td>1015</td></tr>",
                            "<tr><td>Gold Hotel</td><td>1276</td></tr>",
                            "<tr><td>Gold Hotel</td><td>799</td></tr>",
                            "<tr><td>Gold Hotel</td><td>867</td></tr>",
                            "<tr><td>Gold Hotel</td><td>1094</td></tr>",
                            "<tr><td>Gold Hotel</td><td>1133</td></tr>",
                            "<tr><td>Gold Hotel</td><td>1407</td></tr>",
                            "<tr><td>Gold Hotel</td><td>592</td></tr>",
                            "<tr><td>Gold Hotel</td><td>1143</td></tr>",
                            "<tr><td>Gold Hotel</td><td>1278</td></tr>",
                            "<tr><td>Gold Hotel</td><td>1383</td></tr>",
                            "<tr><td>Gold Hotel</td><td>1511</td></tr>",
                            "<tr><td>Gold Hotel</td><td>1570</td></tr>",
                            "<tr><td>Gold Hotel</td><td>785</td></tr>",
                            "<tr><td>Gold Hotel</td><td>831</td></tr>",
                            "<tr><td>Gold Hotel</td><td>1176</td></tr>",
                            "<tr><td>Gold Hotel</td><td>1503</td></tr>",
                            "<tr><td>Gold Hotel</td><td>816</td></tr>",
                            "<tr><td>Gold Hotel</td><td>991</td></tr>",
                            "<tr><td>Gold Hotel</td><td>1211</td></tr>",
                            "<tr><td>Gold Hotel</td><td>1242</td></tr>",
                            "<tr><td>Gold Hotel</td><td>662</td></tr>",
                            "<tr><td>Gold Hotel</td><td>1021</td></tr>",
                            "<tr><td>Gold Hotel</td><td>1497</td></tr>",
                            "<tr><td>Gold Hotel</td><td>905</td></tr>",
                            "<tr><td>Gold Hotel</td><td>1559</td></tr>",
                            "<tr><td>Gold Hotel</td><td>1563</td></tr>",
                            "<tr><td>Gold Hotel</td><td>677</td></tr>",
                            "<tr><td>Gold Hotel</td><td>731</td></tr>",
                            "<tr><td>Gold Hotel</td><td>937</td></tr>",
                            "<tr><td>Gold Hotel</td><td>958</td></tr>",
                            "<tr><td>Gold Hotel</td><td>1346</td></tr>",
                            "<tr><td>Gold Hotel</td><td>1022</td></tr>",
                            "<tr><td>Gold Hotel</td><td>571</td></tr>",
                            "<tr><td>Gold Hotel</td><td>740</td></tr>",
                            "<tr><td>Gold Hotel</td><td>928</td></tr>",
                            "<tr><td>Gold Hotel</td><td>1317</td></tr>",
                            "<tr><td>Gold Hotel</td><td>1326</td></tr>",
                            "<tr><td>Gold Hotel</td><td>1410</td></tr>",
                            "<tr><td>Gold Hotel</td><td>1422</td></tr>",
                            "<tr><td>Gold Hotel</td><td>1008</td></tr>",
                            "<tr><td>Gold Hotel</td><td>1188</td></tr>",
                            "<tr><td>Gold Hotel</td><td>1230</td></tr>",
                            "<tr><td>Gold Hotel</td><td>1231</td></tr>",
                            "<tr><td>Gold Hotel</td><td>1308</td></tr>",
                            "<tr><td>Gold Hotel</td><td>939</td></tr>",
                            "<tr><td>Gold Hotel</td><td>1067</td></tr>",
                            "<tr><td>Gold Hotel</td><td>1147</td></tr>",
                            "<tr><td>Gold Hotel</td><td>1437</td></tr>",
                            "<tr><td>Gold Hotel</td><td>608</td></tr>",
                            "<tr><td>Gold Hotel</td><td>684</td></tr>",
                            "<tr><td>Gold Hotel</td><td>880</td></tr>",
                            "<tr><td>Gold Hotel</td><td>1251</td></tr>",
                            "<tr><td>Gold Hotel</td><td>578</td></tr>",
                            "<tr><td>Gold Hotel</td><td>672</td></tr>",
                            "<tr><td>Gold Hotel</td><td>679</td></tr>",
                            "<tr><td>Gold Hotel</td><td>693</td></tr>",
                            "<tr><td>Gold Hotel</td><td>711</td></tr>",
                            "<tr><td>Gold Hotel</td><td>863</td></tr>",
                            "<tr><td>Gold Hotel</td><td>898</td></tr>",
                            "<tr><td>Gold Hotel</td><td>925</td></tr>",
                            "<tr><td>Gold Hotel</td><td>1125</td></tr>",
                            "<tr><td>Gold Hotel</td><td>1183</td></tr>",
                            "<tr><td>Gold Hotel</td><td>1441</td></tr>",
                            "<tr><td>Gold Hotel</td><td>1463</td></tr>",
                            "<tr><td>Gold Hotel</td><td>615</td></tr>",
                            "<tr><td>Gold Hotel</td><td>1153</td></tr>",
                            "<tr><td>Gold Hotel</td><td>1248</td></tr>",
                            "<tr><td>Gold Hotel</td><td>1467</td></tr>",
                            "<tr><td>Gold Hotel</td><td>633</td></tr>",
                            "<tr><td>Gold Hotel</td><td>695</td></tr>",
                            "<tr><td>Gold Hotel</td><td>743</td></tr>",
                            "<tr><td>Gold Hotel</td><td>766</td></tr>",
                            "<tr><td>Gold Hotel</td><td>868</td></tr>",
                            "<tr><td>Gold Hotel</td><td>957</td></tr>",
                            "<tr><td>Gold Hotel</td><td>1404</td></tr>",
                            "<tr><td>Gold Hotel</td><td>690</td></tr>",
                            "<tr><td>Gold Hotel</td><td>710</td></tr>",
                            "<tr><td>Gold Hotel</td><td>747</td></tr>",
                            "<tr><td>Gold Hotel</td><td>912</td></tr>",
                            "<tr><td>Gold Hotel</td><td>1030</td></tr>",
                            "<tr><td>Gold Hotel</td><td>1390</td></tr>",
                            "<tr><td>Gold Hotel</td><td>699</td></tr>",
                            "<tr><td>Gold Hotel</td><td>753</td></tr>",
                            "<tr><td>Gold Hotel</td><td>1204</td></tr>",
                            "<tr><td>Gold Hotel</td><td>1449</td></tr>",
                            "<tr><td>Gold Hotel</td><td>1576</td></tr>",
                            "<tr><td>Gold Hotel</td><td>600</td></tr>",
                            "<tr><td>Gold Hotel</td><td>774</td></tr>",
                            "<tr><td>Gold Hotel</td><td>989</td></tr>",
                            "<tr><td>Gold Hotel</td><td>1017</td></tr>",
                            "<tr><td>Gold Hotel</td><td>1517</td></tr>",
                            "<tr><td>Gold Hotel</td><td>1039</td></tr>",
                            "<tr><td>Gold Hotel</td><td>1302</td></tr>",
                            "<tr><td>Gold Hotel</td><td>1323</td></tr>",
                            "<tr><td>Gold Hotel</td><td>1502</td></tr>",
                            "<tr><td>Gold Hotel</td><td>1508</td></tr>",
                            "<tr><td>Gold Hotel</td><td>680</td></tr>",
                            "<tr><td>Gold Hotel</td><td>903</td></tr>",
                            "<tr><td>Gold Hotel</td><td>634</td></tr>",
                            "<tr><td>Gold Hotel</td><td>675</td></tr>",
                            "<tr><td>Gold Hotel</td><td>835</td></tr>",
                            "<tr><td>Gold Hotel</td><td>926</td></tr>",
                            "<tr><td>Gold Hotel</td><td>977</td></tr>",
                            "<tr><td>Gold Hotel</td><td>1043</td></tr>",
                            "<tr><td>Gold Hotel</td><td>1238</td></tr>",
                            "<tr><td>Gold Hotel</td><td>1095</td></tr>",
                            "<tr><td>Gold Hotel</td><td>721</td></tr>",
                            "<tr><td>Gold Hotel</td><td>842</td></tr>",
                            "<tr><td>Gold Hotel</td><td>1074</td></tr>",
                            "<tr><td>Gold Hotel</td><td>1184</td></tr>",
                            "<tr><td>Gold Hotel</td><td>1473</td></tr>",
                            "<tr><td>Gold Hotel</td><td>1484</td></tr>",
                            "<tr><td>Gold Hotel</td><td>673</td></tr>",
                            "<tr><td>Gold Hotel</td><td>952</td></tr>",
                            "<tr><td>Gold Hotel</td><td>1314</td></tr>",
                            "<tr><td>Gold Hotel</td><td>1340</td></tr>",
                            "<tr><td>Gold Hotel</td><td>764</td></tr>",
                            "<tr><td>Gold Hotel</td><td>993</td></tr>",
                            "<tr><td>Gold Hotel</td><td>1091</td></tr>",
                            "<tr><td>Gold Hotel</td><td>1172</td></tr>",
                            "<tr><td>Gold Hotel</td><td>1304</td></tr>",
                            "<tr><td>Gold Hotel</td><td>1387</td></tr>",
                            "<tr><td>Gold Hotel</td><td>978</td></tr>",
                            "<tr><td>Gold Hotel</td><td>1216</td></tr>",
                            "<tr><td>Gold Hotel</td><td>1420</td></tr>",
                            "<tr><td>Gold Hotel</td><td>1011</td></tr>",
                            "<tr><td>Gold Hotel</td><td>1065</td></tr>",
                            "<tr><td>Gold Hotel</td><td>1116</td></tr>",
                            "<tr><td>Gold Hotel</td><td>1138</td></tr>",
                            "<tr><td>Gold Hotel</td><td>1161</td></tr>",
                            "<tr><td>Gold Hotel</td><td>NULL</td></tr>",
                            "<tr><td>Gold Hotel</td><td>NULL</td></tr>",
                            "<tr><td>Gold Hotel</td><td>NULL</td></tr>",
                            "<tr><td>Gold Hotel</td><td>NULL</td></tr>",
                            "<tr><td>Gold Hotel</td><td>NULL</td></tr>",
                            "<tr><td>Gold Hotel</td><td>NULL</td></tr>",
                            "<tr><td>Gold Hotel</td><td>NULL</td></tr>",
                            "<tr><td>Gold Hotel</td><td>NULL</td></tr>",
                            "<tr><td>Gold Hotel</td><td>NULL</td></tr>",
                            "<tr><td>Gold Hotel</td><td>NULL</td></tr>",
                            "<tr><td>Gold Hotel</td><td>NULL</td></tr>",
                            "<tr><td>Gold Hotel</td><td>NULL</td></tr>",
                            "<tr><td>Gold Hotel</td><td>NULL</td></tr>",
                            "<tr><td>Gold Hotel</td><td>NULL</td></tr>",
                            "<tr><td>Gold Hotel</td><td>NULL</td></tr>",
                            "<tr><td>Gold Hotel</td><td>NULL</td></tr>",
                            "<tr><td>Riviéra Panzió</td><td>NULL</td></tr>",
                            "<tr><td>Riviéra Panzió</td><td>NULL</td></tr>",
                            "<tr><td>Riviéra Panzió</td><td>NULL</td></tr>",
                            "<tr><td>Riviéra Panzió</td><td>NULL</td></tr>",
                            "<tr><td>Riviéra Panzió</td><td>NULL</td></tr>",
                            "<tr><td>Riviéra Panzió</td><td>NULL</td></tr>",
                            "<tr><td>Riviéra Panzió</td><td>NULL</td></tr>",
                            "<tr><td>Riviéra Panzió</td><td>NULL</td></tr>",
                            "<tr><td>Riviéra Panzió</td><td>NULL</td></tr>",
                            "<tr><td>Riviéra Panzió</td><td>NULL</td></tr>",
                            "<tr><td>Riviéra Panzió</td><td>NULL</td></tr>",
                            "<tr><td>Riviéra Panzió</td><td>NULL</td></tr>",
                            "<tr><td>Nyárfás Vendégház</td><td>NULL</td></tr>",
                            "<tr><td>Nyárfás Vendégház</td><td>NULL</td></tr>",
                            "<tr><td>Nyárfás Vendégház</td><td>NULL</td></tr>",
                            "<tr><td>Nyárfás Vendégház</td><td>NULL</td></tr>",
                            "<tr><td>Tímárház Panzió</td><td>NULL</td></tr>",
                            "<tr><td>Tímárház Panzió</td><td>NULL</td></tr>",
                            "<tr><td>Tímárház Panzió</td><td>NULL</td></tr>",
                            "<tr><td>Tímárház Panzió</td><td>NULL</td></tr>",
                            "<tr><td>Tímárház Panzió</td><td>NULL</td></tr>",
                            "<tr><td>Tímárház Panzió</td><td>NULL</td></tr>",
                            "<tr><td>Tímárház Panzió</td><td>NULL</td></tr>",
                            "<tr><td>Tímárház Panzió</td><td>NULL</td></tr>",
                            "<tr><td>Tímárház Panzió</td><td>NULL</td></tr>",
                            "<tr><td>Tímárház Panzió</td><td>NULL</td></tr>",
                            "<tr><td>Tímárház Panzió</td><td>NULL</td></tr>",
                            "<tr><td>Tímárház Panzió</td><td>NULL</td></tr>",
                            "<tr><td>Bagoly Hotel</td><td>NULL</td></tr>",
                            "<tr><td>Bagoly Hotel</td><td>NULL</td></tr>",
                            "<tr><td>Bagoly Hotel</td><td>NULL</td></tr>",
                            "<tr><td>Bagoly Hotel</td><td>NULL</td></tr>",
                            "<tr><td>Bagoly Hotel</td><td>NULL</td></tr>",
                            "<tr><td>Bagoly Hotel</td><td>NULL</td></tr>",
                            "<tr><td>Bagoly Hotel</td><td>NULL</td></tr>",
                            "<tr><td>Bagoly Hotel</td><td>NULL</td></tr>",
                            "<tr><td>Bagoly Hotel</td><td>NULL</td></tr>",
                            "<tr><td>Bagoly Hotel</td><td>NULL</td></tr>",
                            "<tr><td>Bagoly Hotel</td><td>NULL</td></tr>",
                            "<tr><td>Bagoly Hotel</td><td>NULL</td></tr>",
                            "<tr><td>Bagoly Hotel</td><td>NULL</td></tr>",
                            "<tr><td>Bagoly Hotel</td><td>NULL</td></tr>",
                            "<tr><td>Bagoly Hotel</td><td>NULL</td></tr>",
                            "<tr><td>Bagoly Hotel</td><td>NULL</td></tr>",
                            "<tr><td>Bagoly Hotel</td><td>NULL</td></tr>",
                            "<tr><td>Bagoly Hotel</td><td>NULL</td></tr>",
                            "<tr><td>Bagoly Hotel</td><td>NULL</td></tr>",
                            "<tr><td>Bagoly Hotel</td><td>NULL</td></tr>",
                            "<tr><td>Szarvas Hotel</td><td>NULL</td></tr>",
                            "<tr><td>Szarvas Hotel</td><td>NULL</td></tr>",
                            "<tr><td>Szarvas Hotel</td><td>NULL</td></tr>",
                            "<tr><td>Szarvas Hotel</td><td>NULL</td></tr>",
                            "<tr><td>Szarvas Hotel</td><td>NULL</td></tr>",
                            "<tr><td>Szarvas Hotel</td><td>NULL</td></tr>",
                            "<tr><td>Szarvas Hotel</td><td>NULL</td></tr>",
                            "<tr><td>Szarvas Hotel</td><td>NULL</td></tr>",
                            "<tr><td>Szarvas Hotel</td><td>NULL</td></tr>",
                            "<tr><td>Szarvas Hotel</td><td>NULL</td></tr>",
                            "<tr><td>Szarvas Hotel</td><td>NULL</td></tr>",
                            "<tr><td>Szarvas Hotel</td><td>NULL</td></tr>",
                            "<tr><td>Szarvas Hotel</td><td>NULL</td></tr>",
                            "<tr><td>Szarvas Hotel</td><td>NULL</td></tr>",
                            "<tr><td>Szarvas Hotel</td><td>NULL</td></tr>",
                            "<tr><td>Fortuna Apartman</td><td>NULL</td></tr>",
                            "<tr><td>Fortuna Apartman</td><td>NULL</td></tr>",
                            "<tr><td>Fortuna Apartman</td><td>NULL</td></tr>",
                            "<tr><td>Nyárfás Vendégház</td><td>NULL</td></tr>",
                            "<tr><td>Nyárfás Vendégház</td><td>NULL</td></tr>",
                            "<tr><td>Nyárfás Vendégház</td><td>NULL</td></tr>",
                            "<tr><td>Nyárfás Vendégház</td><td>NULL</td></tr>",
                            "<tr><td>Kollégium</td><td>NULL</td></tr>",
                            "<tr><td>Kollégium</td><td>NULL</td></tr>",
                            "<tr><td>Kollégium</td><td>NULL</td></tr>",
                            "<tr><td>Kollégium</td><td>NULL</td></tr>",
                            "<tr><td>Kollégium</td><td>NULL</td></tr>",
                            "<tr><td>Kollégium</td><td>NULL</td></tr>",
                            "<tr><td>Kollégium</td><td>NULL</td></tr>",
                            "<tr><td>Kollégium</td><td>NULL</td></tr>",
                            "<tr><td>Kollégium</td><td>NULL</td></tr>",
                            "<tr><td>Kollégium</td><td>NULL</td></tr>",
                            "</table>"
                        ]
                    }
                }
            ],
            "execution_count": 18
        }
    ]
}