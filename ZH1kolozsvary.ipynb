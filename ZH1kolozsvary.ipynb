{
    "metadata": {
        "kernelspec": {
            "name": "SQL",
            "display_name": "SQL",
            "language": "sql"
        },
        "language_info": {
            "name": "sql",
            "version": ""
        }
    },
    "nbformat_minor": 2,
    "nbformat": 4,
    "cells": [
        {
            "cell_type": "markdown",
            "source": [
                "Listázzuk az \"emese\" azonosítójú ügyfél foglalásainak azonosítóit és a foglalás kezdetének dátumát!\n",
                "\n",
                "a. Egy új oszlopban jelenítsük meg, hogy mi lenne a foglalás kezdődátuma, ha azt 1 hónappal későbbre tolnánk!\n",
                "\n",
                "b. Az új oszlop neve legyen 'Módosított kezdődátum'"
            ],
            "metadata": {
                "language": "sql",
                "azdata_cell_guid": "0ef54929-ddd9-4b37-96dd-88cbfdea29de"
            },
            "attachments": {}
        },
        {
            "cell_type": "code",
            "source": [
                "SELECT UGYFEL_FK, METTOL, dateadd(month,1,METTOL) as'Módosított kezdődátum'\r\n",
                "from Foglalas\r\n",
                "where UGYFEL_FK = 'emese'"
            ],
            "metadata": {
                "azdata_cell_guid": "811dfa4b-9170-4354-9aa9-111fd7f93dd8",
                "language": "sql"
            },
            "outputs": [
                {
                    "output_type": "display_data",
                    "data": {
                        "text/html": "(7 rows affected)"
                    },
                    "metadata": {}
                },
                {
                    "output_type": "display_data",
                    "data": {
                        "text/html": "Total execution time: 00:00:00.005"
                    },
                    "metadata": {}
                },
                {
                    "output_type": "execute_result",
                    "metadata": {},
                    "execution_count": 11,
                    "data": {
                        "application/vnd.dataresource+json": {
                            "schema": {
                                "fields": [
                                    {
                                        "name": "UGYFEL_FK"
                                    },
                                    {
                                        "name": "METTOL"
                                    },
                                    {
                                        "name": "Módosított kezdődátum"
                                    }
                                ]
                            },
                            "data": [
                                {
                                    "UGYFEL_FK": "emese",
                                    "METTOL": "2016-07-22",
                                    "Módosított kezdődátum": "2016-08-22"
                                },
                                {
                                    "UGYFEL_FK": "emese",
                                    "METTOL": "2016-08-09",
                                    "Módosított kezdődátum": "2016-09-09"
                                },
                                {
                                    "UGYFEL_FK": "emese",
                                    "METTOL": "2016-09-27",
                                    "Módosított kezdődátum": "2016-10-27"
                                },
                                {
                                    "UGYFEL_FK": "emese",
                                    "METTOL": "2016-11-05",
                                    "Módosított kezdődátum": "2016-12-05"
                                },
                                {
                                    "UGYFEL_FK": "emese",
                                    "METTOL": "2016-11-23",
                                    "Módosított kezdődátum": "2016-12-23"
                                },
                                {
                                    "UGYFEL_FK": "emese",
                                    "METTOL": "2016-12-07",
                                    "Módosított kezdődátum": "2017-01-07"
                                },
                                {
                                    "UGYFEL_FK": "emese",
                                    "METTOL": "2017-01-30",
                                    "Módosított kezdődátum": "2017-02-28"
                                }
                            ]
                        },
                        "text/html": [
                            "<table>",
                            "<tr><th>UGYFEL_FK</th><th>METTOL</th><th>Módosított kezdődátum</th></tr>",
                            "<tr><td>emese</td><td>2016-07-22</td><td>2016-08-22</td></tr>",
                            "<tr><td>emese</td><td>2016-08-09</td><td>2016-09-09</td></tr>",
                            "<tr><td>emese</td><td>2016-09-27</td><td>2016-10-27</td></tr>",
                            "<tr><td>emese</td><td>2016-11-05</td><td>2016-12-05</td></tr>",
                            "<tr><td>emese</td><td>2016-11-23</td><td>2016-12-23</td></tr>",
                            "<tr><td>emese</td><td>2016-12-07</td><td>2017-01-07</td></tr>",
                            "<tr><td>emese</td><td>2017-01-30</td><td>2017-02-28</td></tr>",
                            "</table>"
                        ]
                    }
                }
            ],
            "execution_count": 11
        },
        {
            "cell_type": "markdown",
            "source": [
                "Egészítse ki a megkezdett lekérdezést, amely megjeleníti, hogy hány klímás szobája van az egyes szálláshelyeknek! \n",
                "\n",
                "a. A listában a szálláshely azonosítója mellett jelenjen meg a szálláshely neve és a klímás szobák száma!"
            ],
            "metadata": {
                "azdata_cell_guid": "55b0c028-c191-431a-8c12-ff99f7597c4e"
            },
            "attachments": {}
        },
        {
            "cell_type": "code",
            "source": [
                "SELECT szh.SZALLAS_ID, szh.SZALLAS_NEV, count(KLIMAS)\r\n",
                "FROM Szallashely szh JOIN Szoba sz ON szallas_fk = szallas_id\r\n",
                "where \r\n",
                "group by KLIMAS \r\n",
                "\r\n",
                ""
            ],
            "metadata": {
                "azdata_cell_guid": "82f07001-6a1f-4336-8258-4c42b170838c",
                "language": "sql"
            },
            "outputs": [
                {
                    "output_type": "error",
                    "evalue": "Msg 8120, Level 16, State 1, Line 1\r\nColumn 'Szallashely.SZALLAS_ID' is invalid in the select list because it is not contained in either an aggregate function or the GROUP BY clause.",
                    "ename": "",
                    "traceback": []
                },
                {
                    "output_type": "display_data",
                    "data": {
                        "text/html": "Total execution time: 00:00:00.001"
                    },
                    "metadata": {}
                }
            ],
            "execution_count": 17
        },
        {
            "cell_type": "markdown",
            "source": [
                "Jelenítsük meg, hogy az egyes szálláshelyeken összesen hány foglalás történt!\n",
                "\n",
                "a. Csak a szálláshely neve és a foglalásszám jelenjen meg\n",
                "\n",
                "b. Azok a szálláshelyek is jelenjenek meg, ahol nem történt foglalás (ha vannak ilyenek)"
            ],
            "metadata": {
                "language": "sql",
                "azdata_cell_guid": "8c953701-0957-4c3a-bd90-37de22d0fb94"
            },
            "attachments": {}
        },
        {
            "cell_type": "code",
            "source": [
                "select \r\n",
                "from \r\n",
                "where "
            ],
            "metadata": {
                "azdata_cell_guid": "a1f36abf-8da5-4a4d-8483-f93efddf4bce",
                "language": "sql"
            },
            "outputs": [],
            "execution_count": null
        }
    ]
}